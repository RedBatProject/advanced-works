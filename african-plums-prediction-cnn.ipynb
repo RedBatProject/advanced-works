{
 "cells": [
  {
   "cell_type": "code",
   "execution_count": 1,
   "id": "67e82c5b",
   "metadata": {
    "_cell_guid": "b1076dfc-b9ad-4769-8c92-a6c4dae69d19",
    "_uuid": "8f2839f25d086af736a60e9eeb907d3b93b6e0e5",
    "execution": {
     "iopub.execute_input": "2024-11-12T19:01:02.735562Z",
     "iopub.status.busy": "2024-11-12T19:01:02.734959Z",
     "iopub.status.idle": "2024-11-12T19:01:18.777345Z",
     "shell.execute_reply": "2024-11-12T19:01:18.776191Z"
    },
    "papermill": {
     "duration": 16.055711,
     "end_time": "2024-11-12T19:01:18.780093",
     "exception": false,
     "start_time": "2024-11-12T19:01:02.724382",
     "status": "completed"
    },
    "tags": []
   },
   "outputs": [],
   "source": [
    "import numpy as np\n",
    "import pandas as pd\n",
    "import tensorflow as tf\n",
    "\n",
    "import os\n",
    "import cv2\n",
    "\n",
    "from glob import glob"
   ]
  },
  {
   "cell_type": "code",
   "execution_count": 2,
   "id": "b0964031",
   "metadata": {
    "execution": {
     "iopub.execute_input": "2024-11-12T19:01:18.797598Z",
     "iopub.status.busy": "2024-11-12T19:01:18.796813Z",
     "iopub.status.idle": "2024-11-12T19:01:34.918901Z",
     "shell.execute_reply": "2024-11-12T19:01:34.917253Z"
    },
    "papermill": {
     "duration": 16.134179,
     "end_time": "2024-11-12T19:01:34.922106",
     "exception": false,
     "start_time": "2024-11-12T19:01:18.787927",
     "status": "completed"
    },
    "tags": []
   },
   "outputs": [
    {
     "name": "stdout",
     "output_type": "stream",
     "text": [
      "Collecting wolta\r\n",
      "  Downloading wolta-0.3.5-py3-none-any.whl.metadata (960 bytes)\r\n",
      "Requirement already satisfied: scikit-learn in /opt/conda/lib/python3.10/site-packages (from wolta) (1.2.2)\r\n",
      "Requirement already satisfied: pandas in /opt/conda/lib/python3.10/site-packages (from wolta) (2.2.3)\r\n",
      "Requirement already satisfied: numpy in /opt/conda/lib/python3.10/site-packages (from wolta) (1.26.4)\r\n",
      "Requirement already satisfied: hyperopt in /opt/conda/lib/python3.10/site-packages (from wolta) (0.2.7)\r\n",
      "Requirement already satisfied: catboost in /opt/conda/lib/python3.10/site-packages (from wolta) (1.2.7)\r\n",
      "Collecting imblearn (from wolta)\r\n",
      "  Downloading imblearn-0.0-py2.py3-none-any.whl.metadata (355 bytes)\r\n",
      "Requirement already satisfied: lightgbm in /opt/conda/lib/python3.10/site-packages (from wolta) (4.2.0)\r\n",
      "Requirement already satisfied: matplotlib in /opt/conda/lib/python3.10/site-packages (from wolta) (3.7.5)\r\n",
      "Requirement already satisfied: opencv-python in /opt/conda/lib/python3.10/site-packages (from wolta) (4.10.0.84)\r\n",
      "Requirement already satisfied: graphviz in /opt/conda/lib/python3.10/site-packages (from catboost->wolta) (0.20.3)\r\n",
      "Requirement already satisfied: scipy in /opt/conda/lib/python3.10/site-packages (from catboost->wolta) (1.14.1)\r\n",
      "Requirement already satisfied: plotly in /opt/conda/lib/python3.10/site-packages (from catboost->wolta) (5.22.0)\r\n",
      "Requirement already satisfied: six in /opt/conda/lib/python3.10/site-packages (from catboost->wolta) (1.16.0)\r\n",
      "Requirement already satisfied: python-dateutil>=2.8.2 in /opt/conda/lib/python3.10/site-packages (from pandas->wolta) (2.9.0.post0)\r\n",
      "Requirement already satisfied: pytz>=2020.1 in /opt/conda/lib/python3.10/site-packages (from pandas->wolta) (2024.1)\r\n",
      "Requirement already satisfied: tzdata>=2022.7 in /opt/conda/lib/python3.10/site-packages (from pandas->wolta) (2024.1)\r\n",
      "Requirement already satisfied: networkx>=2.2 in /opt/conda/lib/python3.10/site-packages (from hyperopt->wolta) (3.3)\r\n",
      "Requirement already satisfied: future in /opt/conda/lib/python3.10/site-packages (from hyperopt->wolta) (1.0.0)\r\n",
      "Requirement already satisfied: tqdm in /opt/conda/lib/python3.10/site-packages (from hyperopt->wolta) (4.66.4)\r\n",
      "Requirement already satisfied: cloudpickle in /opt/conda/lib/python3.10/site-packages (from hyperopt->wolta) (3.0.0)\r\n",
      "Requirement already satisfied: py4j in /opt/conda/lib/python3.10/site-packages (from hyperopt->wolta) (0.10.9.7)\r\n",
      "Requirement already satisfied: imbalanced-learn in /opt/conda/lib/python3.10/site-packages (from imblearn->wolta) (0.12.3)\r\n",
      "Requirement already satisfied: contourpy>=1.0.1 in /opt/conda/lib/python3.10/site-packages (from matplotlib->wolta) (1.2.1)\r\n",
      "Requirement already satisfied: cycler>=0.10 in /opt/conda/lib/python3.10/site-packages (from matplotlib->wolta) (0.12.1)\r\n",
      "Requirement already satisfied: fonttools>=4.22.0 in /opt/conda/lib/python3.10/site-packages (from matplotlib->wolta) (4.53.0)\r\n",
      "Requirement already satisfied: kiwisolver>=1.0.1 in /opt/conda/lib/python3.10/site-packages (from matplotlib->wolta) (1.4.5)\r\n",
      "Requirement already satisfied: packaging>=20.0 in /opt/conda/lib/python3.10/site-packages (from matplotlib->wolta) (21.3)\r\n",
      "Requirement already satisfied: pillow>=6.2.0 in /opt/conda/lib/python3.10/site-packages (from matplotlib->wolta) (10.3.0)\r\n",
      "Requirement already satisfied: pyparsing>=2.3.1 in /opt/conda/lib/python3.10/site-packages (from matplotlib->wolta) (3.1.2)\r\n",
      "Requirement already satisfied: joblib>=1.1.1 in /opt/conda/lib/python3.10/site-packages (from scikit-learn->wolta) (1.4.2)\r\n",
      "Requirement already satisfied: threadpoolctl>=2.0.0 in /opt/conda/lib/python3.10/site-packages (from scikit-learn->wolta) (3.5.0)\r\n",
      "Requirement already satisfied: tenacity>=6.2.0 in /opt/conda/lib/python3.10/site-packages (from plotly->catboost->wolta) (8.3.0)\r\n",
      "Downloading wolta-0.3.5-py3-none-any.whl (17 kB)\r\n",
      "Downloading imblearn-0.0-py2.py3-none-any.whl (1.9 kB)\r\n",
      "Installing collected packages: imblearn, wolta\r\n",
      "Successfully installed imblearn-0.0 wolta-0.3.5\r\n"
     ]
    }
   ],
   "source": [
    "!pip install wolta"
   ]
  },
  {
   "cell_type": "code",
   "execution_count": 3,
   "id": "75eadd75",
   "metadata": {
    "execution": {
     "iopub.execute_input": "2024-11-12T19:01:34.942525Z",
     "iopub.status.busy": "2024-11-12T19:01:34.942010Z",
     "iopub.status.idle": "2024-11-12T19:01:34.957957Z",
     "shell.execute_reply": "2024-11-12T19:01:34.956790Z"
    },
    "papermill": {
     "duration": 0.029703,
     "end_time": "2024-11-12T19:01:34.960915",
     "exception": false,
     "start_time": "2024-11-12T19:01:34.931212",
     "status": "completed"
    },
    "tags": []
   },
   "outputs": [],
   "source": [
    "pd.DataFrame(np.random.randn(100)).to_csv('./t.csv')"
   ]
  },
  {
   "cell_type": "markdown",
   "id": "c2432106",
   "metadata": {
    "papermill": {
     "duration": 0.008428,
     "end_time": "2024-11-12T19:01:34.978236",
     "exception": false,
     "start_time": "2024-11-12T19:01:34.969808",
     "status": "completed"
    },
    "tags": []
   },
   "source": [
    "# Data Analysis"
   ]
  },
  {
   "cell_type": "code",
   "execution_count": 4,
   "id": "ad65243c",
   "metadata": {
    "execution": {
     "iopub.execute_input": "2024-11-12T19:01:34.998011Z",
     "iopub.status.busy": "2024-11-12T19:01:34.997480Z",
     "iopub.status.idle": "2024-11-12T19:01:36.324852Z",
     "shell.execute_reply": "2024-11-12T19:01:36.323434Z"
    },
    "papermill": {
     "duration": 1.3407,
     "end_time": "2024-11-12T19:01:36.327855",
     "exception": false,
     "start_time": "2024-11-12T19:01:34.987155",
     "status": "completed"
    },
    "tags": []
   },
   "outputs": [
    {
     "name": "stdout",
     "output_type": "stream",
     "text": [
      "/kaggle/input\n",
      "/kaggle/input/african-plums-quality-and-defect-assessment-data\n",
      "/kaggle/input/african-plums-quality-and-defect-assessment-data/african_plums_dataset\n",
      "/kaggle/input/african-plums-quality-and-defect-assessment-data/african_plums_dataset/african_plums\n",
      "/kaggle/input/african-plums-quality-and-defect-assessment-data/african_plums_dataset/african_plums/unripe\n",
      "/kaggle/input/african-plums-quality-and-defect-assessment-data/african_plums_dataset/african_plums/cracked\n",
      "/kaggle/input/african-plums-quality-and-defect-assessment-data/african_plums_dataset/african_plums/rotten\n",
      "/kaggle/input/african-plums-quality-and-defect-assessment-data/african_plums_dataset/african_plums/spotted\n",
      "/kaggle/input/african-plums-quality-and-defect-assessment-data/african_plums_dataset/african_plums/bruised\n",
      "/kaggle/input/african-plums-quality-and-defect-assessment-data/african_plums_dataset/african_plums/unaffected\n"
     ]
    }
   ],
   "source": [
    "for dirname, _, _ in os.walk('/kaggle/input'):\n",
    "    print(dirname)"
   ]
  },
  {
   "cell_type": "code",
   "execution_count": 5,
   "id": "42fdb3d1",
   "metadata": {
    "execution": {
     "iopub.execute_input": "2024-11-12T19:01:36.350025Z",
     "iopub.status.busy": "2024-11-12T19:01:36.349585Z",
     "iopub.status.idle": "2024-11-12T19:01:36.380574Z",
     "shell.execute_reply": "2024-11-12T19:01:36.379287Z"
    },
    "papermill": {
     "duration": 0.046474,
     "end_time": "2024-11-12T19:01:36.383644",
     "exception": false,
     "start_time": "2024-11-12T19:01:36.337170",
     "status": "completed"
    },
    "tags": []
   },
   "outputs": [
    {
     "name": "stdout",
     "output_type": "stream",
     "text": [
      "4507\n"
     ]
    }
   ],
   "source": [
    "d_paths = glob('/kaggle/input/african-plums-quality-and-defect-assessment-data/african_plums_dataset/african_plums/*')\n",
    "i_paths = []\n",
    "\n",
    "for d_path in d_paths:\n",
    "    i_paths.extend(glob('{}/*'.format(d_path)))\n",
    "\n",
    "print(len(i_paths))"
   ]
  },
  {
   "cell_type": "code",
   "execution_count": 6,
   "id": "6412ca8c",
   "metadata": {
    "execution": {
     "iopub.execute_input": "2024-11-12T19:01:36.404871Z",
     "iopub.status.busy": "2024-11-12T19:01:36.404385Z",
     "iopub.status.idle": "2024-11-12T19:01:37.474548Z",
     "shell.execute_reply": "2024-11-12T19:01:37.473260Z"
    },
    "papermill": {
     "duration": 1.08391,
     "end_time": "2024-11-12T19:01:37.477232",
     "exception": false,
     "start_time": "2024-11-12T19:01:36.393322",
     "status": "completed"
    },
    "tags": []
   },
   "outputs": [
    {
     "data": {
      "text/plain": [
       "False"
      ]
     },
     "execution_count": 6,
     "metadata": {},
     "output_type": "execute_result"
    }
   ],
   "source": [
    "from wolta.visual_tools import dataset_size_same\n",
    "\n",
    "dataset_size_same(i_paths)"
   ]
  },
  {
   "cell_type": "code",
   "execution_count": 7,
   "id": "8e02edfa",
   "metadata": {
    "execution": {
     "iopub.execute_input": "2024-11-12T19:01:37.498129Z",
     "iopub.status.busy": "2024-11-12T19:01:37.497671Z",
     "iopub.status.idle": "2024-11-12T19:01:37.998816Z",
     "shell.execute_reply": "2024-11-12T19:01:37.997535Z"
    },
    "papermill": {
     "duration": 0.514626,
     "end_time": "2024-11-12T19:01:38.001518",
     "exception": false,
     "start_time": "2024-11-12T19:01:37.486892",
     "status": "completed"
    },
    "tags": []
   },
   "outputs": [
    {
     "data": {
      "text/plain": [
       "False"
      ]
     },
     "execution_count": 7,
     "metadata": {},
     "output_type": "execute_result"
    }
   ],
   "source": [
    "from wolta.visual_tools import dataset_ratio_same\n",
    "\n",
    "dataset_ratio_same(i_paths)"
   ]
  },
  {
   "cell_type": "markdown",
   "id": "167f7520",
   "metadata": {
    "papermill": {
     "duration": 0.009525,
     "end_time": "2024-11-12T19:01:38.020992",
     "exception": false,
     "start_time": "2024-11-12T19:01:38.011467",
     "status": "completed"
    },
    "tags": []
   },
   "source": [
    "# Image Processing and Stacking"
   ]
  },
  {
   "cell_type": "code",
   "execution_count": 8,
   "id": "12fabab9",
   "metadata": {
    "execution": {
     "iopub.execute_input": "2024-11-12T19:01:38.042432Z",
     "iopub.status.busy": "2024-11-12T19:01:38.041984Z",
     "iopub.status.idle": "2024-11-12T19:02:29.726902Z",
     "shell.execute_reply": "2024-11-12T19:02:29.725640Z"
    },
    "papermill": {
     "duration": 51.699072,
     "end_time": "2024-11-12T19:02:29.729827",
     "exception": false,
     "start_time": "2024-11-12T19:01:38.030755",
     "status": "completed"
    },
    "tags": []
   },
   "outputs": [],
   "source": [
    "from wolta.visual_tools import crop\n",
    "\n",
    "for d_path in d_paths:\n",
    "    d_name = d_path.split('/')[-1]\n",
    "    save_dir = '/kaggle/working/{}'.format(d_name)\n",
    "    os.makedirs(save_dir)\n",
    "    \n",
    "    i_paths = glob('{}/*'.format(d_path))\n",
    "    for i_path in i_paths:\n",
    "        i_name = i_path.split('/')[-1]\n",
    "        img = cv2.imread(i_path)\n",
    "        \n",
    "        edge = min(img.shape[0], img.shape[1])\n",
    "        \n",
    "        img = crop(img, crop_width=edge, crop_height=edge, get_img=True)\n",
    "        img = cv2.resize(img, (128, 128))\n",
    "        cv2.imwrite('{}/{}'.format(save_dir, i_name), img)"
   ]
  },
  {
   "cell_type": "markdown",
   "id": "0229646f",
   "metadata": {
    "papermill": {
     "duration": 0.009234,
     "end_time": "2024-11-12T19:02:29.749353",
     "exception": false,
     "start_time": "2024-11-12T19:02:29.740119",
     "status": "completed"
    },
    "tags": []
   },
   "source": [
    "# Data Splitting"
   ]
  },
  {
   "cell_type": "code",
   "execution_count": 9,
   "id": "240bae42",
   "metadata": {
    "execution": {
     "iopub.execute_input": "2024-11-12T19:02:29.770459Z",
     "iopub.status.busy": "2024-11-12T19:02:29.769978Z",
     "iopub.status.idle": "2024-11-12T19:02:30.334088Z",
     "shell.execute_reply": "2024-11-12T19:02:30.332999Z"
    },
    "papermill": {
     "duration": 0.578184,
     "end_time": "2024-11-12T19:02:30.337023",
     "exception": false,
     "start_time": "2024-11-12T19:02:29.758839",
     "status": "completed"
    },
    "tags": []
   },
   "outputs": [
    {
     "name": "stdout",
     "output_type": "stream",
     "text": [
      "Found 4507 files belonging to 6 classes.\n",
      "Using 2705 files for training.\n",
      "Using 1802 files for validation.\n"
     ]
    }
   ],
   "source": [
    "train_ds, test_val_ds = tf.keras.utils.image_dataset_from_directory(\n",
    "    '/kaggle/working',\n",
    "    validation_split=0.4,\n",
    "    subset='both',\n",
    "    seed=123,\n",
    "    image_size=(128, 128),\n",
    "    batch_size=16\n",
    ")"
   ]
  },
  {
   "cell_type": "code",
   "execution_count": 10,
   "id": "3e051a5c",
   "metadata": {
    "execution": {
     "iopub.execute_input": "2024-11-12T19:02:30.360861Z",
     "iopub.status.busy": "2024-11-12T19:02:30.360404Z",
     "iopub.status.idle": "2024-11-12T19:02:30.375888Z",
     "shell.execute_reply": "2024-11-12T19:02:30.374624Z"
    },
    "papermill": {
     "duration": 0.030872,
     "end_time": "2024-11-12T19:02:30.378910",
     "exception": false,
     "start_time": "2024-11-12T19:02:30.348038",
     "status": "completed"
    },
    "tags": []
   },
   "outputs": [],
   "source": [
    "test_val_ds_size = tf.data.experimental.cardinality(test_val_ds).numpy()\n",
    "test_val_split_size = int(0.5 * test_val_ds_size)\n",
    "\n",
    "validation_ds = test_val_ds.take(test_val_split_size)\n",
    "test_ds = test_val_ds.skip(test_val_split_size)"
   ]
  },
  {
   "cell_type": "code",
   "execution_count": 11,
   "id": "97240d03",
   "metadata": {
    "execution": {
     "iopub.execute_input": "2024-11-12T19:02:30.401444Z",
     "iopub.status.busy": "2024-11-12T19:02:30.400941Z",
     "iopub.status.idle": "2024-11-12T19:02:30.407081Z",
     "shell.execute_reply": "2024-11-12T19:02:30.405930Z"
    },
    "papermill": {
     "duration": 0.020613,
     "end_time": "2024-11-12T19:02:30.409922",
     "exception": false,
     "start_time": "2024-11-12T19:02:30.389309",
     "status": "completed"
    },
    "tags": []
   },
   "outputs": [
    {
     "name": "stdout",
     "output_type": "stream",
     "text": [
      "['bruised', 'cracked', 'rotten', 'spotted', 'unaffected', 'unripe']\n"
     ]
    }
   ],
   "source": [
    "names = train_ds.class_names\n",
    "num_classes = len(names)\n",
    "\n",
    "print(names)"
   ]
  },
  {
   "cell_type": "code",
   "execution_count": 12,
   "id": "be4fc517",
   "metadata": {
    "execution": {
     "iopub.execute_input": "2024-11-12T19:02:30.432311Z",
     "iopub.status.busy": "2024-11-12T19:02:30.431134Z",
     "iopub.status.idle": "2024-11-12T19:02:30.452806Z",
     "shell.execute_reply": "2024-11-12T19:02:30.451595Z"
    },
    "papermill": {
     "duration": 0.035553,
     "end_time": "2024-11-12T19:02:30.455397",
     "exception": false,
     "start_time": "2024-11-12T19:02:30.419844",
     "status": "completed"
    },
    "tags": []
   },
   "outputs": [],
   "source": [
    "AUTOTUNE = tf.data.AUTOTUNE\n",
    "\n",
    "train_ds = train_ds.cache().shuffle(1000).prefetch(buffer_size=AUTOTUNE)\n",
    "validation_ds = validation_ds.cache().prefetch(buffer_size=AUTOTUNE)\n",
    "test_ds = test_ds.cache().prefetch(buffer_size=AUTOTUNE)"
   ]
  },
  {
   "cell_type": "markdown",
   "id": "6a3e6d2f",
   "metadata": {
    "papermill": {
     "duration": 0.010158,
     "end_time": "2024-11-12T19:02:30.475748",
     "exception": false,
     "start_time": "2024-11-12T19:02:30.465590",
     "status": "completed"
    },
    "tags": []
   },
   "source": [
    "# Model"
   ]
  },
  {
   "cell_type": "code",
   "execution_count": 13,
   "id": "3fc415db",
   "metadata": {
    "execution": {
     "iopub.execute_input": "2024-11-12T19:02:30.497290Z",
     "iopub.status.busy": "2024-11-12T19:02:30.496822Z",
     "iopub.status.idle": "2024-11-12T19:02:30.505934Z",
     "shell.execute_reply": "2024-11-12T19:02:30.504736Z"
    },
    "papermill": {
     "duration": 0.023252,
     "end_time": "2024-11-12T19:02:30.508919",
     "exception": false,
     "start_time": "2024-11-12T19:02:30.485667",
     "status": "completed"
    },
    "tags": []
   },
   "outputs": [],
   "source": [
    "from tensorflow import keras\n",
    "from tensorflow.keras import layers\n",
    "from tensorflow.keras.models import Sequential"
   ]
  },
  {
   "cell_type": "code",
   "execution_count": 14,
   "id": "1dc18b78",
   "metadata": {
    "execution": {
     "iopub.execute_input": "2024-11-12T19:02:30.531120Z",
     "iopub.status.busy": "2024-11-12T19:02:30.530655Z",
     "iopub.status.idle": "2024-11-12T19:02:30.631687Z",
     "shell.execute_reply": "2024-11-12T19:02:30.630647Z"
    },
    "papermill": {
     "duration": 0.115366,
     "end_time": "2024-11-12T19:02:30.634658",
     "exception": false,
     "start_time": "2024-11-12T19:02:30.519292",
     "status": "completed"
    },
    "tags": []
   },
   "outputs": [],
   "source": [
    "model = Sequential([\n",
    "    layers.Input(shape=[128, 128, 3]),\n",
    "    layers.Rescaling(1./255),\n",
    "    layers.Conv2D(16, 3, padding='same', activation='relu'),\n",
    "    layers.MaxPooling2D(),\n",
    "    layers.Conv2D(32, 3, padding='same', activation='relu'),\n",
    "    layers.MaxPooling2D(),\n",
    "    layers.Conv2D(64, 3, padding='same', activation='relu'),\n",
    "    layers.MaxPooling2D(),\n",
    "    layers.Flatten(),\n",
    "    layers.Dense(128, activation='relu'),\n",
    "    layers.Dense(num_classes)\n",
    "])"
   ]
  },
  {
   "cell_type": "code",
   "execution_count": 15,
   "id": "76597724",
   "metadata": {
    "execution": {
     "iopub.execute_input": "2024-11-12T19:02:30.656453Z",
     "iopub.status.busy": "2024-11-12T19:02:30.655951Z",
     "iopub.status.idle": "2024-11-12T19:02:30.671294Z",
     "shell.execute_reply": "2024-11-12T19:02:30.670108Z"
    },
    "papermill": {
     "duration": 0.029511,
     "end_time": "2024-11-12T19:02:30.674153",
     "exception": false,
     "start_time": "2024-11-12T19:02:30.644642",
     "status": "completed"
    },
    "tags": []
   },
   "outputs": [],
   "source": [
    "model.compile(\n",
    "    optimizer='adam',\n",
    "    loss=tf.keras.losses.SparseCategoricalCrossentropy(from_logits=True),\n",
    "    metrics=['accuracy']\n",
    ")"
   ]
  },
  {
   "cell_type": "code",
   "execution_count": 16,
   "id": "ec0e8156",
   "metadata": {
    "execution": {
     "iopub.execute_input": "2024-11-12T19:02:30.697145Z",
     "iopub.status.busy": "2024-11-12T19:02:30.695999Z",
     "iopub.status.idle": "2024-11-12T19:02:30.728902Z",
     "shell.execute_reply": "2024-11-12T19:02:30.727759Z"
    },
    "papermill": {
     "duration": 0.046961,
     "end_time": "2024-11-12T19:02:30.731542",
     "exception": false,
     "start_time": "2024-11-12T19:02:30.684581",
     "status": "completed"
    },
    "tags": []
   },
   "outputs": [
    {
     "data": {
      "text/html": [
       "<pre style=\"white-space:pre;overflow-x:auto;line-height:normal;font-family:Menlo,'DejaVu Sans Mono',consolas,'Courier New',monospace\"><span style=\"font-weight: bold\">Model: \"sequential\"</span>\n",
       "</pre>\n"
      ],
      "text/plain": [
       "\u001b[1mModel: \"sequential\"\u001b[0m\n"
      ]
     },
     "metadata": {},
     "output_type": "display_data"
    },
    {
     "data": {
      "text/html": [
       "<pre style=\"white-space:pre;overflow-x:auto;line-height:normal;font-family:Menlo,'DejaVu Sans Mono',consolas,'Courier New',monospace\">┏━━━━━━━━━━━━━━━━━━━━━━━━━━━━━━━━━┳━━━━━━━━━━━━━━━━━━━━━━━━┳━━━━━━━━━━━━━━━┓\n",
       "┃<span style=\"font-weight: bold\"> Layer (type)                    </span>┃<span style=\"font-weight: bold\"> Output Shape           </span>┃<span style=\"font-weight: bold\">       Param # </span>┃\n",
       "┡━━━━━━━━━━━━━━━━━━━━━━━━━━━━━━━━━╇━━━━━━━━━━━━━━━━━━━━━━━━╇━━━━━━━━━━━━━━━┩\n",
       "│ rescaling (<span style=\"color: #0087ff; text-decoration-color: #0087ff\">Rescaling</span>)           │ (<span style=\"color: #00d7ff; text-decoration-color: #00d7ff\">None</span>, <span style=\"color: #00af00; text-decoration-color: #00af00\">128</span>, <span style=\"color: #00af00; text-decoration-color: #00af00\">128</span>, <span style=\"color: #00af00; text-decoration-color: #00af00\">3</span>)    │             <span style=\"color: #00af00; text-decoration-color: #00af00\">0</span> │\n",
       "├─────────────────────────────────┼────────────────────────┼───────────────┤\n",
       "│ conv2d (<span style=\"color: #0087ff; text-decoration-color: #0087ff\">Conv2D</span>)                 │ (<span style=\"color: #00d7ff; text-decoration-color: #00d7ff\">None</span>, <span style=\"color: #00af00; text-decoration-color: #00af00\">128</span>, <span style=\"color: #00af00; text-decoration-color: #00af00\">128</span>, <span style=\"color: #00af00; text-decoration-color: #00af00\">16</span>)   │           <span style=\"color: #00af00; text-decoration-color: #00af00\">448</span> │\n",
       "├─────────────────────────────────┼────────────────────────┼───────────────┤\n",
       "│ max_pooling2d (<span style=\"color: #0087ff; text-decoration-color: #0087ff\">MaxPooling2D</span>)    │ (<span style=\"color: #00d7ff; text-decoration-color: #00d7ff\">None</span>, <span style=\"color: #00af00; text-decoration-color: #00af00\">64</span>, <span style=\"color: #00af00; text-decoration-color: #00af00\">64</span>, <span style=\"color: #00af00; text-decoration-color: #00af00\">16</span>)     │             <span style=\"color: #00af00; text-decoration-color: #00af00\">0</span> │\n",
       "├─────────────────────────────────┼────────────────────────┼───────────────┤\n",
       "│ conv2d_1 (<span style=\"color: #0087ff; text-decoration-color: #0087ff\">Conv2D</span>)               │ (<span style=\"color: #00d7ff; text-decoration-color: #00d7ff\">None</span>, <span style=\"color: #00af00; text-decoration-color: #00af00\">64</span>, <span style=\"color: #00af00; text-decoration-color: #00af00\">64</span>, <span style=\"color: #00af00; text-decoration-color: #00af00\">32</span>)     │         <span style=\"color: #00af00; text-decoration-color: #00af00\">4,640</span> │\n",
       "├─────────────────────────────────┼────────────────────────┼───────────────┤\n",
       "│ max_pooling2d_1 (<span style=\"color: #0087ff; text-decoration-color: #0087ff\">MaxPooling2D</span>)  │ (<span style=\"color: #00d7ff; text-decoration-color: #00d7ff\">None</span>, <span style=\"color: #00af00; text-decoration-color: #00af00\">32</span>, <span style=\"color: #00af00; text-decoration-color: #00af00\">32</span>, <span style=\"color: #00af00; text-decoration-color: #00af00\">32</span>)     │             <span style=\"color: #00af00; text-decoration-color: #00af00\">0</span> │\n",
       "├─────────────────────────────────┼────────────────────────┼───────────────┤\n",
       "│ conv2d_2 (<span style=\"color: #0087ff; text-decoration-color: #0087ff\">Conv2D</span>)               │ (<span style=\"color: #00d7ff; text-decoration-color: #00d7ff\">None</span>, <span style=\"color: #00af00; text-decoration-color: #00af00\">32</span>, <span style=\"color: #00af00; text-decoration-color: #00af00\">32</span>, <span style=\"color: #00af00; text-decoration-color: #00af00\">64</span>)     │        <span style=\"color: #00af00; text-decoration-color: #00af00\">18,496</span> │\n",
       "├─────────────────────────────────┼────────────────────────┼───────────────┤\n",
       "│ max_pooling2d_2 (<span style=\"color: #0087ff; text-decoration-color: #0087ff\">MaxPooling2D</span>)  │ (<span style=\"color: #00d7ff; text-decoration-color: #00d7ff\">None</span>, <span style=\"color: #00af00; text-decoration-color: #00af00\">16</span>, <span style=\"color: #00af00; text-decoration-color: #00af00\">16</span>, <span style=\"color: #00af00; text-decoration-color: #00af00\">64</span>)     │             <span style=\"color: #00af00; text-decoration-color: #00af00\">0</span> │\n",
       "├─────────────────────────────────┼────────────────────────┼───────────────┤\n",
       "│ flatten (<span style=\"color: #0087ff; text-decoration-color: #0087ff\">Flatten</span>)               │ (<span style=\"color: #00d7ff; text-decoration-color: #00d7ff\">None</span>, <span style=\"color: #00af00; text-decoration-color: #00af00\">16384</span>)          │             <span style=\"color: #00af00; text-decoration-color: #00af00\">0</span> │\n",
       "├─────────────────────────────────┼────────────────────────┼───────────────┤\n",
       "│ dense (<span style=\"color: #0087ff; text-decoration-color: #0087ff\">Dense</span>)                   │ (<span style=\"color: #00d7ff; text-decoration-color: #00d7ff\">None</span>, <span style=\"color: #00af00; text-decoration-color: #00af00\">128</span>)            │     <span style=\"color: #00af00; text-decoration-color: #00af00\">2,097,280</span> │\n",
       "├─────────────────────────────────┼────────────────────────┼───────────────┤\n",
       "│ dense_1 (<span style=\"color: #0087ff; text-decoration-color: #0087ff\">Dense</span>)                 │ (<span style=\"color: #00d7ff; text-decoration-color: #00d7ff\">None</span>, <span style=\"color: #00af00; text-decoration-color: #00af00\">6</span>)              │           <span style=\"color: #00af00; text-decoration-color: #00af00\">774</span> │\n",
       "└─────────────────────────────────┴────────────────────────┴───────────────┘\n",
       "</pre>\n"
      ],
      "text/plain": [
       "┏━━━━━━━━━━━━━━━━━━━━━━━━━━━━━━━━━┳━━━━━━━━━━━━━━━━━━━━━━━━┳━━━━━━━━━━━━━━━┓\n",
       "┃\u001b[1m \u001b[0m\u001b[1mLayer (type)                   \u001b[0m\u001b[1m \u001b[0m┃\u001b[1m \u001b[0m\u001b[1mOutput Shape          \u001b[0m\u001b[1m \u001b[0m┃\u001b[1m \u001b[0m\u001b[1m      Param #\u001b[0m\u001b[1m \u001b[0m┃\n",
       "┡━━━━━━━━━━━━━━━━━━━━━━━━━━━━━━━━━╇━━━━━━━━━━━━━━━━━━━━━━━━╇━━━━━━━━━━━━━━━┩\n",
       "│ rescaling (\u001b[38;5;33mRescaling\u001b[0m)           │ (\u001b[38;5;45mNone\u001b[0m, \u001b[38;5;34m128\u001b[0m, \u001b[38;5;34m128\u001b[0m, \u001b[38;5;34m3\u001b[0m)    │             \u001b[38;5;34m0\u001b[0m │\n",
       "├─────────────────────────────────┼────────────────────────┼───────────────┤\n",
       "│ conv2d (\u001b[38;5;33mConv2D\u001b[0m)                 │ (\u001b[38;5;45mNone\u001b[0m, \u001b[38;5;34m128\u001b[0m, \u001b[38;5;34m128\u001b[0m, \u001b[38;5;34m16\u001b[0m)   │           \u001b[38;5;34m448\u001b[0m │\n",
       "├─────────────────────────────────┼────────────────────────┼───────────────┤\n",
       "│ max_pooling2d (\u001b[38;5;33mMaxPooling2D\u001b[0m)    │ (\u001b[38;5;45mNone\u001b[0m, \u001b[38;5;34m64\u001b[0m, \u001b[38;5;34m64\u001b[0m, \u001b[38;5;34m16\u001b[0m)     │             \u001b[38;5;34m0\u001b[0m │\n",
       "├─────────────────────────────────┼────────────────────────┼───────────────┤\n",
       "│ conv2d_1 (\u001b[38;5;33mConv2D\u001b[0m)               │ (\u001b[38;5;45mNone\u001b[0m, \u001b[38;5;34m64\u001b[0m, \u001b[38;5;34m64\u001b[0m, \u001b[38;5;34m32\u001b[0m)     │         \u001b[38;5;34m4,640\u001b[0m │\n",
       "├─────────────────────────────────┼────────────────────────┼───────────────┤\n",
       "│ max_pooling2d_1 (\u001b[38;5;33mMaxPooling2D\u001b[0m)  │ (\u001b[38;5;45mNone\u001b[0m, \u001b[38;5;34m32\u001b[0m, \u001b[38;5;34m32\u001b[0m, \u001b[38;5;34m32\u001b[0m)     │             \u001b[38;5;34m0\u001b[0m │\n",
       "├─────────────────────────────────┼────────────────────────┼───────────────┤\n",
       "│ conv2d_2 (\u001b[38;5;33mConv2D\u001b[0m)               │ (\u001b[38;5;45mNone\u001b[0m, \u001b[38;5;34m32\u001b[0m, \u001b[38;5;34m32\u001b[0m, \u001b[38;5;34m64\u001b[0m)     │        \u001b[38;5;34m18,496\u001b[0m │\n",
       "├─────────────────────────────────┼────────────────────────┼───────────────┤\n",
       "│ max_pooling2d_2 (\u001b[38;5;33mMaxPooling2D\u001b[0m)  │ (\u001b[38;5;45mNone\u001b[0m, \u001b[38;5;34m16\u001b[0m, \u001b[38;5;34m16\u001b[0m, \u001b[38;5;34m64\u001b[0m)     │             \u001b[38;5;34m0\u001b[0m │\n",
       "├─────────────────────────────────┼────────────────────────┼───────────────┤\n",
       "│ flatten (\u001b[38;5;33mFlatten\u001b[0m)               │ (\u001b[38;5;45mNone\u001b[0m, \u001b[38;5;34m16384\u001b[0m)          │             \u001b[38;5;34m0\u001b[0m │\n",
       "├─────────────────────────────────┼────────────────────────┼───────────────┤\n",
       "│ dense (\u001b[38;5;33mDense\u001b[0m)                   │ (\u001b[38;5;45mNone\u001b[0m, \u001b[38;5;34m128\u001b[0m)            │     \u001b[38;5;34m2,097,280\u001b[0m │\n",
       "├─────────────────────────────────┼────────────────────────┼───────────────┤\n",
       "│ dense_1 (\u001b[38;5;33mDense\u001b[0m)                 │ (\u001b[38;5;45mNone\u001b[0m, \u001b[38;5;34m6\u001b[0m)              │           \u001b[38;5;34m774\u001b[0m │\n",
       "└─────────────────────────────────┴────────────────────────┴───────────────┘\n"
      ]
     },
     "metadata": {},
     "output_type": "display_data"
    },
    {
     "data": {
      "text/html": [
       "<pre style=\"white-space:pre;overflow-x:auto;line-height:normal;font-family:Menlo,'DejaVu Sans Mono',consolas,'Courier New',monospace\"><span style=\"font-weight: bold\"> Total params: </span><span style=\"color: #00af00; text-decoration-color: #00af00\">2,121,638</span> (8.09 MB)\n",
       "</pre>\n"
      ],
      "text/plain": [
       "\u001b[1m Total params: \u001b[0m\u001b[38;5;34m2,121,638\u001b[0m (8.09 MB)\n"
      ]
     },
     "metadata": {},
     "output_type": "display_data"
    },
    {
     "data": {
      "text/html": [
       "<pre style=\"white-space:pre;overflow-x:auto;line-height:normal;font-family:Menlo,'DejaVu Sans Mono',consolas,'Courier New',monospace\"><span style=\"font-weight: bold\"> Trainable params: </span><span style=\"color: #00af00; text-decoration-color: #00af00\">2,121,638</span> (8.09 MB)\n",
       "</pre>\n"
      ],
      "text/plain": [
       "\u001b[1m Trainable params: \u001b[0m\u001b[38;5;34m2,121,638\u001b[0m (8.09 MB)\n"
      ]
     },
     "metadata": {},
     "output_type": "display_data"
    },
    {
     "data": {
      "text/html": [
       "<pre style=\"white-space:pre;overflow-x:auto;line-height:normal;font-family:Menlo,'DejaVu Sans Mono',consolas,'Courier New',monospace\"><span style=\"font-weight: bold\"> Non-trainable params: </span><span style=\"color: #00af00; text-decoration-color: #00af00\">0</span> (0.00 B)\n",
       "</pre>\n"
      ],
      "text/plain": [
       "\u001b[1m Non-trainable params: \u001b[0m\u001b[38;5;34m0\u001b[0m (0.00 B)\n"
      ]
     },
     "metadata": {},
     "output_type": "display_data"
    }
   ],
   "source": [
    "model.summary()"
   ]
  },
  {
   "cell_type": "code",
   "execution_count": 17,
   "id": "ff4da2b5",
   "metadata": {
    "execution": {
     "iopub.execute_input": "2024-11-12T19:02:30.756477Z",
     "iopub.status.busy": "2024-11-12T19:02:30.755238Z",
     "iopub.status.idle": "2024-11-12T19:05:12.897008Z",
     "shell.execute_reply": "2024-11-12T19:05:12.895946Z"
    },
    "papermill": {
     "duration": 162.15693,
     "end_time": "2024-11-12T19:05:12.899636",
     "exception": false,
     "start_time": "2024-11-12T19:02:30.742706",
     "status": "completed"
    },
    "tags": []
   },
   "outputs": [
    {
     "name": "stdout",
     "output_type": "stream",
     "text": [
      "Epoch 1/5\n",
      "\u001b[1m170/170\u001b[0m \u001b[32m━━━━━━━━━━━━━━━━━━━━\u001b[0m\u001b[37m\u001b[0m \u001b[1m30s\u001b[0m 154ms/step - accuracy: 0.4747 - loss: 1.4024 - val_accuracy: 0.5703 - val_loss: 1.2134\n",
      "Epoch 2/5\n",
      "\u001b[1m170/170\u001b[0m \u001b[32m━━━━━━━━━━━━━━━━━━━━\u001b[0m\u001b[37m\u001b[0m \u001b[1m25s\u001b[0m 148ms/step - accuracy: 0.6013 - loss: 1.1254 - val_accuracy: 0.5759 - val_loss: 1.1730\n",
      "Epoch 3/5\n",
      "\u001b[1m170/170\u001b[0m \u001b[32m━━━━━━━━━━━━━━━━━━━━\u001b[0m\u001b[37m\u001b[0m \u001b[1m41s\u001b[0m 148ms/step - accuracy: 0.6215 - loss: 1.0477 - val_accuracy: 0.5938 - val_loss: 1.1457\n",
      "Epoch 4/5\n",
      "\u001b[1m170/170\u001b[0m \u001b[32m━━━━━━━━━━━━━━━━━━━━\u001b[0m\u001b[37m\u001b[0m \u001b[1m25s\u001b[0m 149ms/step - accuracy: 0.6832 - loss: 0.8980 - val_accuracy: 0.5882 - val_loss: 1.1241\n",
      "Epoch 5/5\n",
      "\u001b[1m170/170\u001b[0m \u001b[32m━━━━━━━━━━━━━━━━━━━━\u001b[0m\u001b[37m\u001b[0m \u001b[1m41s\u001b[0m 150ms/step - accuracy: 0.7154 - loss: 0.7969 - val_accuracy: 0.6283 - val_loss: 1.1264\n"
     ]
    }
   ],
   "source": [
    "history = model.fit(\n",
    "    train_ds,\n",
    "    validation_data=validation_ds,\n",
    "    epochs=5\n",
    ")"
   ]
  },
  {
   "cell_type": "code",
   "execution_count": 18,
   "id": "7a103498",
   "metadata": {
    "execution": {
     "iopub.execute_input": "2024-11-12T19:05:13.088127Z",
     "iopub.status.busy": "2024-11-12T19:05:13.087639Z",
     "iopub.status.idle": "2024-11-12T19:05:16.087188Z",
     "shell.execute_reply": "2024-11-12T19:05:16.085890Z"
    },
    "papermill": {
     "duration": 3.097422,
     "end_time": "2024-11-12T19:05:16.089773",
     "exception": false,
     "start_time": "2024-11-12T19:05:12.992351",
     "status": "completed"
    },
    "tags": []
   },
   "outputs": [
    {
     "name": "stdout",
     "output_type": "stream",
     "text": [
      "\u001b[1m57/57\u001b[0m \u001b[32m━━━━━━━━━━━━━━━━━━━━\u001b[0m\u001b[37m\u001b[0m \u001b[1m3s\u001b[0m 45ms/step - accuracy: 0.6445 - loss: 1.0587\n",
      "Test Accuracy: 63.80%\n"
     ]
    }
   ],
   "source": [
    "loss, acc = model.evaluate(test_ds)\n",
    "\n",
    "print(f\"Test Accuracy: {acc * 100:.2f}%\")"
   ]
  }
 ],
 "metadata": {
  "kaggle": {
   "accelerator": "none",
   "dataSources": [
    {
     "datasetId": 5927133,
     "sourceId": 9694239,
     "sourceType": "datasetVersion"
    }
   ],
   "dockerImageVersionId": 30786,
   "isGpuEnabled": false,
   "isInternetEnabled": true,
   "language": "python",
   "sourceType": "notebook"
  },
  "kernelspec": {
   "display_name": "Python 3",
   "language": "python",
   "name": "python3"
  },
  "language_info": {
   "codemirror_mode": {
    "name": "ipython",
    "version": 3
   },
   "file_extension": ".py",
   "mimetype": "text/x-python",
   "name": "python",
   "nbconvert_exporter": "python",
   "pygments_lexer": "ipython3",
   "version": "3.10.14"
  },
  "papermill": {
   "default_parameters": {},
   "duration": 258.232493,
   "end_time": "2024-11-12T19:05:17.913481",
   "environment_variables": {},
   "exception": null,
   "input_path": "__notebook__.ipynb",
   "output_path": "__notebook__.ipynb",
   "parameters": {},
   "start_time": "2024-11-12T19:00:59.680988",
   "version": "2.6.0"
  }
 },
 "nbformat": 4,
 "nbformat_minor": 5
}
