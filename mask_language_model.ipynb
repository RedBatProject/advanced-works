{
  "nbformat": 4,
  "nbformat_minor": 0,
  "metadata": {
    "colab": {
      "provenance": [],
      "authorship_tag": "ABX9TyNM0vH7Dg8v1rmr++xRc2Kx",
      "include_colab_link": true
    },
    "kernelspec": {
      "name": "python3",
      "display_name": "Python 3"
    },
    "language_info": {
      "name": "python"
    },
    "widgets": {
      "application/vnd.jupyter.widget-state+json": {
        "f2b366c077714514b9bf2d7123d16261": {
          "model_module": "@jupyter-widgets/controls",
          "model_name": "HBoxModel",
          "model_module_version": "1.5.0",
          "state": {
            "_dom_classes": [],
            "_model_module": "@jupyter-widgets/controls",
            "_model_module_version": "1.5.0",
            "_model_name": "HBoxModel",
            "_view_count": null,
            "_view_module": "@jupyter-widgets/controls",
            "_view_module_version": "1.5.0",
            "_view_name": "HBoxView",
            "box_style": "",
            "children": [
              "IPY_MODEL_3850d7a6dbd9419695e8e1d2b326c0c2",
              "IPY_MODEL_70c75399543546f58e96443355edc50f",
              "IPY_MODEL_14cfdea8e45345bebd1796a2a564ce4a"
            ],
            "layout": "IPY_MODEL_94fffc0a505746dabf9736c40c2919cf"
          }
        },
        "3850d7a6dbd9419695e8e1d2b326c0c2": {
          "model_module": "@jupyter-widgets/controls",
          "model_name": "HTMLModel",
          "model_module_version": "1.5.0",
          "state": {
            "_dom_classes": [],
            "_model_module": "@jupyter-widgets/controls",
            "_model_module_version": "1.5.0",
            "_model_name": "HTMLModel",
            "_view_count": null,
            "_view_module": "@jupyter-widgets/controls",
            "_view_module_version": "1.5.0",
            "_view_name": "HTMLView",
            "description": "",
            "description_tooltip": null,
            "layout": "IPY_MODEL_c714e0208e75465f89420970304eba2e",
            "placeholder": "​",
            "style": "IPY_MODEL_49a01969d8e0420494a3f367e26b8c68",
            "value": "config.json: 100%"
          }
        },
        "70c75399543546f58e96443355edc50f": {
          "model_module": "@jupyter-widgets/controls",
          "model_name": "FloatProgressModel",
          "model_module_version": "1.5.0",
          "state": {
            "_dom_classes": [],
            "_model_module": "@jupyter-widgets/controls",
            "_model_module_version": "1.5.0",
            "_model_name": "FloatProgressModel",
            "_view_count": null,
            "_view_module": "@jupyter-widgets/controls",
            "_view_module_version": "1.5.0",
            "_view_name": "ProgressView",
            "bar_style": "success",
            "description": "",
            "description_tooltip": null,
            "layout": "IPY_MODEL_141525ea7fbc4c12bb949083b3e9b8f8",
            "max": 589,
            "min": 0,
            "orientation": "horizontal",
            "style": "IPY_MODEL_b4c85b5dba1e4e3e91e1ed614486e600",
            "value": 589
          }
        },
        "14cfdea8e45345bebd1796a2a564ce4a": {
          "model_module": "@jupyter-widgets/controls",
          "model_name": "HTMLModel",
          "model_module_version": "1.5.0",
          "state": {
            "_dom_classes": [],
            "_model_module": "@jupyter-widgets/controls",
            "_model_module_version": "1.5.0",
            "_model_name": "HTMLModel",
            "_view_count": null,
            "_view_module": "@jupyter-widgets/controls",
            "_view_module_version": "1.5.0",
            "_view_name": "HTMLView",
            "description": "",
            "description_tooltip": null,
            "layout": "IPY_MODEL_d9245077737343ce8e10b654b183e48b",
            "placeholder": "​",
            "style": "IPY_MODEL_4e208f6fbece4454a5dd3f7ca9c67667",
            "value": " 589/589 [00:00&lt;00:00, 36.6kB/s]"
          }
        },
        "94fffc0a505746dabf9736c40c2919cf": {
          "model_module": "@jupyter-widgets/base",
          "model_name": "LayoutModel",
          "model_module_version": "1.2.0",
          "state": {
            "_model_module": "@jupyter-widgets/base",
            "_model_module_version": "1.2.0",
            "_model_name": "LayoutModel",
            "_view_count": null,
            "_view_module": "@jupyter-widgets/base",
            "_view_module_version": "1.2.0",
            "_view_name": "LayoutView",
            "align_content": null,
            "align_items": null,
            "align_self": null,
            "border": null,
            "bottom": null,
            "display": null,
            "flex": null,
            "flex_flow": null,
            "grid_area": null,
            "grid_auto_columns": null,
            "grid_auto_flow": null,
            "grid_auto_rows": null,
            "grid_column": null,
            "grid_gap": null,
            "grid_row": null,
            "grid_template_areas": null,
            "grid_template_columns": null,
            "grid_template_rows": null,
            "height": null,
            "justify_content": null,
            "justify_items": null,
            "left": null,
            "margin": null,
            "max_height": null,
            "max_width": null,
            "min_height": null,
            "min_width": null,
            "object_fit": null,
            "object_position": null,
            "order": null,
            "overflow": null,
            "overflow_x": null,
            "overflow_y": null,
            "padding": null,
            "right": null,
            "top": null,
            "visibility": null,
            "width": null
          }
        },
        "c714e0208e75465f89420970304eba2e": {
          "model_module": "@jupyter-widgets/base",
          "model_name": "LayoutModel",
          "model_module_version": "1.2.0",
          "state": {
            "_model_module": "@jupyter-widgets/base",
            "_model_module_version": "1.2.0",
            "_model_name": "LayoutModel",
            "_view_count": null,
            "_view_module": "@jupyter-widgets/base",
            "_view_module_version": "1.2.0",
            "_view_name": "LayoutView",
            "align_content": null,
            "align_items": null,
            "align_self": null,
            "border": null,
            "bottom": null,
            "display": null,
            "flex": null,
            "flex_flow": null,
            "grid_area": null,
            "grid_auto_columns": null,
            "grid_auto_flow": null,
            "grid_auto_rows": null,
            "grid_column": null,
            "grid_gap": null,
            "grid_row": null,
            "grid_template_areas": null,
            "grid_template_columns": null,
            "grid_template_rows": null,
            "height": null,
            "justify_content": null,
            "justify_items": null,
            "left": null,
            "margin": null,
            "max_height": null,
            "max_width": null,
            "min_height": null,
            "min_width": null,
            "object_fit": null,
            "object_position": null,
            "order": null,
            "overflow": null,
            "overflow_x": null,
            "overflow_y": null,
            "padding": null,
            "right": null,
            "top": null,
            "visibility": null,
            "width": null
          }
        },
        "49a01969d8e0420494a3f367e26b8c68": {
          "model_module": "@jupyter-widgets/controls",
          "model_name": "DescriptionStyleModel",
          "model_module_version": "1.5.0",
          "state": {
            "_model_module": "@jupyter-widgets/controls",
            "_model_module_version": "1.5.0",
            "_model_name": "DescriptionStyleModel",
            "_view_count": null,
            "_view_module": "@jupyter-widgets/base",
            "_view_module_version": "1.2.0",
            "_view_name": "StyleView",
            "description_width": ""
          }
        },
        "141525ea7fbc4c12bb949083b3e9b8f8": {
          "model_module": "@jupyter-widgets/base",
          "model_name": "LayoutModel",
          "model_module_version": "1.2.0",
          "state": {
            "_model_module": "@jupyter-widgets/base",
            "_model_module_version": "1.2.0",
            "_model_name": "LayoutModel",
            "_view_count": null,
            "_view_module": "@jupyter-widgets/base",
            "_view_module_version": "1.2.0",
            "_view_name": "LayoutView",
            "align_content": null,
            "align_items": null,
            "align_self": null,
            "border": null,
            "bottom": null,
            "display": null,
            "flex": null,
            "flex_flow": null,
            "grid_area": null,
            "grid_auto_columns": null,
            "grid_auto_flow": null,
            "grid_auto_rows": null,
            "grid_column": null,
            "grid_gap": null,
            "grid_row": null,
            "grid_template_areas": null,
            "grid_template_columns": null,
            "grid_template_rows": null,
            "height": null,
            "justify_content": null,
            "justify_items": null,
            "left": null,
            "margin": null,
            "max_height": null,
            "max_width": null,
            "min_height": null,
            "min_width": null,
            "object_fit": null,
            "object_position": null,
            "order": null,
            "overflow": null,
            "overflow_x": null,
            "overflow_y": null,
            "padding": null,
            "right": null,
            "top": null,
            "visibility": null,
            "width": null
          }
        },
        "b4c85b5dba1e4e3e91e1ed614486e600": {
          "model_module": "@jupyter-widgets/controls",
          "model_name": "ProgressStyleModel",
          "model_module_version": "1.5.0",
          "state": {
            "_model_module": "@jupyter-widgets/controls",
            "_model_module_version": "1.5.0",
            "_model_name": "ProgressStyleModel",
            "_view_count": null,
            "_view_module": "@jupyter-widgets/base",
            "_view_module_version": "1.2.0",
            "_view_name": "StyleView",
            "bar_color": null,
            "description_width": ""
          }
        },
        "d9245077737343ce8e10b654b183e48b": {
          "model_module": "@jupyter-widgets/base",
          "model_name": "LayoutModel",
          "model_module_version": "1.2.0",
          "state": {
            "_model_module": "@jupyter-widgets/base",
            "_model_module_version": "1.2.0",
            "_model_name": "LayoutModel",
            "_view_count": null,
            "_view_module": "@jupyter-widgets/base",
            "_view_module_version": "1.2.0",
            "_view_name": "LayoutView",
            "align_content": null,
            "align_items": null,
            "align_self": null,
            "border": null,
            "bottom": null,
            "display": null,
            "flex": null,
            "flex_flow": null,
            "grid_area": null,
            "grid_auto_columns": null,
            "grid_auto_flow": null,
            "grid_auto_rows": null,
            "grid_column": null,
            "grid_gap": null,
            "grid_row": null,
            "grid_template_areas": null,
            "grid_template_columns": null,
            "grid_template_rows": null,
            "height": null,
            "justify_content": null,
            "justify_items": null,
            "left": null,
            "margin": null,
            "max_height": null,
            "max_width": null,
            "min_height": null,
            "min_width": null,
            "object_fit": null,
            "object_position": null,
            "order": null,
            "overflow": null,
            "overflow_x": null,
            "overflow_y": null,
            "padding": null,
            "right": null,
            "top": null,
            "visibility": null,
            "width": null
          }
        },
        "4e208f6fbece4454a5dd3f7ca9c67667": {
          "model_module": "@jupyter-widgets/controls",
          "model_name": "DescriptionStyleModel",
          "model_module_version": "1.5.0",
          "state": {
            "_model_module": "@jupyter-widgets/controls",
            "_model_module_version": "1.5.0",
            "_model_name": "DescriptionStyleModel",
            "_view_count": null,
            "_view_module": "@jupyter-widgets/base",
            "_view_module_version": "1.2.0",
            "_view_name": "StyleView",
            "description_width": ""
          }
        },
        "9c7d837e82dd472597f54dead17dde58": {
          "model_module": "@jupyter-widgets/controls",
          "model_name": "HBoxModel",
          "model_module_version": "1.5.0",
          "state": {
            "_dom_classes": [],
            "_model_module": "@jupyter-widgets/controls",
            "_model_module_version": "1.5.0",
            "_model_name": "HBoxModel",
            "_view_count": null,
            "_view_module": "@jupyter-widgets/controls",
            "_view_module_version": "1.5.0",
            "_view_name": "HBoxView",
            "box_style": "",
            "children": [
              "IPY_MODEL_7795a9f3691b417bb4ec59eecbcaafcd",
              "IPY_MODEL_7fa92e83f7714d32854c4993d17b0a2d",
              "IPY_MODEL_88ed2f1aa4e54d7cbc4406eaa00a7313"
            ],
            "layout": "IPY_MODEL_6979eba5e74a453ea2dc3fc97e1ba0d1"
          }
        },
        "7795a9f3691b417bb4ec59eecbcaafcd": {
          "model_module": "@jupyter-widgets/controls",
          "model_name": "HTMLModel",
          "model_module_version": "1.5.0",
          "state": {
            "_dom_classes": [],
            "_model_module": "@jupyter-widgets/controls",
            "_model_module_version": "1.5.0",
            "_model_name": "HTMLModel",
            "_view_count": null,
            "_view_module": "@jupyter-widgets/controls",
            "_view_module_version": "1.5.0",
            "_view_name": "HTMLView",
            "description": "",
            "description_tooltip": null,
            "layout": "IPY_MODEL_675dca770823425cb6895985113b2bdf",
            "placeholder": "​",
            "style": "IPY_MODEL_4cb3941a1750497ea2e796486db997ca",
            "value": "model.safetensors: 100%"
          }
        },
        "7fa92e83f7714d32854c4993d17b0a2d": {
          "model_module": "@jupyter-widgets/controls",
          "model_name": "FloatProgressModel",
          "model_module_version": "1.5.0",
          "state": {
            "_dom_classes": [],
            "_model_module": "@jupyter-widgets/controls",
            "_model_module_version": "1.5.0",
            "_model_name": "FloatProgressModel",
            "_view_count": null,
            "_view_module": "@jupyter-widgets/controls",
            "_view_module_version": "1.5.0",
            "_view_name": "ProgressView",
            "bar_style": "success",
            "description": "",
            "description_tooltip": null,
            "layout": "IPY_MODEL_092782e5353d45388b03e71555993f42",
            "max": 497995232,
            "min": 0,
            "orientation": "horizontal",
            "style": "IPY_MODEL_5a4837424a2e4480bb17d217543b4bd0",
            "value": 497995232
          }
        },
        "88ed2f1aa4e54d7cbc4406eaa00a7313": {
          "model_module": "@jupyter-widgets/controls",
          "model_name": "HTMLModel",
          "model_module_version": "1.5.0",
          "state": {
            "_dom_classes": [],
            "_model_module": "@jupyter-widgets/controls",
            "_model_module_version": "1.5.0",
            "_model_name": "HTMLModel",
            "_view_count": null,
            "_view_module": "@jupyter-widgets/controls",
            "_view_module_version": "1.5.0",
            "_view_name": "HTMLView",
            "description": "",
            "description_tooltip": null,
            "layout": "IPY_MODEL_a43915ecc90a48938f4f77bccced2fe1",
            "placeholder": "​",
            "style": "IPY_MODEL_9163a1bde1bc45dbbf3bdab13caf8e91",
            "value": " 498M/498M [00:03&lt;00:00, 146MB/s]"
          }
        },
        "6979eba5e74a453ea2dc3fc97e1ba0d1": {
          "model_module": "@jupyter-widgets/base",
          "model_name": "LayoutModel",
          "model_module_version": "1.2.0",
          "state": {
            "_model_module": "@jupyter-widgets/base",
            "_model_module_version": "1.2.0",
            "_model_name": "LayoutModel",
            "_view_count": null,
            "_view_module": "@jupyter-widgets/base",
            "_view_module_version": "1.2.0",
            "_view_name": "LayoutView",
            "align_content": null,
            "align_items": null,
            "align_self": null,
            "border": null,
            "bottom": null,
            "display": null,
            "flex": null,
            "flex_flow": null,
            "grid_area": null,
            "grid_auto_columns": null,
            "grid_auto_flow": null,
            "grid_auto_rows": null,
            "grid_column": null,
            "grid_gap": null,
            "grid_row": null,
            "grid_template_areas": null,
            "grid_template_columns": null,
            "grid_template_rows": null,
            "height": null,
            "justify_content": null,
            "justify_items": null,
            "left": null,
            "margin": null,
            "max_height": null,
            "max_width": null,
            "min_height": null,
            "min_width": null,
            "object_fit": null,
            "object_position": null,
            "order": null,
            "overflow": null,
            "overflow_x": null,
            "overflow_y": null,
            "padding": null,
            "right": null,
            "top": null,
            "visibility": null,
            "width": null
          }
        },
        "675dca770823425cb6895985113b2bdf": {
          "model_module": "@jupyter-widgets/base",
          "model_name": "LayoutModel",
          "model_module_version": "1.2.0",
          "state": {
            "_model_module": "@jupyter-widgets/base",
            "_model_module_version": "1.2.0",
            "_model_name": "LayoutModel",
            "_view_count": null,
            "_view_module": "@jupyter-widgets/base",
            "_view_module_version": "1.2.0",
            "_view_name": "LayoutView",
            "align_content": null,
            "align_items": null,
            "align_self": null,
            "border": null,
            "bottom": null,
            "display": null,
            "flex": null,
            "flex_flow": null,
            "grid_area": null,
            "grid_auto_columns": null,
            "grid_auto_flow": null,
            "grid_auto_rows": null,
            "grid_column": null,
            "grid_gap": null,
            "grid_row": null,
            "grid_template_areas": null,
            "grid_template_columns": null,
            "grid_template_rows": null,
            "height": null,
            "justify_content": null,
            "justify_items": null,
            "left": null,
            "margin": null,
            "max_height": null,
            "max_width": null,
            "min_height": null,
            "min_width": null,
            "object_fit": null,
            "object_position": null,
            "order": null,
            "overflow": null,
            "overflow_x": null,
            "overflow_y": null,
            "padding": null,
            "right": null,
            "top": null,
            "visibility": null,
            "width": null
          }
        },
        "4cb3941a1750497ea2e796486db997ca": {
          "model_module": "@jupyter-widgets/controls",
          "model_name": "DescriptionStyleModel",
          "model_module_version": "1.5.0",
          "state": {
            "_model_module": "@jupyter-widgets/controls",
            "_model_module_version": "1.5.0",
            "_model_name": "DescriptionStyleModel",
            "_view_count": null,
            "_view_module": "@jupyter-widgets/base",
            "_view_module_version": "1.2.0",
            "_view_name": "StyleView",
            "description_width": ""
          }
        },
        "092782e5353d45388b03e71555993f42": {
          "model_module": "@jupyter-widgets/base",
          "model_name": "LayoutModel",
          "model_module_version": "1.2.0",
          "state": {
            "_model_module": "@jupyter-widgets/base",
            "_model_module_version": "1.2.0",
            "_model_name": "LayoutModel",
            "_view_count": null,
            "_view_module": "@jupyter-widgets/base",
            "_view_module_version": "1.2.0",
            "_view_name": "LayoutView",
            "align_content": null,
            "align_items": null,
            "align_self": null,
            "border": null,
            "bottom": null,
            "display": null,
            "flex": null,
            "flex_flow": null,
            "grid_area": null,
            "grid_auto_columns": null,
            "grid_auto_flow": null,
            "grid_auto_rows": null,
            "grid_column": null,
            "grid_gap": null,
            "grid_row": null,
            "grid_template_areas": null,
            "grid_template_columns": null,
            "grid_template_rows": null,
            "height": null,
            "justify_content": null,
            "justify_items": null,
            "left": null,
            "margin": null,
            "max_height": null,
            "max_width": null,
            "min_height": null,
            "min_width": null,
            "object_fit": null,
            "object_position": null,
            "order": null,
            "overflow": null,
            "overflow_x": null,
            "overflow_y": null,
            "padding": null,
            "right": null,
            "top": null,
            "visibility": null,
            "width": null
          }
        },
        "5a4837424a2e4480bb17d217543b4bd0": {
          "model_module": "@jupyter-widgets/controls",
          "model_name": "ProgressStyleModel",
          "model_module_version": "1.5.0",
          "state": {
            "_model_module": "@jupyter-widgets/controls",
            "_model_module_version": "1.5.0",
            "_model_name": "ProgressStyleModel",
            "_view_count": null,
            "_view_module": "@jupyter-widgets/base",
            "_view_module_version": "1.2.0",
            "_view_name": "StyleView",
            "bar_color": null,
            "description_width": ""
          }
        },
        "a43915ecc90a48938f4f77bccced2fe1": {
          "model_module": "@jupyter-widgets/base",
          "model_name": "LayoutModel",
          "model_module_version": "1.2.0",
          "state": {
            "_model_module": "@jupyter-widgets/base",
            "_model_module_version": "1.2.0",
            "_model_name": "LayoutModel",
            "_view_count": null,
            "_view_module": "@jupyter-widgets/base",
            "_view_module_version": "1.2.0",
            "_view_name": "LayoutView",
            "align_content": null,
            "align_items": null,
            "align_self": null,
            "border": null,
            "bottom": null,
            "display": null,
            "flex": null,
            "flex_flow": null,
            "grid_area": null,
            "grid_auto_columns": null,
            "grid_auto_flow": null,
            "grid_auto_rows": null,
            "grid_column": null,
            "grid_gap": null,
            "grid_row": null,
            "grid_template_areas": null,
            "grid_template_columns": null,
            "grid_template_rows": null,
            "height": null,
            "justify_content": null,
            "justify_items": null,
            "left": null,
            "margin": null,
            "max_height": null,
            "max_width": null,
            "min_height": null,
            "min_width": null,
            "object_fit": null,
            "object_position": null,
            "order": null,
            "overflow": null,
            "overflow_x": null,
            "overflow_y": null,
            "padding": null,
            "right": null,
            "top": null,
            "visibility": null,
            "width": null
          }
        },
        "9163a1bde1bc45dbbf3bdab13caf8e91": {
          "model_module": "@jupyter-widgets/controls",
          "model_name": "DescriptionStyleModel",
          "model_module_version": "1.5.0",
          "state": {
            "_model_module": "@jupyter-widgets/controls",
            "_model_module_version": "1.5.0",
            "_model_name": "DescriptionStyleModel",
            "_view_count": null,
            "_view_module": "@jupyter-widgets/base",
            "_view_module_version": "1.2.0",
            "_view_name": "StyleView",
            "description_width": ""
          }
        },
        "826931d9f2404abe946c40dff3e11b5d": {
          "model_module": "@jupyter-widgets/controls",
          "model_name": "HBoxModel",
          "model_module_version": "1.5.0",
          "state": {
            "_dom_classes": [],
            "_model_module": "@jupyter-widgets/controls",
            "_model_module_version": "1.5.0",
            "_model_name": "HBoxModel",
            "_view_count": null,
            "_view_module": "@jupyter-widgets/controls",
            "_view_module_version": "1.5.0",
            "_view_name": "HBoxView",
            "box_style": "",
            "children": [
              "IPY_MODEL_b8a6043ef9c74a44a898a78a88673c32",
              "IPY_MODEL_0eec8dd0a611464490781d6101c307dd",
              "IPY_MODEL_e1a1130e54414597ba9e8fc3200bf820"
            ],
            "layout": "IPY_MODEL_5eeb9d0791d141918fcad0725b0cbdec"
          }
        },
        "b8a6043ef9c74a44a898a78a88673c32": {
          "model_module": "@jupyter-widgets/controls",
          "model_name": "HTMLModel",
          "model_module_version": "1.5.0",
          "state": {
            "_dom_classes": [],
            "_model_module": "@jupyter-widgets/controls",
            "_model_module_version": "1.5.0",
            "_model_name": "HTMLModel",
            "_view_count": null,
            "_view_module": "@jupyter-widgets/controls",
            "_view_module_version": "1.5.0",
            "_view_name": "HTMLView",
            "description": "",
            "description_tooltip": null,
            "layout": "IPY_MODEL_b0ca2450e0a7445289b7ea80a0bd51af",
            "placeholder": "​",
            "style": "IPY_MODEL_c3bff6d4a7a14cdb9966286369ea658b",
            "value": "generation_config.json: 100%"
          }
        },
        "0eec8dd0a611464490781d6101c307dd": {
          "model_module": "@jupyter-widgets/controls",
          "model_name": "FloatProgressModel",
          "model_module_version": "1.5.0",
          "state": {
            "_dom_classes": [],
            "_model_module": "@jupyter-widgets/controls",
            "_model_module_version": "1.5.0",
            "_model_name": "FloatProgressModel",
            "_view_count": null,
            "_view_module": "@jupyter-widgets/controls",
            "_view_module_version": "1.5.0",
            "_view_name": "ProgressView",
            "bar_style": "success",
            "description": "",
            "description_tooltip": null,
            "layout": "IPY_MODEL_959cd906984045e1843c10d01bfb6376",
            "max": 90,
            "min": 0,
            "orientation": "horizontal",
            "style": "IPY_MODEL_e844320c72e24374a8c4dbfc0b91a516",
            "value": 90
          }
        },
        "e1a1130e54414597ba9e8fc3200bf820": {
          "model_module": "@jupyter-widgets/controls",
          "model_name": "HTMLModel",
          "model_module_version": "1.5.0",
          "state": {
            "_dom_classes": [],
            "_model_module": "@jupyter-widgets/controls",
            "_model_module_version": "1.5.0",
            "_model_name": "HTMLModel",
            "_view_count": null,
            "_view_module": "@jupyter-widgets/controls",
            "_view_module_version": "1.5.0",
            "_view_name": "HTMLView",
            "description": "",
            "description_tooltip": null,
            "layout": "IPY_MODEL_3d6921f7c9224d1a9dc2afa0b2e87752",
            "placeholder": "​",
            "style": "IPY_MODEL_66b5374d3e404267a156e00372dd2210",
            "value": " 90.0/90.0 [00:00&lt;00:00, 4.26kB/s]"
          }
        },
        "5eeb9d0791d141918fcad0725b0cbdec": {
          "model_module": "@jupyter-widgets/base",
          "model_name": "LayoutModel",
          "model_module_version": "1.2.0",
          "state": {
            "_model_module": "@jupyter-widgets/base",
            "_model_module_version": "1.2.0",
            "_model_name": "LayoutModel",
            "_view_count": null,
            "_view_module": "@jupyter-widgets/base",
            "_view_module_version": "1.2.0",
            "_view_name": "LayoutView",
            "align_content": null,
            "align_items": null,
            "align_self": null,
            "border": null,
            "bottom": null,
            "display": null,
            "flex": null,
            "flex_flow": null,
            "grid_area": null,
            "grid_auto_columns": null,
            "grid_auto_flow": null,
            "grid_auto_rows": null,
            "grid_column": null,
            "grid_gap": null,
            "grid_row": null,
            "grid_template_areas": null,
            "grid_template_columns": null,
            "grid_template_rows": null,
            "height": null,
            "justify_content": null,
            "justify_items": null,
            "left": null,
            "margin": null,
            "max_height": null,
            "max_width": null,
            "min_height": null,
            "min_width": null,
            "object_fit": null,
            "object_position": null,
            "order": null,
            "overflow": null,
            "overflow_x": null,
            "overflow_y": null,
            "padding": null,
            "right": null,
            "top": null,
            "visibility": null,
            "width": null
          }
        },
        "b0ca2450e0a7445289b7ea80a0bd51af": {
          "model_module": "@jupyter-widgets/base",
          "model_name": "LayoutModel",
          "model_module_version": "1.2.0",
          "state": {
            "_model_module": "@jupyter-widgets/base",
            "_model_module_version": "1.2.0",
            "_model_name": "LayoutModel",
            "_view_count": null,
            "_view_module": "@jupyter-widgets/base",
            "_view_module_version": "1.2.0",
            "_view_name": "LayoutView",
            "align_content": null,
            "align_items": null,
            "align_self": null,
            "border": null,
            "bottom": null,
            "display": null,
            "flex": null,
            "flex_flow": null,
            "grid_area": null,
            "grid_auto_columns": null,
            "grid_auto_flow": null,
            "grid_auto_rows": null,
            "grid_column": null,
            "grid_gap": null,
            "grid_row": null,
            "grid_template_areas": null,
            "grid_template_columns": null,
            "grid_template_rows": null,
            "height": null,
            "justify_content": null,
            "justify_items": null,
            "left": null,
            "margin": null,
            "max_height": null,
            "max_width": null,
            "min_height": null,
            "min_width": null,
            "object_fit": null,
            "object_position": null,
            "order": null,
            "overflow": null,
            "overflow_x": null,
            "overflow_y": null,
            "padding": null,
            "right": null,
            "top": null,
            "visibility": null,
            "width": null
          }
        },
        "c3bff6d4a7a14cdb9966286369ea658b": {
          "model_module": "@jupyter-widgets/controls",
          "model_name": "DescriptionStyleModel",
          "model_module_version": "1.5.0",
          "state": {
            "_model_module": "@jupyter-widgets/controls",
            "_model_module_version": "1.5.0",
            "_model_name": "DescriptionStyleModel",
            "_view_count": null,
            "_view_module": "@jupyter-widgets/base",
            "_view_module_version": "1.2.0",
            "_view_name": "StyleView",
            "description_width": ""
          }
        },
        "959cd906984045e1843c10d01bfb6376": {
          "model_module": "@jupyter-widgets/base",
          "model_name": "LayoutModel",
          "model_module_version": "1.2.0",
          "state": {
            "_model_module": "@jupyter-widgets/base",
            "_model_module_version": "1.2.0",
            "_model_name": "LayoutModel",
            "_view_count": null,
            "_view_module": "@jupyter-widgets/base",
            "_view_module_version": "1.2.0",
            "_view_name": "LayoutView",
            "align_content": null,
            "align_items": null,
            "align_self": null,
            "border": null,
            "bottom": null,
            "display": null,
            "flex": null,
            "flex_flow": null,
            "grid_area": null,
            "grid_auto_columns": null,
            "grid_auto_flow": null,
            "grid_auto_rows": null,
            "grid_column": null,
            "grid_gap": null,
            "grid_row": null,
            "grid_template_areas": null,
            "grid_template_columns": null,
            "grid_template_rows": null,
            "height": null,
            "justify_content": null,
            "justify_items": null,
            "left": null,
            "margin": null,
            "max_height": null,
            "max_width": null,
            "min_height": null,
            "min_width": null,
            "object_fit": null,
            "object_position": null,
            "order": null,
            "overflow": null,
            "overflow_x": null,
            "overflow_y": null,
            "padding": null,
            "right": null,
            "top": null,
            "visibility": null,
            "width": null
          }
        },
        "e844320c72e24374a8c4dbfc0b91a516": {
          "model_module": "@jupyter-widgets/controls",
          "model_name": "ProgressStyleModel",
          "model_module_version": "1.5.0",
          "state": {
            "_model_module": "@jupyter-widgets/controls",
            "_model_module_version": "1.5.0",
            "_model_name": "ProgressStyleModel",
            "_view_count": null,
            "_view_module": "@jupyter-widgets/base",
            "_view_module_version": "1.2.0",
            "_view_name": "StyleView",
            "bar_color": null,
            "description_width": ""
          }
        },
        "3d6921f7c9224d1a9dc2afa0b2e87752": {
          "model_module": "@jupyter-widgets/base",
          "model_name": "LayoutModel",
          "model_module_version": "1.2.0",
          "state": {
            "_model_module": "@jupyter-widgets/base",
            "_model_module_version": "1.2.0",
            "_model_name": "LayoutModel",
            "_view_count": null,
            "_view_module": "@jupyter-widgets/base",
            "_view_module_version": "1.2.0",
            "_view_name": "LayoutView",
            "align_content": null,
            "align_items": null,
            "align_self": null,
            "border": null,
            "bottom": null,
            "display": null,
            "flex": null,
            "flex_flow": null,
            "grid_area": null,
            "grid_auto_columns": null,
            "grid_auto_flow": null,
            "grid_auto_rows": null,
            "grid_column": null,
            "grid_gap": null,
            "grid_row": null,
            "grid_template_areas": null,
            "grid_template_columns": null,
            "grid_template_rows": null,
            "height": null,
            "justify_content": null,
            "justify_items": null,
            "left": null,
            "margin": null,
            "max_height": null,
            "max_width": null,
            "min_height": null,
            "min_width": null,
            "object_fit": null,
            "object_position": null,
            "order": null,
            "overflow": null,
            "overflow_x": null,
            "overflow_y": null,
            "padding": null,
            "right": null,
            "top": null,
            "visibility": null,
            "width": null
          }
        },
        "66b5374d3e404267a156e00372dd2210": {
          "model_module": "@jupyter-widgets/controls",
          "model_name": "DescriptionStyleModel",
          "model_module_version": "1.5.0",
          "state": {
            "_model_module": "@jupyter-widgets/controls",
            "_model_module_version": "1.5.0",
            "_model_name": "DescriptionStyleModel",
            "_view_count": null,
            "_view_module": "@jupyter-widgets/base",
            "_view_module_version": "1.2.0",
            "_view_name": "StyleView",
            "description_width": ""
          }
        },
        "ed39a914a0b640238b343157a3c5577c": {
          "model_module": "@jupyter-widgets/controls",
          "model_name": "HBoxModel",
          "model_module_version": "1.5.0",
          "state": {
            "_dom_classes": [],
            "_model_module": "@jupyter-widgets/controls",
            "_model_module_version": "1.5.0",
            "_model_name": "HBoxModel",
            "_view_count": null,
            "_view_module": "@jupyter-widgets/controls",
            "_view_module_version": "1.5.0",
            "_view_name": "HBoxView",
            "box_style": "",
            "children": [
              "IPY_MODEL_8d6eb5bbce6d4966aec58c7b4b7cc7ca",
              "IPY_MODEL_fe6a8abec4bd41d3b6bc3c3c95b34bcf",
              "IPY_MODEL_42b16a91d7ed4d23a7567178c474a727"
            ],
            "layout": "IPY_MODEL_f1fab07ee501442ca5ef7b6ad46993b2"
          }
        },
        "8d6eb5bbce6d4966aec58c7b4b7cc7ca": {
          "model_module": "@jupyter-widgets/controls",
          "model_name": "HTMLModel",
          "model_module_version": "1.5.0",
          "state": {
            "_dom_classes": [],
            "_model_module": "@jupyter-widgets/controls",
            "_model_module_version": "1.5.0",
            "_model_name": "HTMLModel",
            "_view_count": null,
            "_view_module": "@jupyter-widgets/controls",
            "_view_module_version": "1.5.0",
            "_view_name": "HTMLView",
            "description": "",
            "description_tooltip": null,
            "layout": "IPY_MODEL_3776b4ecae31413ea65818bd97a73399",
            "placeholder": "​",
            "style": "IPY_MODEL_09eefd60c31046dc99c83a33b19cfbf4",
            "value": "tokenizer_config.json: 100%"
          }
        },
        "fe6a8abec4bd41d3b6bc3c3c95b34bcf": {
          "model_module": "@jupyter-widgets/controls",
          "model_name": "FloatProgressModel",
          "model_module_version": "1.5.0",
          "state": {
            "_dom_classes": [],
            "_model_module": "@jupyter-widgets/controls",
            "_model_module_version": "1.5.0",
            "_model_name": "FloatProgressModel",
            "_view_count": null,
            "_view_module": "@jupyter-widgets/controls",
            "_view_module_version": "1.5.0",
            "_view_name": "ProgressView",
            "bar_style": "success",
            "description": "",
            "description_tooltip": null,
            "layout": "IPY_MODEL_acac71839bda4a35a026c1a48fc3fce1",
            "max": 18327,
            "min": 0,
            "orientation": "horizontal",
            "style": "IPY_MODEL_f7388984e67a4be7ba1bac9744f5b701",
            "value": 18327
          }
        },
        "42b16a91d7ed4d23a7567178c474a727": {
          "model_module": "@jupyter-widgets/controls",
          "model_name": "HTMLModel",
          "model_module_version": "1.5.0",
          "state": {
            "_dom_classes": [],
            "_model_module": "@jupyter-widgets/controls",
            "_model_module_version": "1.5.0",
            "_model_name": "HTMLModel",
            "_view_count": null,
            "_view_module": "@jupyter-widgets/controls",
            "_view_module_version": "1.5.0",
            "_view_name": "HTMLView",
            "description": "",
            "description_tooltip": null,
            "layout": "IPY_MODEL_fe82cdc44bbb4fb8b26d72712ed1feac",
            "placeholder": "​",
            "style": "IPY_MODEL_a3889a4ca6a44cf7a85b18346e68f8ce",
            "value": " 18.3k/18.3k [00:00&lt;00:00, 992kB/s]"
          }
        },
        "f1fab07ee501442ca5ef7b6ad46993b2": {
          "model_module": "@jupyter-widgets/base",
          "model_name": "LayoutModel",
          "model_module_version": "1.2.0",
          "state": {
            "_model_module": "@jupyter-widgets/base",
            "_model_module_version": "1.2.0",
            "_model_name": "LayoutModel",
            "_view_count": null,
            "_view_module": "@jupyter-widgets/base",
            "_view_module_version": "1.2.0",
            "_view_name": "LayoutView",
            "align_content": null,
            "align_items": null,
            "align_self": null,
            "border": null,
            "bottom": null,
            "display": null,
            "flex": null,
            "flex_flow": null,
            "grid_area": null,
            "grid_auto_columns": null,
            "grid_auto_flow": null,
            "grid_auto_rows": null,
            "grid_column": null,
            "grid_gap": null,
            "grid_row": null,
            "grid_template_areas": null,
            "grid_template_columns": null,
            "grid_template_rows": null,
            "height": null,
            "justify_content": null,
            "justify_items": null,
            "left": null,
            "margin": null,
            "max_height": null,
            "max_width": null,
            "min_height": null,
            "min_width": null,
            "object_fit": null,
            "object_position": null,
            "order": null,
            "overflow": null,
            "overflow_x": null,
            "overflow_y": null,
            "padding": null,
            "right": null,
            "top": null,
            "visibility": null,
            "width": null
          }
        },
        "3776b4ecae31413ea65818bd97a73399": {
          "model_module": "@jupyter-widgets/base",
          "model_name": "LayoutModel",
          "model_module_version": "1.2.0",
          "state": {
            "_model_module": "@jupyter-widgets/base",
            "_model_module_version": "1.2.0",
            "_model_name": "LayoutModel",
            "_view_count": null,
            "_view_module": "@jupyter-widgets/base",
            "_view_module_version": "1.2.0",
            "_view_name": "LayoutView",
            "align_content": null,
            "align_items": null,
            "align_self": null,
            "border": null,
            "bottom": null,
            "display": null,
            "flex": null,
            "flex_flow": null,
            "grid_area": null,
            "grid_auto_columns": null,
            "grid_auto_flow": null,
            "grid_auto_rows": null,
            "grid_column": null,
            "grid_gap": null,
            "grid_row": null,
            "grid_template_areas": null,
            "grid_template_columns": null,
            "grid_template_rows": null,
            "height": null,
            "justify_content": null,
            "justify_items": null,
            "left": null,
            "margin": null,
            "max_height": null,
            "max_width": null,
            "min_height": null,
            "min_width": null,
            "object_fit": null,
            "object_position": null,
            "order": null,
            "overflow": null,
            "overflow_x": null,
            "overflow_y": null,
            "padding": null,
            "right": null,
            "top": null,
            "visibility": null,
            "width": null
          }
        },
        "09eefd60c31046dc99c83a33b19cfbf4": {
          "model_module": "@jupyter-widgets/controls",
          "model_name": "DescriptionStyleModel",
          "model_module_version": "1.5.0",
          "state": {
            "_model_module": "@jupyter-widgets/controls",
            "_model_module_version": "1.5.0",
            "_model_name": "DescriptionStyleModel",
            "_view_count": null,
            "_view_module": "@jupyter-widgets/base",
            "_view_module_version": "1.2.0",
            "_view_name": "StyleView",
            "description_width": ""
          }
        },
        "acac71839bda4a35a026c1a48fc3fce1": {
          "model_module": "@jupyter-widgets/base",
          "model_name": "LayoutModel",
          "model_module_version": "1.2.0",
          "state": {
            "_model_module": "@jupyter-widgets/base",
            "_model_module_version": "1.2.0",
            "_model_name": "LayoutModel",
            "_view_count": null,
            "_view_module": "@jupyter-widgets/base",
            "_view_module_version": "1.2.0",
            "_view_name": "LayoutView",
            "align_content": null,
            "align_items": null,
            "align_self": null,
            "border": null,
            "bottom": null,
            "display": null,
            "flex": null,
            "flex_flow": null,
            "grid_area": null,
            "grid_auto_columns": null,
            "grid_auto_flow": null,
            "grid_auto_rows": null,
            "grid_column": null,
            "grid_gap": null,
            "grid_row": null,
            "grid_template_areas": null,
            "grid_template_columns": null,
            "grid_template_rows": null,
            "height": null,
            "justify_content": null,
            "justify_items": null,
            "left": null,
            "margin": null,
            "max_height": null,
            "max_width": null,
            "min_height": null,
            "min_width": null,
            "object_fit": null,
            "object_position": null,
            "order": null,
            "overflow": null,
            "overflow_x": null,
            "overflow_y": null,
            "padding": null,
            "right": null,
            "top": null,
            "visibility": null,
            "width": null
          }
        },
        "f7388984e67a4be7ba1bac9744f5b701": {
          "model_module": "@jupyter-widgets/controls",
          "model_name": "ProgressStyleModel",
          "model_module_version": "1.5.0",
          "state": {
            "_model_module": "@jupyter-widgets/controls",
            "_model_module_version": "1.5.0",
            "_model_name": "ProgressStyleModel",
            "_view_count": null,
            "_view_module": "@jupyter-widgets/base",
            "_view_module_version": "1.2.0",
            "_view_name": "StyleView",
            "bar_color": null,
            "description_width": ""
          }
        },
        "fe82cdc44bbb4fb8b26d72712ed1feac": {
          "model_module": "@jupyter-widgets/base",
          "model_name": "LayoutModel",
          "model_module_version": "1.2.0",
          "state": {
            "_model_module": "@jupyter-widgets/base",
            "_model_module_version": "1.2.0",
            "_model_name": "LayoutModel",
            "_view_count": null,
            "_view_module": "@jupyter-widgets/base",
            "_view_module_version": "1.2.0",
            "_view_name": "LayoutView",
            "align_content": null,
            "align_items": null,
            "align_self": null,
            "border": null,
            "bottom": null,
            "display": null,
            "flex": null,
            "flex_flow": null,
            "grid_area": null,
            "grid_auto_columns": null,
            "grid_auto_flow": null,
            "grid_auto_rows": null,
            "grid_column": null,
            "grid_gap": null,
            "grid_row": null,
            "grid_template_areas": null,
            "grid_template_columns": null,
            "grid_template_rows": null,
            "height": null,
            "justify_content": null,
            "justify_items": null,
            "left": null,
            "margin": null,
            "max_height": null,
            "max_width": null,
            "min_height": null,
            "min_width": null,
            "object_fit": null,
            "object_position": null,
            "order": null,
            "overflow": null,
            "overflow_x": null,
            "overflow_y": null,
            "padding": null,
            "right": null,
            "top": null,
            "visibility": null,
            "width": null
          }
        },
        "a3889a4ca6a44cf7a85b18346e68f8ce": {
          "model_module": "@jupyter-widgets/controls",
          "model_name": "DescriptionStyleModel",
          "model_module_version": "1.5.0",
          "state": {
            "_model_module": "@jupyter-widgets/controls",
            "_model_module_version": "1.5.0",
            "_model_name": "DescriptionStyleModel",
            "_view_count": null,
            "_view_module": "@jupyter-widgets/base",
            "_view_module_version": "1.2.0",
            "_view_name": "StyleView",
            "description_width": ""
          }
        },
        "5aefeeb749594f10b11ec11da9c16a0e": {
          "model_module": "@jupyter-widgets/controls",
          "model_name": "HBoxModel",
          "model_module_version": "1.5.0",
          "state": {
            "_dom_classes": [],
            "_model_module": "@jupyter-widgets/controls",
            "_model_module_version": "1.5.0",
            "_model_name": "HBoxModel",
            "_view_count": null,
            "_view_module": "@jupyter-widgets/controls",
            "_view_module_version": "1.5.0",
            "_view_name": "HBoxView",
            "box_style": "",
            "children": [
              "IPY_MODEL_4eb0133702cf48cdb533966cc73e2774",
              "IPY_MODEL_4f8c429827a0450192c4820319c7a26d",
              "IPY_MODEL_2d4dee9acb9c470098ba4a739550245c"
            ],
            "layout": "IPY_MODEL_5f2525e62d3b49b2bf8c68c334b26d22"
          }
        },
        "4eb0133702cf48cdb533966cc73e2774": {
          "model_module": "@jupyter-widgets/controls",
          "model_name": "HTMLModel",
          "model_module_version": "1.5.0",
          "state": {
            "_dom_classes": [],
            "_model_module": "@jupyter-widgets/controls",
            "_model_module_version": "1.5.0",
            "_model_name": "HTMLModel",
            "_view_count": null,
            "_view_module": "@jupyter-widgets/controls",
            "_view_module_version": "1.5.0",
            "_view_name": "HTMLView",
            "description": "",
            "description_tooltip": null,
            "layout": "IPY_MODEL_25cf84af610c4c668e3ffa1e5e110dd2",
            "placeholder": "​",
            "style": "IPY_MODEL_1a2cf441be464629a0831665af1087fd",
            "value": "vocab.txt: 100%"
          }
        },
        "4f8c429827a0450192c4820319c7a26d": {
          "model_module": "@jupyter-widgets/controls",
          "model_name": "FloatProgressModel",
          "model_module_version": "1.5.0",
          "state": {
            "_dom_classes": [],
            "_model_module": "@jupyter-widgets/controls",
            "_model_module_version": "1.5.0",
            "_model_name": "FloatProgressModel",
            "_view_count": null,
            "_view_module": "@jupyter-widgets/controls",
            "_view_module_version": "1.5.0",
            "_view_name": "ProgressView",
            "bar_style": "success",
            "description": "",
            "description_tooltip": null,
            "layout": "IPY_MODEL_56d23ce168af4e618ad3a87d3bd58671",
            "max": 552366,
            "min": 0,
            "orientation": "horizontal",
            "style": "IPY_MODEL_9dde919ebe3b4844b897a470c0c32721",
            "value": 552366
          }
        },
        "2d4dee9acb9c470098ba4a739550245c": {
          "model_module": "@jupyter-widgets/controls",
          "model_name": "HTMLModel",
          "model_module_version": "1.5.0",
          "state": {
            "_dom_classes": [],
            "_model_module": "@jupyter-widgets/controls",
            "_model_module_version": "1.5.0",
            "_model_name": "HTMLModel",
            "_view_count": null,
            "_view_module": "@jupyter-widgets/controls",
            "_view_module_version": "1.5.0",
            "_view_name": "HTMLView",
            "description": "",
            "description_tooltip": null,
            "layout": "IPY_MODEL_85a5f7483e5d4509b03081ea6fa4113f",
            "placeholder": "​",
            "style": "IPY_MODEL_871a4a12addf4f44a45f1ead607e8120",
            "value": " 552k/552k [00:00&lt;00:00, 3.13MB/s]"
          }
        },
        "5f2525e62d3b49b2bf8c68c334b26d22": {
          "model_module": "@jupyter-widgets/base",
          "model_name": "LayoutModel",
          "model_module_version": "1.2.0",
          "state": {
            "_model_module": "@jupyter-widgets/base",
            "_model_module_version": "1.2.0",
            "_model_name": "LayoutModel",
            "_view_count": null,
            "_view_module": "@jupyter-widgets/base",
            "_view_module_version": "1.2.0",
            "_view_name": "LayoutView",
            "align_content": null,
            "align_items": null,
            "align_self": null,
            "border": null,
            "bottom": null,
            "display": null,
            "flex": null,
            "flex_flow": null,
            "grid_area": null,
            "grid_auto_columns": null,
            "grid_auto_flow": null,
            "grid_auto_rows": null,
            "grid_column": null,
            "grid_gap": null,
            "grid_row": null,
            "grid_template_areas": null,
            "grid_template_columns": null,
            "grid_template_rows": null,
            "height": null,
            "justify_content": null,
            "justify_items": null,
            "left": null,
            "margin": null,
            "max_height": null,
            "max_width": null,
            "min_height": null,
            "min_width": null,
            "object_fit": null,
            "object_position": null,
            "order": null,
            "overflow": null,
            "overflow_x": null,
            "overflow_y": null,
            "padding": null,
            "right": null,
            "top": null,
            "visibility": null,
            "width": null
          }
        },
        "25cf84af610c4c668e3ffa1e5e110dd2": {
          "model_module": "@jupyter-widgets/base",
          "model_name": "LayoutModel",
          "model_module_version": "1.2.0",
          "state": {
            "_model_module": "@jupyter-widgets/base",
            "_model_module_version": "1.2.0",
            "_model_name": "LayoutModel",
            "_view_count": null,
            "_view_module": "@jupyter-widgets/base",
            "_view_module_version": "1.2.0",
            "_view_name": "LayoutView",
            "align_content": null,
            "align_items": null,
            "align_self": null,
            "border": null,
            "bottom": null,
            "display": null,
            "flex": null,
            "flex_flow": null,
            "grid_area": null,
            "grid_auto_columns": null,
            "grid_auto_flow": null,
            "grid_auto_rows": null,
            "grid_column": null,
            "grid_gap": null,
            "grid_row": null,
            "grid_template_areas": null,
            "grid_template_columns": null,
            "grid_template_rows": null,
            "height": null,
            "justify_content": null,
            "justify_items": null,
            "left": null,
            "margin": null,
            "max_height": null,
            "max_width": null,
            "min_height": null,
            "min_width": null,
            "object_fit": null,
            "object_position": null,
            "order": null,
            "overflow": null,
            "overflow_x": null,
            "overflow_y": null,
            "padding": null,
            "right": null,
            "top": null,
            "visibility": null,
            "width": null
          }
        },
        "1a2cf441be464629a0831665af1087fd": {
          "model_module": "@jupyter-widgets/controls",
          "model_name": "DescriptionStyleModel",
          "model_module_version": "1.5.0",
          "state": {
            "_model_module": "@jupyter-widgets/controls",
            "_model_module_version": "1.5.0",
            "_model_name": "DescriptionStyleModel",
            "_view_count": null,
            "_view_module": "@jupyter-widgets/base",
            "_view_module_version": "1.2.0",
            "_view_name": "StyleView",
            "description_width": ""
          }
        },
        "56d23ce168af4e618ad3a87d3bd58671": {
          "model_module": "@jupyter-widgets/base",
          "model_name": "LayoutModel",
          "model_module_version": "1.2.0",
          "state": {
            "_model_module": "@jupyter-widgets/base",
            "_model_module_version": "1.2.0",
            "_model_name": "LayoutModel",
            "_view_count": null,
            "_view_module": "@jupyter-widgets/base",
            "_view_module_version": "1.2.0",
            "_view_name": "LayoutView",
            "align_content": null,
            "align_items": null,
            "align_self": null,
            "border": null,
            "bottom": null,
            "display": null,
            "flex": null,
            "flex_flow": null,
            "grid_area": null,
            "grid_auto_columns": null,
            "grid_auto_flow": null,
            "grid_auto_rows": null,
            "grid_column": null,
            "grid_gap": null,
            "grid_row": null,
            "grid_template_areas": null,
            "grid_template_columns": null,
            "grid_template_rows": null,
            "height": null,
            "justify_content": null,
            "justify_items": null,
            "left": null,
            "margin": null,
            "max_height": null,
            "max_width": null,
            "min_height": null,
            "min_width": null,
            "object_fit": null,
            "object_position": null,
            "order": null,
            "overflow": null,
            "overflow_x": null,
            "overflow_y": null,
            "padding": null,
            "right": null,
            "top": null,
            "visibility": null,
            "width": null
          }
        },
        "9dde919ebe3b4844b897a470c0c32721": {
          "model_module": "@jupyter-widgets/controls",
          "model_name": "ProgressStyleModel",
          "model_module_version": "1.5.0",
          "state": {
            "_model_module": "@jupyter-widgets/controls",
            "_model_module_version": "1.5.0",
            "_model_name": "ProgressStyleModel",
            "_view_count": null,
            "_view_module": "@jupyter-widgets/base",
            "_view_module_version": "1.2.0",
            "_view_name": "StyleView",
            "bar_color": null,
            "description_width": ""
          }
        },
        "85a5f7483e5d4509b03081ea6fa4113f": {
          "model_module": "@jupyter-widgets/base",
          "model_name": "LayoutModel",
          "model_module_version": "1.2.0",
          "state": {
            "_model_module": "@jupyter-widgets/base",
            "_model_module_version": "1.2.0",
            "_model_name": "LayoutModel",
            "_view_count": null,
            "_view_module": "@jupyter-widgets/base",
            "_view_module_version": "1.2.0",
            "_view_name": "LayoutView",
            "align_content": null,
            "align_items": null,
            "align_self": null,
            "border": null,
            "bottom": null,
            "display": null,
            "flex": null,
            "flex_flow": null,
            "grid_area": null,
            "grid_auto_columns": null,
            "grid_auto_flow": null,
            "grid_auto_rows": null,
            "grid_column": null,
            "grid_gap": null,
            "grid_row": null,
            "grid_template_areas": null,
            "grid_template_columns": null,
            "grid_template_rows": null,
            "height": null,
            "justify_content": null,
            "justify_items": null,
            "left": null,
            "margin": null,
            "max_height": null,
            "max_width": null,
            "min_height": null,
            "min_width": null,
            "object_fit": null,
            "object_position": null,
            "order": null,
            "overflow": null,
            "overflow_x": null,
            "overflow_y": null,
            "padding": null,
            "right": null,
            "top": null,
            "visibility": null,
            "width": null
          }
        },
        "871a4a12addf4f44a45f1ead607e8120": {
          "model_module": "@jupyter-widgets/controls",
          "model_name": "DescriptionStyleModel",
          "model_module_version": "1.5.0",
          "state": {
            "_model_module": "@jupyter-widgets/controls",
            "_model_module_version": "1.5.0",
            "_model_name": "DescriptionStyleModel",
            "_view_count": null,
            "_view_module": "@jupyter-widgets/base",
            "_view_module_version": "1.2.0",
            "_view_name": "StyleView",
            "description_width": ""
          }
        },
        "86b3f4ae141641d699a14ba428818764": {
          "model_module": "@jupyter-widgets/controls",
          "model_name": "HBoxModel",
          "model_module_version": "1.5.0",
          "state": {
            "_dom_classes": [],
            "_model_module": "@jupyter-widgets/controls",
            "_model_module_version": "1.5.0",
            "_model_name": "HBoxModel",
            "_view_count": null,
            "_view_module": "@jupyter-widgets/controls",
            "_view_module_version": "1.5.0",
            "_view_name": "HBoxView",
            "box_style": "",
            "children": [
              "IPY_MODEL_fe1e1049433b40259a8a8a61be31c80b",
              "IPY_MODEL_ab2b4294effe4ae3ad63c2aefc145b7f",
              "IPY_MODEL_9e65999f5bd34cb49720f293485645c4"
            ],
            "layout": "IPY_MODEL_45d2ca7727f84c55a88ee72abf9141dc"
          }
        },
        "fe1e1049433b40259a8a8a61be31c80b": {
          "model_module": "@jupyter-widgets/controls",
          "model_name": "HTMLModel",
          "model_module_version": "1.5.0",
          "state": {
            "_dom_classes": [],
            "_model_module": "@jupyter-widgets/controls",
            "_model_module_version": "1.5.0",
            "_model_name": "HTMLModel",
            "_view_count": null,
            "_view_module": "@jupyter-widgets/controls",
            "_view_module_version": "1.5.0",
            "_view_name": "HTMLView",
            "description": "",
            "description_tooltip": null,
            "layout": "IPY_MODEL_6c6f992d088c4e618d7c659e52207491",
            "placeholder": "​",
            "style": "IPY_MODEL_6bd46157edd842fd8a12e5c369eca5a3",
            "value": "tokenizer.json: 100%"
          }
        },
        "ab2b4294effe4ae3ad63c2aefc145b7f": {
          "model_module": "@jupyter-widgets/controls",
          "model_name": "FloatProgressModel",
          "model_module_version": "1.5.0",
          "state": {
            "_dom_classes": [],
            "_model_module": "@jupyter-widgets/controls",
            "_model_module_version": "1.5.0",
            "_model_name": "FloatProgressModel",
            "_view_count": null,
            "_view_module": "@jupyter-widgets/controls",
            "_view_module_version": "1.5.0",
            "_view_name": "ProgressView",
            "bar_style": "success",
            "description": "",
            "description_tooltip": null,
            "layout": "IPY_MODEL_31d4369f00c647d3b3b31a9c02634aa5",
            "max": 1362416,
            "min": 0,
            "orientation": "horizontal",
            "style": "IPY_MODEL_0cf8636042f14e0a9bfc2ff23fe4e086",
            "value": 1362416
          }
        },
        "9e65999f5bd34cb49720f293485645c4": {
          "model_module": "@jupyter-widgets/controls",
          "model_name": "HTMLModel",
          "model_module_version": "1.5.0",
          "state": {
            "_dom_classes": [],
            "_model_module": "@jupyter-widgets/controls",
            "_model_module_version": "1.5.0",
            "_model_name": "HTMLModel",
            "_view_count": null,
            "_view_module": "@jupyter-widgets/controls",
            "_view_module_version": "1.5.0",
            "_view_name": "HTMLView",
            "description": "",
            "description_tooltip": null,
            "layout": "IPY_MODEL_ab46a3802642427d91bb1138289a2eda",
            "placeholder": "​",
            "style": "IPY_MODEL_c6a6cbee27084a14b4101ebea558c078",
            "value": " 1.36M/1.36M [00:00&lt;00:00, 19.8MB/s]"
          }
        },
        "45d2ca7727f84c55a88ee72abf9141dc": {
          "model_module": "@jupyter-widgets/base",
          "model_name": "LayoutModel",
          "model_module_version": "1.2.0",
          "state": {
            "_model_module": "@jupyter-widgets/base",
            "_model_module_version": "1.2.0",
            "_model_name": "LayoutModel",
            "_view_count": null,
            "_view_module": "@jupyter-widgets/base",
            "_view_module_version": "1.2.0",
            "_view_name": "LayoutView",
            "align_content": null,
            "align_items": null,
            "align_self": null,
            "border": null,
            "bottom": null,
            "display": null,
            "flex": null,
            "flex_flow": null,
            "grid_area": null,
            "grid_auto_columns": null,
            "grid_auto_flow": null,
            "grid_auto_rows": null,
            "grid_column": null,
            "grid_gap": null,
            "grid_row": null,
            "grid_template_areas": null,
            "grid_template_columns": null,
            "grid_template_rows": null,
            "height": null,
            "justify_content": null,
            "justify_items": null,
            "left": null,
            "margin": null,
            "max_height": null,
            "max_width": null,
            "min_height": null,
            "min_width": null,
            "object_fit": null,
            "object_position": null,
            "order": null,
            "overflow": null,
            "overflow_x": null,
            "overflow_y": null,
            "padding": null,
            "right": null,
            "top": null,
            "visibility": null,
            "width": null
          }
        },
        "6c6f992d088c4e618d7c659e52207491": {
          "model_module": "@jupyter-widgets/base",
          "model_name": "LayoutModel",
          "model_module_version": "1.2.0",
          "state": {
            "_model_module": "@jupyter-widgets/base",
            "_model_module_version": "1.2.0",
            "_model_name": "LayoutModel",
            "_view_count": null,
            "_view_module": "@jupyter-widgets/base",
            "_view_module_version": "1.2.0",
            "_view_name": "LayoutView",
            "align_content": null,
            "align_items": null,
            "align_self": null,
            "border": null,
            "bottom": null,
            "display": null,
            "flex": null,
            "flex_flow": null,
            "grid_area": null,
            "grid_auto_columns": null,
            "grid_auto_flow": null,
            "grid_auto_rows": null,
            "grid_column": null,
            "grid_gap": null,
            "grid_row": null,
            "grid_template_areas": null,
            "grid_template_columns": null,
            "grid_template_rows": null,
            "height": null,
            "justify_content": null,
            "justify_items": null,
            "left": null,
            "margin": null,
            "max_height": null,
            "max_width": null,
            "min_height": null,
            "min_width": null,
            "object_fit": null,
            "object_position": null,
            "order": null,
            "overflow": null,
            "overflow_x": null,
            "overflow_y": null,
            "padding": null,
            "right": null,
            "top": null,
            "visibility": null,
            "width": null
          }
        },
        "6bd46157edd842fd8a12e5c369eca5a3": {
          "model_module": "@jupyter-widgets/controls",
          "model_name": "DescriptionStyleModel",
          "model_module_version": "1.5.0",
          "state": {
            "_model_module": "@jupyter-widgets/controls",
            "_model_module_version": "1.5.0",
            "_model_name": "DescriptionStyleModel",
            "_view_count": null,
            "_view_module": "@jupyter-widgets/base",
            "_view_module_version": "1.2.0",
            "_view_name": "StyleView",
            "description_width": ""
          }
        },
        "31d4369f00c647d3b3b31a9c02634aa5": {
          "model_module": "@jupyter-widgets/base",
          "model_name": "LayoutModel",
          "model_module_version": "1.2.0",
          "state": {
            "_model_module": "@jupyter-widgets/base",
            "_model_module_version": "1.2.0",
            "_model_name": "LayoutModel",
            "_view_count": null,
            "_view_module": "@jupyter-widgets/base",
            "_view_module_version": "1.2.0",
            "_view_name": "LayoutView",
            "align_content": null,
            "align_items": null,
            "align_self": null,
            "border": null,
            "bottom": null,
            "display": null,
            "flex": null,
            "flex_flow": null,
            "grid_area": null,
            "grid_auto_columns": null,
            "grid_auto_flow": null,
            "grid_auto_rows": null,
            "grid_column": null,
            "grid_gap": null,
            "grid_row": null,
            "grid_template_areas": null,
            "grid_template_columns": null,
            "grid_template_rows": null,
            "height": null,
            "justify_content": null,
            "justify_items": null,
            "left": null,
            "margin": null,
            "max_height": null,
            "max_width": null,
            "min_height": null,
            "min_width": null,
            "object_fit": null,
            "object_position": null,
            "order": null,
            "overflow": null,
            "overflow_x": null,
            "overflow_y": null,
            "padding": null,
            "right": null,
            "top": null,
            "visibility": null,
            "width": null
          }
        },
        "0cf8636042f14e0a9bfc2ff23fe4e086": {
          "model_module": "@jupyter-widgets/controls",
          "model_name": "ProgressStyleModel",
          "model_module_version": "1.5.0",
          "state": {
            "_model_module": "@jupyter-widgets/controls",
            "_model_module_version": "1.5.0",
            "_model_name": "ProgressStyleModel",
            "_view_count": null,
            "_view_module": "@jupyter-widgets/base",
            "_view_module_version": "1.2.0",
            "_view_name": "StyleView",
            "bar_color": null,
            "description_width": ""
          }
        },
        "ab46a3802642427d91bb1138289a2eda": {
          "model_module": "@jupyter-widgets/base",
          "model_name": "LayoutModel",
          "model_module_version": "1.2.0",
          "state": {
            "_model_module": "@jupyter-widgets/base",
            "_model_module_version": "1.2.0",
            "_model_name": "LayoutModel",
            "_view_count": null,
            "_view_module": "@jupyter-widgets/base",
            "_view_module_version": "1.2.0",
            "_view_name": "LayoutView",
            "align_content": null,
            "align_items": null,
            "align_self": null,
            "border": null,
            "bottom": null,
            "display": null,
            "flex": null,
            "flex_flow": null,
            "grid_area": null,
            "grid_auto_columns": null,
            "grid_auto_flow": null,
            "grid_auto_rows": null,
            "grid_column": null,
            "grid_gap": null,
            "grid_row": null,
            "grid_template_areas": null,
            "grid_template_columns": null,
            "grid_template_rows": null,
            "height": null,
            "justify_content": null,
            "justify_items": null,
            "left": null,
            "margin": null,
            "max_height": null,
            "max_width": null,
            "min_height": null,
            "min_width": null,
            "object_fit": null,
            "object_position": null,
            "order": null,
            "overflow": null,
            "overflow_x": null,
            "overflow_y": null,
            "padding": null,
            "right": null,
            "top": null,
            "visibility": null,
            "width": null
          }
        },
        "c6a6cbee27084a14b4101ebea558c078": {
          "model_module": "@jupyter-widgets/controls",
          "model_name": "DescriptionStyleModel",
          "model_module_version": "1.5.0",
          "state": {
            "_model_module": "@jupyter-widgets/controls",
            "_model_module_version": "1.5.0",
            "_model_name": "DescriptionStyleModel",
            "_view_count": null,
            "_view_module": "@jupyter-widgets/base",
            "_view_module_version": "1.2.0",
            "_view_name": "StyleView",
            "description_width": ""
          }
        },
        "45d097c9ea754da48b378d606879312a": {
          "model_module": "@jupyter-widgets/controls",
          "model_name": "HBoxModel",
          "model_module_version": "1.5.0",
          "state": {
            "_dom_classes": [],
            "_model_module": "@jupyter-widgets/controls",
            "_model_module_version": "1.5.0",
            "_model_name": "HBoxModel",
            "_view_count": null,
            "_view_module": "@jupyter-widgets/controls",
            "_view_module_version": "1.5.0",
            "_view_name": "HBoxView",
            "box_style": "",
            "children": [
              "IPY_MODEL_8319e84eadb64fec93735636e70a756b",
              "IPY_MODEL_bce2fefd9171495db4b364a20d207fec",
              "IPY_MODEL_1c1997b7afdd43d2b49494f96d016f47"
            ],
            "layout": "IPY_MODEL_66f32eec64d14a7384b4ebb400d35ad7"
          }
        },
        "8319e84eadb64fec93735636e70a756b": {
          "model_module": "@jupyter-widgets/controls",
          "model_name": "HTMLModel",
          "model_module_version": "1.5.0",
          "state": {
            "_dom_classes": [],
            "_model_module": "@jupyter-widgets/controls",
            "_model_module_version": "1.5.0",
            "_model_name": "HTMLModel",
            "_view_count": null,
            "_view_module": "@jupyter-widgets/controls",
            "_view_module_version": "1.5.0",
            "_view_name": "HTMLView",
            "description": "",
            "description_tooltip": null,
            "layout": "IPY_MODEL_711cf30833ec42fdafaa5596a664186a",
            "placeholder": "​",
            "style": "IPY_MODEL_13ea95511d7c4c9fab1961e7f6d87af8",
            "value": "special_tokens_map.json: 100%"
          }
        },
        "bce2fefd9171495db4b364a20d207fec": {
          "model_module": "@jupyter-widgets/controls",
          "model_name": "FloatProgressModel",
          "model_module_version": "1.5.0",
          "state": {
            "_dom_classes": [],
            "_model_module": "@jupyter-widgets/controls",
            "_model_module_version": "1.5.0",
            "_model_name": "FloatProgressModel",
            "_view_count": null,
            "_view_module": "@jupyter-widgets/controls",
            "_view_module_version": "1.5.0",
            "_view_name": "ProgressView",
            "bar_style": "success",
            "description": "",
            "description_tooltip": null,
            "layout": "IPY_MODEL_c9709003f239492297150bd7395e417e",
            "max": 125,
            "min": 0,
            "orientation": "horizontal",
            "style": "IPY_MODEL_caf11b29aed746658da0d21086a1c0c0",
            "value": 125
          }
        },
        "1c1997b7afdd43d2b49494f96d016f47": {
          "model_module": "@jupyter-widgets/controls",
          "model_name": "HTMLModel",
          "model_module_version": "1.5.0",
          "state": {
            "_dom_classes": [],
            "_model_module": "@jupyter-widgets/controls",
            "_model_module_version": "1.5.0",
            "_model_name": "HTMLModel",
            "_view_count": null,
            "_view_module": "@jupyter-widgets/controls",
            "_view_module_version": "1.5.0",
            "_view_name": "HTMLView",
            "description": "",
            "description_tooltip": null,
            "layout": "IPY_MODEL_10ce798e77c8480197d8671db7813947",
            "placeholder": "​",
            "style": "IPY_MODEL_bd3b34affb114d0c9be120f2fb04a1f0",
            "value": " 125/125 [00:00&lt;00:00, 8.17kB/s]"
          }
        },
        "66f32eec64d14a7384b4ebb400d35ad7": {
          "model_module": "@jupyter-widgets/base",
          "model_name": "LayoutModel",
          "model_module_version": "1.2.0",
          "state": {
            "_model_module": "@jupyter-widgets/base",
            "_model_module_version": "1.2.0",
            "_model_name": "LayoutModel",
            "_view_count": null,
            "_view_module": "@jupyter-widgets/base",
            "_view_module_version": "1.2.0",
            "_view_name": "LayoutView",
            "align_content": null,
            "align_items": null,
            "align_self": null,
            "border": null,
            "bottom": null,
            "display": null,
            "flex": null,
            "flex_flow": null,
            "grid_area": null,
            "grid_auto_columns": null,
            "grid_auto_flow": null,
            "grid_auto_rows": null,
            "grid_column": null,
            "grid_gap": null,
            "grid_row": null,
            "grid_template_areas": null,
            "grid_template_columns": null,
            "grid_template_rows": null,
            "height": null,
            "justify_content": null,
            "justify_items": null,
            "left": null,
            "margin": null,
            "max_height": null,
            "max_width": null,
            "min_height": null,
            "min_width": null,
            "object_fit": null,
            "object_position": null,
            "order": null,
            "overflow": null,
            "overflow_x": null,
            "overflow_y": null,
            "padding": null,
            "right": null,
            "top": null,
            "visibility": null,
            "width": null
          }
        },
        "711cf30833ec42fdafaa5596a664186a": {
          "model_module": "@jupyter-widgets/base",
          "model_name": "LayoutModel",
          "model_module_version": "1.2.0",
          "state": {
            "_model_module": "@jupyter-widgets/base",
            "_model_module_version": "1.2.0",
            "_model_name": "LayoutModel",
            "_view_count": null,
            "_view_module": "@jupyter-widgets/base",
            "_view_module_version": "1.2.0",
            "_view_name": "LayoutView",
            "align_content": null,
            "align_items": null,
            "align_self": null,
            "border": null,
            "bottom": null,
            "display": null,
            "flex": null,
            "flex_flow": null,
            "grid_area": null,
            "grid_auto_columns": null,
            "grid_auto_flow": null,
            "grid_auto_rows": null,
            "grid_column": null,
            "grid_gap": null,
            "grid_row": null,
            "grid_template_areas": null,
            "grid_template_columns": null,
            "grid_template_rows": null,
            "height": null,
            "justify_content": null,
            "justify_items": null,
            "left": null,
            "margin": null,
            "max_height": null,
            "max_width": null,
            "min_height": null,
            "min_width": null,
            "object_fit": null,
            "object_position": null,
            "order": null,
            "overflow": null,
            "overflow_x": null,
            "overflow_y": null,
            "padding": null,
            "right": null,
            "top": null,
            "visibility": null,
            "width": null
          }
        },
        "13ea95511d7c4c9fab1961e7f6d87af8": {
          "model_module": "@jupyter-widgets/controls",
          "model_name": "DescriptionStyleModel",
          "model_module_version": "1.5.0",
          "state": {
            "_model_module": "@jupyter-widgets/controls",
            "_model_module_version": "1.5.0",
            "_model_name": "DescriptionStyleModel",
            "_view_count": null,
            "_view_module": "@jupyter-widgets/base",
            "_view_module_version": "1.2.0",
            "_view_name": "StyleView",
            "description_width": ""
          }
        },
        "c9709003f239492297150bd7395e417e": {
          "model_module": "@jupyter-widgets/base",
          "model_name": "LayoutModel",
          "model_module_version": "1.2.0",
          "state": {
            "_model_module": "@jupyter-widgets/base",
            "_model_module_version": "1.2.0",
            "_model_name": "LayoutModel",
            "_view_count": null,
            "_view_module": "@jupyter-widgets/base",
            "_view_module_version": "1.2.0",
            "_view_name": "LayoutView",
            "align_content": null,
            "align_items": null,
            "align_self": null,
            "border": null,
            "bottom": null,
            "display": null,
            "flex": null,
            "flex_flow": null,
            "grid_area": null,
            "grid_auto_columns": null,
            "grid_auto_flow": null,
            "grid_auto_rows": null,
            "grid_column": null,
            "grid_gap": null,
            "grid_row": null,
            "grid_template_areas": null,
            "grid_template_columns": null,
            "grid_template_rows": null,
            "height": null,
            "justify_content": null,
            "justify_items": null,
            "left": null,
            "margin": null,
            "max_height": null,
            "max_width": null,
            "min_height": null,
            "min_width": null,
            "object_fit": null,
            "object_position": null,
            "order": null,
            "overflow": null,
            "overflow_x": null,
            "overflow_y": null,
            "padding": null,
            "right": null,
            "top": null,
            "visibility": null,
            "width": null
          }
        },
        "caf11b29aed746658da0d21086a1c0c0": {
          "model_module": "@jupyter-widgets/controls",
          "model_name": "ProgressStyleModel",
          "model_module_version": "1.5.0",
          "state": {
            "_model_module": "@jupyter-widgets/controls",
            "_model_module_version": "1.5.0",
            "_model_name": "ProgressStyleModel",
            "_view_count": null,
            "_view_module": "@jupyter-widgets/base",
            "_view_module_version": "1.2.0",
            "_view_name": "StyleView",
            "bar_color": null,
            "description_width": ""
          }
        },
        "10ce798e77c8480197d8671db7813947": {
          "model_module": "@jupyter-widgets/base",
          "model_name": "LayoutModel",
          "model_module_version": "1.2.0",
          "state": {
            "_model_module": "@jupyter-widgets/base",
            "_model_module_version": "1.2.0",
            "_model_name": "LayoutModel",
            "_view_count": null,
            "_view_module": "@jupyter-widgets/base",
            "_view_module_version": "1.2.0",
            "_view_name": "LayoutView",
            "align_content": null,
            "align_items": null,
            "align_self": null,
            "border": null,
            "bottom": null,
            "display": null,
            "flex": null,
            "flex_flow": null,
            "grid_area": null,
            "grid_auto_columns": null,
            "grid_auto_flow": null,
            "grid_auto_rows": null,
            "grid_column": null,
            "grid_gap": null,
            "grid_row": null,
            "grid_template_areas": null,
            "grid_template_columns": null,
            "grid_template_rows": null,
            "height": null,
            "justify_content": null,
            "justify_items": null,
            "left": null,
            "margin": null,
            "max_height": null,
            "max_width": null,
            "min_height": null,
            "min_width": null,
            "object_fit": null,
            "object_position": null,
            "order": null,
            "overflow": null,
            "overflow_x": null,
            "overflow_y": null,
            "padding": null,
            "right": null,
            "top": null,
            "visibility": null,
            "width": null
          }
        },
        "bd3b34affb114d0c9be120f2fb04a1f0": {
          "model_module": "@jupyter-widgets/controls",
          "model_name": "DescriptionStyleModel",
          "model_module_version": "1.5.0",
          "state": {
            "_model_module": "@jupyter-widgets/controls",
            "_model_module_version": "1.5.0",
            "_model_name": "DescriptionStyleModel",
            "_view_count": null,
            "_view_module": "@jupyter-widgets/base",
            "_view_module_version": "1.2.0",
            "_view_name": "StyleView",
            "description_width": ""
          }
        }
      }
    }
  },
  "cells": [
    {
      "cell_type": "markdown",
      "metadata": {
        "id": "view-in-github",
        "colab_type": "text"
      },
      "source": [
        "<a href=\"https://colab.research.google.com/github/RedBatProject/advanced-works/blob/main/mask_language_model.ipynb\" target=\"_parent\"><img src=\"https://colab.research.google.com/assets/colab-badge.svg\" alt=\"Open In Colab\"/></a>"
      ]
    },
    {
      "cell_type": "code",
      "source": [
        "from IPython.display import clear_output\n"
      ],
      "metadata": {
        "id": "_NNNgShPJ-CU"
      },
      "execution_count": 6,
      "outputs": []
    },
    {
      "cell_type": "markdown",
      "source": [
        "# Create Data"
      ],
      "metadata": {
        "id": "wlNUg8JiG4Zg"
      }
    },
    {
      "cell_type": "code",
      "source": [
        "!git clone https://github.com/Dadmatech/Nevise-Dataset.git\n",
        "clear_output()"
      ],
      "metadata": {
        "id": "wtEyCIRcJmkt"
      },
      "execution_count": 10,
      "outputs": []
    },
    {
      "cell_type": "code",
      "source": [],
      "metadata": {
        "colab": {
          "base_uri": "https://localhost:8080/"
        },
        "id": "-WQxMhiJJszG",
        "outputId": "e4f94998-a3ee-4795-a3db-3d4f63c41434"
      },
      "execution_count": 4,
      "outputs": [
        {
          "output_type": "stream",
          "name": "stdout",
          "text": [
            "--2024-06-01 18:54:11--  https://github.com/Dadmatech/Nevise-Dataset/blob/main/nevise-news-title-539/nevise-news-title-539_wrongs.txt\n",
            "Resolving github.com (github.com)... 140.82.113.3\n",
            "Connecting to github.com (github.com)|140.82.113.3|:443... connected.\n",
            "HTTP request sent, awaiting response... 200 OK\n",
            "Length: unspecified [text/html]\n",
            "Saving to: ‘nevise-news-title-539_wrongs.txt’\n",
            "\n",
            "nevise-news-title-5     [  <=>               ] 557.91K  2.04MB/s    in 0.3s    \n",
            "\n",
            "2024-06-01 18:54:12 (2.04 MB/s) - ‘nevise-news-title-539_wrongs.txt’ saved [571298]\n",
            "\n"
          ]
        }
      ]
    },
    {
      "cell_type": "markdown",
      "source": [
        "# First CER/WER"
      ],
      "metadata": {
        "id": "yLcTxIbwKvb-"
      }
    },
    {
      "cell_type": "code",
      "source": [
        "!pip install evaluate\n",
        "!pip install jiwer\n",
        "clear_output()\n",
        "import evaluate"
      ],
      "metadata": {
        "id": "O4Cs6mMdKy_e"
      },
      "execution_count": 16,
      "outputs": []
    },
    {
      "cell_type": "markdown",
      "source": [
        "![image.png](data:image/png;base64,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)"
      ],
      "metadata": {
        "id": "HS-diiIcPQCT"
      }
    },
    {
      "cell_type": "markdown",
      "source": [
        "https://github.com/Dadmatech/Nevise?tab=readme-ov-file\n",
        "\n",
        "https://github.com/Dadmatech/Nevise-Dataset/tree/main/nevise-news-title-539"
      ],
      "metadata": {
        "id": "Evk7AdnuPV-p"
      }
    },
    {
      "cell_type": "markdown",
      "source": [
        "![image.png](data:image/png;base64,iVBORw0KGgoAAAANSUhEUgAABNoAAAFlCAYAAAA9L4VNAAAABHNCSVQICAgIfAhkiAAAABl0RVh0U29mdHdhcmUAZ25vbWUtc2NyZWVuc2hvdO8Dvz4AAAAvdEVYdENyZWF0aW9uIFRpbWUAU2F0IDAxIEp1biAyMDI0IDEwOjQ5OjQ4IFBNICswMzMwidcIgwAAIABJREFUeJzs3XVAFGkfB/Dv7tKpKKhgd50t1tnteWd332vr2d1xxqmnZ9x5xtnd3Z2AHSgmKqBIS/e+f7AMM7C7rLCAwvfz18zO7MyzMM/zzPzmCZlSqVSCiIiIiIiIiIiI0kWe1QkgIiIiIiIiIiLKDhhoIyIiIiIiIiIi0gMG2oiIiIiIiIiIiPSAgTYiIiIiIiIiIiI9YKCNiIiIiIiIiIhIDxhoIyIiIiIiIiIi0gMG2oiIiIiIiIiIiPSAgTYiIiIiIiIiIiI9YKCNiIiIiIiIiIhIDxhoIyIiIiIiIiIi0gMG2oiIiIiIiIiIiPSAgTYiIiIiIiIiIiI9YKCNiIiIiIiIiIhIDxhoIyIiIiIiIiIi0gMG2oiIiIiIiIiIiPSAgTYiIiIiIiIiIiI9YKCNiIiIiIiIiIhIDxhoIyIiIiIiIiIi0gMG2oiIiIiIiIiIiPSAgTYiIiIiIiIiIiI9MEjvAR65uesnJURERERERERERFmsctliaf5uugNt6U0AEWW9R27uzMekFa8RIsrJWAbSt4rXJhGR/qW3QRm7jhIREREREREREekBA21ERERERERERER6wEAbERERERERERGRHjDQRkREREREREREpAcMtBEREREREREREekBA21ERERERERERER6wEAbERERERERERGRHjDQRkREREREREREpAcMtBEREREREREREekBA21ERERERERERER6wEAbERERERERERGRHjDQRkREREREREREpAcMtBEREREREREREekBA21ERERERERERER6wEAbfTfevX8PV9dnWZ0MIiKib9otJ2cEBARmdTKIiIiIciQG2uib5+39GZOnzUTTFj9h/sI/sjo5RERE36SHjx6jZ58B6Nm7P7bt2JXVySEiIiLKkRhoo29WaGgYlv65Ag2btsTefQcQFxcHJ2cXtmojIiIS8fDwxMjR49C+Uzfcuu0EANi6fQeio2OyOmlEREREOY5BVicgJ3n95i0WLFoCALAvkB8L5s+RbB83cQoCA4MAAEsWzYetrW2WpDOrKZVK7D94GEuWLoefv7/wuYO9Pbp164LLV6+hQoXyOh3rzxWr8FQVmBs2ZCAca9bIsHTTt0uc94oULoQ5s6ZndZKI0iyjyrX9Bw/j1OmzAICWzZuie7cuOn0vICAQm7dux/Chg2BqaqqXtDDP6iY8PBxr/lmHjZs2S4Jq1apVQYumTXD6zFm0+6WtTscaPGwkYmJiAQArly+BlZVVhqWbsh9xuTRq5DBUrVI5q5NERESUZRhoy0RRkZG4fOUqAKCgg0OK7S4ud+Hp5QUACAwKypGBtqdPXTFj9jw8fPRY+Mza2hqdO7SHh6cnlq9YCQBo1rQJypYpnerxnru5CX/zn9q0YqAth4qIiBCug1KlSmZ1cojSJaPKtQ8fPER1lH2q+wcEBGL9xk3YtmMXwsPDYZs3D/r26aWXtDDPpu7EydOYv3AxPn/2ET4rUbwYWjRvhus3b2Hx0uWwtbVF61YtYWRkmOrxbt12QmhoGAAgOCSUgTb6Kq7Pngt5tkunDgy0ERFRjsauo5nI2MREWI6IiEi53dhIWI6MjMq0dH0rFv2xDD936CIE2RQKBdr/0haONavjvy1bce7CRWHfDf9tlnz36VNXbN66XfLAAQAmqfzNKWcwMkrKW9HR0Zl+/s+ffbB563Y8eeqK+Ph4HD1+EocOH0VcXFymp4W+fxlVromPGxWluQ4KDg7GshUr8WOjZvh3/UaEh4cDADZu3or4+Hi9pCWr86y4TgkJDcW2HbuELplZLTw8HD37DMDI0eOEOs/a2hp9evaEqakp1q7bgKdPXQEAvr6+OHr8hOT7GutL46T/fyTrS/pKWZ1nL1y8jN179iEqOhrv3r/H5q3b8frN20xPBxEREdiiLXOZmooejiIjU2w3NjZO2p4Db3Lz5bODUqkEANSsUR0F8ufDsROnUjy41antiO5dOwvr7u/eoX3n7oiNjcWmzVtx5eJZKBQKAICpifjBIeXfnHIGcWuOzH4AiI+PR+fuveDh4QkDAwO0/ak1jhw9DgB48/YtJo4fm6npoe9fRpVr4pc96gJtcXFx2LZjF1b8tRrBISGSbSWKF8PwoYP1lpaszLPJ6xQHBwc4ObsAALZt3ogG9etlanqSMzMzg4WFOQBAJpOhbetW8PHzw/Zd0skPFAoFOnVoh9q1HIXPtNaXqdyjEGljLMqzUZmcZ/cfPIyJk6cBAC5duYo7d+8jKCgIlhYWuHrpHGxscmdqeoiIiBhoy0SptUIQB9rS26Lt6VNX3Ll3H21atUS+fHbpOlZm6d+3N5ycXeBgb4/DR4/jzt17ku11a9fC2DG/oWaN6pLP3759h9jYhHFlPDy9EBYWJnR5kfzNI3Ne8JISiN+0a2upkxHCwyPg4eEJAIiNjcXJU2eEbc+ev8jUtFD2kFHlmrRFm/RB2e3FS4wZNxFuL15KPi9frixGDBuC1q1aQC7XXyP5rMyzyesUb1HLLze3F1keaAOA+XNmITg4BIULF8LBQ0ckrWMVCgU6d2yPkcOHolChgpLvaasvU2t1T6RNVubZly9fCctXrl5HTEzCeIUhoaHw9PJioI2IiDIdu45mInErBKVSmeKNn6RFWzoenhLfWM+dvxCdu/XMsO5p4u5w+iCXy9GoYQNs3rodQUFBwueONWtg3+7t2LVjS4ogGwDU/7EeWjRvCitLS4wZNVIyroyJ+A09W7TlWOK8ldmtYywszDF+7ChYWVqiaZNG2LtrG4oWKYKCDg74bfjQTE0LZb2o6Gjs2bsf584ndIV3drmDrdt24suXLzofI6PKNXE+ET8ou7o+Q4fO3SVBttKlSmHd2tU4eewQfmrTSq9BtuRpyew8m7xOWbxgHnLnzoVqVaugc6cOaTqmpu6aaZUvnx3y2dli3/6DQh0vk8nQqWN7XLlwBn8s+j1FkA2p1JemJqwvKe2yMs/27d0T5cuVhW3evPj371Xo27snLC0s0KVTB/xQsUKmpoWIiAhs0ZZ2L16+wo6duzF39gydHzDErQWgGgPFWPQGUNJtJx0t2rS9sdaX5N3hzp46hhLFi6X7uCv+Wi0sFy1SBNOmTESL5k21fsfIyBDr165Ru0085gzf0GdvsbGxWLdhE36oWCFFi5OvGTvmy5cvWLZ8JUaNHKa3CUl+GzEMv40YJqxfuXhG6/70bUhLOZ+aaTNm4+ChI4BqwPD9Bw8DAI6eOIFD+3brdIyMKtdMTNQH2tau3yg5z+/zZqNn967p/pvoK8++fv0G23bswpxZ0/Xyf1JXp3Tq2D7Nx9PWXTOtXr95i6PHTwrr9erWwYxpk1GubBmt39NaX7IFOKVCW5n4NXn20uUreP36LQYP+lUv6SpUqCBOHT8srDdt0gjz5szUy7GJiIjSgoG2NFi5+m+s+WcdYmJi4OBgj6GDB+r0PblcDkNDQ6FJe0REJKytrYXt0q6jaX+bnPjG2snJBb8O6JchM4cl7w73+s2bdAfaoqKj4evnJ6xXrvwDmjRu+NXHEAcvpQ8OfEOfXb169Rpjxk+C67PnsLOzxfnTx6V5S/IAEAOlUgmZTJbiOBcvXcGUaTPh6+cHP39/rF2zUqfze338iODgEFhbW8G+QIFU909+ndK3J63lfGpeiLo4HTmWNEj9cy3diKOjYyRjlmVUuWZsJKqDopMCbV5eHyX7lShePN0BLX3l2TV//4tVf/+D6OgYlCxRXOdZTzMzz2bEy6/k/5O2bVqlGmRLTlt9yTFNKbnUykRp11H1gbaQ0FDMmDkHR4+fhEKhQL16dVChfLlUzx0bGwsPT09ERUXDztY21a6grGOJiCirsetoGvgHBArBsj9XrMJb93c6f9dUyxtj8UOOuoen+Ph4fPrkjY+fPmntDpr4xvrxAxeMGTVC57R9jeTd4Ro1bJDuYxobGaFf36SHpKPHTmDQkBGpBh2jo2Nw8tQZ/DpoGBo0bi7524gHd+YsatmXiYkJ3r1/DwDw8fHFvAWLJduNkt1wR6vyb3KRkZFCsPf0mXO4dv2mxnN+/uyDP5YuR3XHeqjXoClat22PuvWboG79Jti+M2XLpMDAIGzZtgNt23fGpCnT0/Q7KfOkp5zXZvzYUbCzs0XZMqVxaP9u1K7lCGtra0yfOinFvmfPX8CIUWNRzbEOvL0/C59nVLmmaYy23j27S/brO2CgpDVVWs+ljzz72ccH0dEJ25b++Rf8/P01njOr8qy27pppVbtWTeTNk0dYnzpjNlau/jvV7+laX7IFOCWXWpmoS9dRE2NjvHz1GlBNrjJzzjyt53z61BWjx01ExSo10bhZa7T6qR2qOdbFz+07w8n5Tor9Xe7cxeSpM1DdsS7c3+mnzCYiIkoLBtqSueXknGKw5+SmThqPokWKAABiYmIwe+7vOh/fWMsYKJpatN2//xAjR49DuR+qoU79xqhbvwmqVK+N+QsWp7gZdnK+g2XL/8KwkaPRu9//MGzkaKz+ey3evHXXOY26+m3EMDx+4IL/1q/V25vDubNm4H8D+gnrl69eQ79fByM0NEzjd74Ef8GosRNw6fIVfP7sg9tOzsI2fbf8eP3mLUaPnYBGTVuhfadu2LVnnzBTKmWdQoUKYua0KcL6wUNHcO/+A2FdJpPB0DD1WQx/atMKLZs3E9bnLViUYtZbANi9Zx8aNG6Otes2wD8gQLLt46dPmDl7HrZs2yH53NnFBXPmLcDTp644d/4iH2SzUEaW83fv3ceFi5dTzMqZqHHDBnC5dQ1nTh7FDxUrYM/OrXh0zylFMAsA1v67ASdPnUFoaBgOHz0mfP415dqbt+4YOmI0qjnWhWPdBlj4x1KNMwJqmnW0U8f2OHZ4vzCxTkxMDMaMm4h9Bw5pPbc2+sqzUyZNQIEC+QFVaxnx8ANiWZlnM+Lll7GxMa5cPAvHmjWEz1asXIPfF/6h9Xta60tj1pekWWploi5dRw0NDbF08QKhRez9+w9x/OSpFPvFxsZi2ozZaNu+M44eO5HiheuTp67o0/9/ePzkqeTzmbPnYe/+gwgNDcPRY+l7GUBERJQeDLSpuL14iZ69+6Nn7/6Y9/sirfuamprij0XzhfXrN27i1m0nnc4jbYmQPNCWdJMSERGJkNBQjJ0wGR279sCJk6clDz4hoaH4b/NW9OwzQHibDwBr163Hmn/W4fSZc7hx8xZOnzmHP1esQtMWbdC9Vz+43LmrUzrTS6lUag2OaZuRaub0KZgwdrSw7uxyByNGjdHYis82b140bpTUou7chUvCsi6DO6ubmEKdu/fu45cOXXD0+Em8e/8eDx89xrQZszF+0tRUv0sZr3u3Lqhbp7aw/sfS5ZLt4q532saPmTt7BkxNTQHV2E/HT56WbD91+iymzpgtuWby5smDwoULSbq2bdi4WfK9pk0aI1euXICqtcj1G7fS8CspPTKjnF+34T8MHDIclavVwoWLl9OV3o4d2gnLiZMn4CsGrXd2uYOf23fGmbPnEBAQCB8fX6zfsAnjJkxWu7+0RZu0jK70Q0WcOHIAFSqUB1Tl5pRpM3H5ytU0/jr95FlzczPMmZXU2mzv/oPwTNat8lvPs1HR0VrrIE31pYWFObZv2YhmTRsLn23ctAVr/v5X47G01pc6TLLB+jLnSq1M1LWOrVixAvqJunivXPV3ihda8xYsxq49+4R1uVwOB3t7IdgPVbBv6/adku916dxRWD53/sJX/kIiIiL9YaBNJT4+HrdUb3Zv3XbC3Xv3te5fy7Em2v3SVlj/d/1Gnc4jfWOcrOuoqEWbm9sLtG3XCYePHJPsY2FhLnkYevDwEbZuT3oLX7lSJY3ndnJ2QdcefTBo6Ag8d9M8HlB6uNy5i99Gj0c1x7qYv3Cxxv0mTJqGao510avvr3j0+EmK7SNHDMXsmdOE9avXbmDu/IUaj9e2TWth2dnZRViWtPzQ0Brhrfs7lP+hGlq2+UVja4AvX75gxKixCA8PT7Ht0OGj2LN3v8a0UeaZN2em8Kbc5c5d3H/wUNgmHT9Gc6A3f/58GDYkaeyZ1Wv+kTwEXLuR1J20fLmyuHLxDO4638C1S+dw9tRRYVtAYKDkuIaGhmjZIqm1nLNLym4vlLEyo5x3uXMPUAUkKv1QMV3pFbeufPT4CYKDgwEdy7VPn7wxaOhItWXWyVNncFbNQ6imWUcT2draYu/ObUIrqvj4eIwZPxk+Pr5f/dsS6SPPtmzeDHVr1wJULWH+XrtOsv1bzbP7DhxC3wEDUamqI06fPqtxvx8bNUf9Rs0weNhIhISGSrYZGxtj3T+r0bpVC+GzZStW4uQpzROuaKovjXWYDIH1Zc6mrUw01jG/AsCYUSOEIPbrN29TvNC6du2GsNypY3vcc76Jm9cuwvnmVcybPUPYFhAgzbM/tW4lLD93eyGUmURERJmNgTaV8uXKok3rlsL6nr0HUv3OuNG/CW/Dr9+4BV/f1B82xLO6aes6evb8Bbx//0FY79q5Iy6cOYGnD+/iyQMX9O3dU9h2QnSD0qhhfQwbMgh/LlmENSuXY+b0KejVo5tk4NjzFy6hddv2aN22PfoOGIgPHzxSTbeufH39cPzkKQQGBuHK1Wsa93v05AkCAgJx89Ztye8WG9CvDyZPHCesb9uxC1euXle7b4P6Pwr/ixcvXwk3eZK/t4auMI8fP0FcXBxevHwFT08vtfv88+8GfP7sAwCoUKE8du/YKmltsmrNWnaJ+QaULFEc7dv9LKyLA9W6jB+TaOCv/YVxlF6/eYsbN28L2+rUchSWnz13w7/r/xMCceJxrUqWKJ7iuI0b1heW1QWYKWNldDnv6fURX758AQDY2dnCzi59s9bmy2eHUqVKAqqgVuLYRrqUa3PnLxQeMqtUroQbVy+iW9fOwnZ1XSyls46qzyMWFub4b8NalC1TGlAFVf5apX4WS13oK8+OH5fUCvrQ4aOSrrvfap598uQprl2/iaioKFzWUF9++uQNX19feHh6weXOPVhaWKTYR6FQYPVff6Jpk0bCZ1Onz9J4repSX2qaDIH1JWkqEyWB+lTyq7W1NQb+2l9Y35qs23bt2kl59vCRYzh/ManlpSTPlpTm2QIF8qNM6VKA6mXHk6euX/37iIiI9IGBNpHBA5OmGb94OfUuP0WKFEYtx5qAqkJPbMmgTWKXNAAIj5C+7VUXcMqdOxd2btuEJYsXoGTJEoDqLfuYUSOFfXxEN9PVqlbB5Inj0Klje7T9qTX+N6AfFsyfA5db1zBx/FjJsZ+7vcC16zfx/sMHaBMWFo6jx07o1F2kfv16UCgUgGrgaXWD0QYFBQnBPRMTE5RS/S51hg0ZJLlBnzl7rtrJEWxscqNY0SLCeuLA4SYmSX/vCDVv1wHg4ePHwnKlSilboPgHBAjdE4yMDPHPqhWoU9sRSxb9LoxX8vHTJ8lsgpR1unbuJCzfFrXW0GX8mERmZmbo0qmDsL5s+V/C8i8//yTZtmfvfowZNwk+Pr4YNzFpzCnxPomqVa0qLHt9/JhiO2W8jCznxYGNXNa50p1WAChburSw/MnbG9ChXLv/4CHOnDsPqOqV1X/9iYIO9pg+dZIQqHF78TLFZB+SFtcR6stLALC0sMCqv5YJLdGOHDuRagsWbfSRZ6tXqyrMXhgVFSV5cM/MPPvi5SvccnLWKZAk7sIpHitN7JG4fvqhgsZjGRgYYM3K5UKwMDgkBHM1dI/WVF+aiq4rda3RwPqStJSJX5NfAaBPr+5JY7U9eIjXr98I2yaNH4uKFROu9/j4eEyaMh3bduzCg4ePsEIV2JfJZOjUoX2K41arlpRnk3cjJyIiyiwMtIlUqVwJhQsXAlSzjSVW0NpumAsXKigsJz4EaWNubi4sBwYEad03j40N9u/egXp166TYdkI0eGyRwoW1Huf16zeYt2AxVmmYkczX10/r90+cPIXR4ybCsU4DtTOziVlZWuKHikkPA5cupxy/x0n0IFWoUEEhMKeJeDY+D08v/Llildr9ChQoICzHKxNaK1hYJP29AwLV/72dnJLSk/ggIPbP2vVCcK9bl84oUiTh721gYIAmjRsK++nSopH0R1O+LFw4KU96i/Kk5CFA9EZc03HKlEkKcDx+8hRBQQnXj0wmw9I/FmLShKTA9bETJ+FYtwFeqVocVahQHj17dEtxTFvbvEJLgPQEJijtMrKcNxIN3u/h6Zmim9/XUiqV8PqU9KCYx8YG0KFcW7JshbBsZ2eLPHkSvmdlaSkZw2jtuvWS7ykUSbcE0dExWgNLpUuVErqQhoeHp/rCBnrKs9r+T+I8+8+/G4TlzMyza9dtQM/e/dG4WWvcuav95VstR0ch0ODj4wvXZ89T7CMOPKqrn8RMTU0xXjS+6YmTp3Hx0hW1+6qtL81ZX1KSry0TNQXaNB3H2toa+fPlE9b3HUyaXMXGJjcO7NmBFs2bCp/NmjMfHTp3F4LAffv0FFrWiuUXjePGepaIiLIKA23JiFtX+fv7A6pxVLr17IsrV68LN5Dx8fG4c/ee5CZWPEirJuJ9zp47Lxk/Qtz9xszMDLt3bkHJkiUQFxcH/4AAPHj4CNt37kbPPgMwSzTbU8MGP0puZAICAnHLyRmr1vyDzt16oVmrtti2fafQIs3Y2BjdunbG1k0bcOXiGbRq2Vxrmo+dSAjqffnyBQapBMWgalmQaMN/myXdbTy9PuLvtUkPd69evcabt+5qZ3aE6u34edEg4InHXLB4CT5++iR89vr1G7iJxp2zt7cHAOSzS/p7BwUF4eKlK8LfKiYmBrv37JO8WX/y1BVhYUlv8i9euiKZie7s+Qs4cvQ4PL0+wuvjR8mDlI3qIZgyXnR0DNq264SVq/+Gh4en8HlgYBDWih6wxf9/yfgxqrzw5q07mrZog30HDgmBNAB49/499u0/KDnngkVLEBOTMPHIly9fULNGdclA6mL/698XgUHSB9X4+HhcvnJVuP4KOjik+fdT+mRUOV+4SGFhQPCIiAgMGzFaCOR8jfDwcFy7fhO/DhyK+/cTxiwzNzfDD6ox37SVa3v27pe8zPDw8MSvg4YhUBU4qaMaywwAbju5YNOWbYiNjQUAyayfALBk6XJJvkgUFhaOy1eu4uWrpLJT/BJJHX3lWW3/p6uioQUiIiKwd19S1+DMyLNR0dE4ey5h7Lt3798jb948Wvc3NzdDubJlhPUFC//Ap08JQQulUol79x/g8OGkrrS3nV3g66f+xVh8fDw+fPBIMWHHqLHjsWPXHsnkRJrqSzvRtX3nzl28e/9eWGd9mfN8bZkoHVMxKdA2cfJ0TJw8DU+fugr3epGRkThw6IjkPm7nrj1wdX0mrH/5Eizp0ZDczz+1SfEyIygoSNLquFBB1rNE+vbu/XtJXiUi9WTKdA6U8cjNHZXLFtNfirJYzz4DhBvVC2dOIH/+/GjUtCX8VA9jUAXBoqKiJLNgmpubwenmVbXjp4jtP3gYEydPk3xmYGAgPOiIWViYIyY6RqcumzIAStWbe03/UkNDQ/Tu2R0jRwwVWkakJiYmBuUrVRcCDHedbyBvHu0PD1u37cTsedJp3xMebpTQdLXJ5XIoFHLExcbBzMwMkAGRkVFq/y6JlEolZDIZZDI5lMqkQF3tWo7Ys3OrsP5jw2bw9EoaS0Yul2sM7CUyMjLSqetDItu8eXH7xmUYGBjo/J1vyfeWj/9dvxGLl/wprBsaGkKhUKToVjxq5HCMG/MbAKBjlx7CQOu7dmxB3dq10P9/gyXj/pmYmCA+Pk4yk69YYj7TlVwuFx7s4+PjJXlz4vixGDFs8FccLWt9b9eINhlZzk+eOgN7kwVpCxV0QMkSJZAnTx6YW5jh5MkzqFKlEgoVLIiYmBhERUUhJDQMfn5+8Pb+DK+PH1OU45MnjsOwIYOE9a8t16wsLdGsWRO4uj5L0W1PBgAa6g6lUgm5TA5TUxMoFApEq9Kb/Pddv6J9hj995NlKFSvq9H8Sk8vkUEKp85hg6cmzzi530K1nXwBAyZIlcOHMiVTPN3TEaJw5e05YT6rXtNfl8fHxkKlascXFxyMiIkLrb1QqlZDJ5QnXiehvJa4vPb0+4seGTSXfMzQwQGxcLADN6ckp9WV2KgNTExoa9tVl4rXrN9F3QMJEQo41a2Df7u148PAROnTuLuwvl8thYmKi8XpNKG9kX1fPKuRQxsVDoVAgVpQ2a2tr3L5+KeGeMpvLSdcmZR1v789YsWoNDhw8jJo1qkuetYiyo/SWrd/XXU4Gi4yMxIOHjwDVjayDgz1u3LwN/4AAyX7Jxy5RKBRYsmhBqkE2AGjbphX+/mddijfF6t6yi99ApyYeSsg03Aibmpqie9fOGDRwAOxF3UV04e39WQiy2draphpkA4DcNinHJoqPj9fYkiBxe1xcHGQyGULD1P/uatWqIDo6Bk8TB7dVHU4cZLO1tcW8OTMk3xs5fAimTJ8lrCeeR5uo6CjIIN1H24PPpInjvruHhu9Z8hn1YmJihOs0UZXKlSQPxcm7oXl7f8a9e9IWPOrG/xOLVz0E6yrxQT35dypX+gG/9u+j83FIfzK6nJ89cxreur+TtN7x8PSCR7KB4y9cTH18OKjK71Ejh0mCbFBXrsXHScqs8uXKomOHdliwaAmUSiWCQ0Jw6PBRqBOvVELbVa2EEuEaZje1srTE8mXqZ58U00eeve3knOr/Kbm4+NTLe7H05Nn3oomFypctq9P5bHInqy+Fek1zqCEmJkZIo6buyT+1aQVn5ztJgRIZAKVSEmRLXl8WdLBHu1/a4uixpABhtHB/ojk9rC+zH13yWvIyUV3X0VPJZtONj4/XnmdlX/cyCwDiYhPyuDjIJpfL8fu8WTkiyEaU0UJDw7B23Xps3LRVeNHm5OwCV9dnqFChfFYnj+ibxTsdkfUbNyFC9TBRu5YjTE1N0bwQ/v/GAAAgAElEQVRZExw7vB+bt27H9es3Jd02zMzM0KhhfQwfMkgYtDU1pqam2L93B5YtX4lLl67A189P6wMOVN1nbG1tUbhQQZQvXw5169RCjerVcPjIcVy5eg137t1DSEiYcIMuk8lQ0MEeVatUQYMGP6JF86awsrRM099EPH6btbWVTt/x95fenBkZGgqt8hQKBapWqYyBv/ZDvnz5sHTZCty5dz8h2KjmWBYW5qhcqRI6tP8FHdr9jNi4OGzZuh179x3Am7fuwm/Ol88OLZs3w/Chg5E/fz7JMbp36wJzC3Ns2rwNj588lbSSs7OzRdMmjTFu9Ehs3roDh44cTRgYWplwwyeTydCkcUMsnD8XpqYm2L13Py5eugK3Fy8RFRmJsmXLYNjQQWjVQnv3W9KvA3t3YvvO3Th1+iwePnosaclTulQpdOzwC37t30/oxgfVwNyJoqKjkD9/Plw8dwobNm3GpUtXEq4nFYVCgVo1a2DQwAGoW7cOlv35F/bs3S/MZGhsbIySJYqjWtUqaNmiGerVrYPY2FhcuXod585fwL37D/DBw1MSSDAyMkTp0qXxy09t0K9vL42z7VLGyuhy3szMDHt2bsXe/Qexc/feNHWvMDExQaUfKqJhg/ro0qmD2tlL1ZZrqjKrTeuW+H3ubOTOnQvly5fDjJlz8NY9aWIaU1NTzJk5DZcuX8XFy1eE69TCwhwNG9THuDGjcNvJGStX/wMfH58U5zYwMEDJEsXRpHEj9O/bW6fZVfWRZ1s2b6bx/2RuboYmjRph9KgRMDMzxbz5i3Dh0mXht2VGntVHfZlY9yT+pjq1a2HCuDFwdX2G9Rs34eWr1xpbLtra2qKWYw306tEddWo7wtfPD6vXrMWp02cT/lY61JdLFy9EyRLFcfjIMck1A9aXOUpaykRJflU9jE+fOgnVqlbBvgOH4OTsIpS9UF2Hbdu0xuhRI/DixUv8vvAPPHz0WLhOraysULpUSdStUxttWrdE2TKlERwSgpMnT+PqtRt4+PixMJFHItu8eVGndi0MGjhAMl4wEaX0+s1bLFi0BABgXyA/FsyfI9muVCqx/+BhLFm6XNK61cHeHj26dcGVa9fTFGgbPGwkYmISnsX+Wb1CMlFgVvhzxSo8Vd2rDRsyUBh/lii92HVU5cTJ0xg9bqLQJH7Lf+vRqGH9FPuFhobhS/AXWJibw9raOt3nDQ8Ph7v7e5iZm8HAwEDVZQQwUBjAyMgIZuZmknFqNPn0yRsBQYGwz18AVlaWqU4woKu37u/QpHlrQPWgcsfpeqpBu4FDhgutNWZOn4LePXvgxauXyJ8vH3LnygVD0YDhUL3hDAwKwkevT7CwtIChoSEMFAqYW5hrbT0SHByCjx8/oVChgjA31+2tZVxcHDw8PBEVFYUC9gXU/pbw8HD4+PgiKioaxYoVldw8Zlffcz6Oi4tDQGAg4mLjYGNjk+b/V1R0NAL8A2BoZAib3LmFQcoTxcbG4uWr17C3LwBrK6tUW8kkpsvHxxcO9gVgbW39VS1rvjXf8zWSKCvK+cDAILg+ewavj58QFBSEGzdvw939HTp1bA9DQ0MYGxvB3NwcVpaWyJMnDwo62MPBwT7F9adNXFwcPn/2QVhYGIoWLaK2jHV2uQu3Fy9gZmqKJk0awTZvXgBAZFQUXr16hUIFCyJXLmnrKqVSCfd37xAfr4SxsTEUCjnMTE1haZm+OkZfeTa1/1NkVBTc3d+hYEEHWJibZ3ie3bVnH6bNmA2oWmAf2qd98qCoqCjUa9BUeIA5eewQCuTPB+/PPiiQPz+sra1SXAcxMTEIDAyE10dv5MljA7lcDiNDQ1hbW2kNBPr7ByDoyxfkz5dP5/oyKjoanh4eUCgMYJPHJsfXl9mhDEwrfZSJSqUSX758QVh4OHLnyqW2tZmfnz+CQ4JRIH9+nR6+E65RT8jkMtgXKAATE5NUv5Md5eRrk9LO1fUZfmqXMOt3QQcH3LiaNATE06eumDF7XkLwW8Xa2hrdOneC50cvnD5zDkqlEmdPHUOZ0qW+6rzlK1UXWrbed7kFG5vcevtNaSF+bl22ZBE6d0w5mzHlTOw6mk7BwcFY/fe/2Lhpi9DNoXWrFmofvqB64y+e8S29zMzMUKFCuXQfp0CB/ChQIL9e0iRWpHAh5M2TB37+/oiKisKMmXOxbMkitTfTSqUSa9dtEAorhUKBVi2bw9jYCJUqJgzivfrvtbh12wn9+vaGXV5bLF+5GiVKFMP0KZPxww9fNziylZUlrKy+rqWeQqFA0aIJM6W9evUao8dORB4bG8yYNglr/lmHZ8/dMPq34cLU9fTtUygUQtAgPYyNjLTmIQMDA5Qvp1t3MHG69JE2Sp+sLOdz586FH+vVFdaHDPqfXo4rplAoYG+veVgAuVyOOrUdUae2Y4ptJsbG+EFVPicnk8lQvJj+H970lWdT+z+ZGBtLJhvQNV1pTVuN6kkTAd2//xBbtu1A/7691e4bFhaO8ROnCEG2EsWLoXy5spDJZLCxsUFIaCimTJsJX18/TJsyEfcfPMSRY8fRulVL9O3dE3Z2qU++JJYnj40w+6yujI2MUKJEwsQhrC9zNn2UiTKZDLly5UoR0BfLmzdPqpOIiCVco8XTlS6inMpYFJgWtzZd9McyrN+4SbhfUigUaPfzT4iMisKGTZslwwJs/G8zlv6x8KvOa2RkJATavmZ8z4xiouHvkOjpU1fcuXcfbVq11GniQ6JEOTbQ9uDhIxw+cgwHDx+RzJpV6YeKWLJ4QZam7VuiUCjQv29vLFuxEgBw7MRJuNy9i59/aoMyZUrD3MwMIaGhePPmLc6dvwj3d0ldTXr17A4H1WxmUM1w9+eKVYDqIcTS0hJ+/v64cfMWSpcqhV49umXqb5sxex6cXe4AqrEGEgcWf/XqNe44XU/l20T0rWM5T5mpdKlSqFe3Dm7eug0AmDNvAQ4cOoIWzZqgSOHCMDAwQNCXL3B1fYZTZ85JZnSdMG6MpPXcxv+2YN+BQwCAFy9f4ZO3N5RKJW47uaBundoomcnBBdaXRETZi6mpKMAkGqM4Xz47IZjmWKM6ChTIj6PHT6aYdOjHenXRpXPHrz6vuLHGtxBoMxUF2iIjpGM1u797h/aduyM2NhabNm/FlYtn9dZrjLK/HBtomzx1Jl6+ks681rRJI/y1fKlOkxrkJEMG/w/Od+7i+o2bgGqChA3/bdb6HceaNTB9ykTJZ8bGSV1gDQwNYGZuBqje5ptkwXhV4vRYW1sJDw4mJhw7iyg7YDlPmW3J4t/RrUdfoT55+tQ1aQIfDYYM+h9at2oh+UxcP5lbmCfMqBgbC7lcrtNwEvrG+pKIKHvR1JKrf9/ecHJ2gYO9PY4ePwEX0eROANCsaWOMHD4UVSpXStN5xXVY8lnMs4Lk7xApbdH29u07YWxvD08vhIWFwcpKtzFYiXJsoK1L5w7CAJD58tlhwrgx6NKpQ1Yn65tkaGiI/9avxeq/12L9xk1aC0UzMzP079sbY0aNTNG9tFrVKliyeAFcXO6ia5eOsMmdGxs2bUGxokXQof0vmfBLpBYvnI9/1q5H7ty5MWLYYOzYtQcvX77CgP59Mz0tRKR/LOcpsznY2+Pwgd2Y9/tiHD95Suu+BQrkx4Sxo9FJzXgw/xvQD5GRUfD398eI4UPw/PkLnDpzFs2bNUGhQgUz8Beox/qSiOjbFxUdjcOHj8LGxgYtmjfVuq+4JZdSqURUdDSMjYwgl8vRqGEDYczRRE0aN8L4Mb+le6ZR8Xii30KLNhNxy75kLdrq/1gPLZo3hZOTC34d0I9BNvoqOXYyBP+AACxcvBRtWrVE/R/rZesBfPUpOCQE589fxKPHT/DJ2xvR0dGwsrSCrW1eVK9WFT/Wq6OXSSIoc32v+Zgyz/d4jbCcp6zk6fUR5y9cxLNnz+HnHwCZTAZrays4ONijVs0aqOXoyGvyO/I9loGUM/DapETjJ03FwUNHAABLFi9AVy1dO+Pj41G8dNLsvI/uOQnPcDVr1xdmG7YvUADLlixE3Tq1dU7HufMX8f79BwwaOCDFtjY/d8Cz524AgEP7d6Na1SpqjxEbG4t1Gzbhh4oV0KB+PZ3P/bX+XLEKq/9eC6ha882ZNT3DzkXfF06GkEZ5bGzw55JFWZ2M746VpSU6dWyv9g08EdG3hOU8ZaWCDvYY0K9PVieDiIhyiBcvk4bLeK4KZmkil8thaGiImJgYQNWay9raGlFRUUKQDaqx3IoVLarT+YNDQjB1+iycPHUGcrkc1atVRbVq0kCakaTrqPoWba9evcaY8ZPg+uw57Oxscf708QxryCHtOhqpcb/EFn9EupLrsA8RERERERERfaPGjx0FOztblC1TWuOs12KmasYnMzY2lsxS/uatO9p16gq3Fy91Ot679x8AVYu58ZOmIjo6RrKPLl1HTUxM8O79ewCAj48v5i1YnOq51QkOCcGJk6exfsMmHDp8FIGBQSn2EU8KEZls1tHAwCBs3bYTv3TogjHjJqb4LpE2DLQRERERERERfccaN2wAl1vXcObkURQpUliyTd1oUcYm6scn271jK5YtWSQMb+Dj44tuPfvC1fWZ1vMbGhpixbLFwvfc371LMYGeuEWbpkBboUIFMXPaFGH94KEjuHf/gdZzJ7drzz7Uq98EI0ePw8I/lmLcxCmoXa8hdu7eK9lPW4s2ZxcXzJ73Ox4/eYpLl64gNDTsq9JAORsDbURERERERETZTGxsLPbuP4iGTVummIld2ppLGmTq3LE99uzYhly5cgEAvnz5gn6/Doan10et5ytdqhRGDh8qrK9dtx7BwcHCunhsUm2TIXTv1kUyLtwfS5en8kuTbNqyDdNmzEZIaKjk86joaEyfOQdnz18QPjPVEGwEgKZNGgu/Pyo6Gtdv3NQ5DUQMtBERERERERFlMyN+G4vJU2fgwwcP/L12vWSbiXHKrqNi1apVwYG9O2FrawsA8PP3x+ixE9S2jhMbMnigMEN2aGgYduzaI2yTjtEWpfU48+bMhFyeEK5wuXMX9x88TOXXJoxTlzjjPABUKF8OvXp0Q758dsJnCxcvFX6DpEVbsq6jhoaGaNmimbDu5OKS6vmJEjHQRkRERERERJTN/Ny2jbB88tQZBAQECusmJknjpSVvzZWoZIni2LZ5A8zNzQAA9+4/wPGTp7Se09jICL+NGCasHzpyLGmbDmO0ic/dvt3Pwvph0XE0WbJsOeLi4gAA3bp0womjB7Fg/hwc2r9bmFDh/fsPePzkKZD8b6BmMoTGDesLy0+euKZ6fqJEDLQRERERERERfSeOHjshCZpp0qplc6E1V2xsLM5fuChsMzU1FZbDI8I1HqNc2TKYNmWSsL5n74FUz/tL2zZCUO316zfw8/cHVEG4RKkF2gCga+dOwvJt59RblM2YNhmtWjRHoYIOmDdnJmQyGQDAwd4eHdv/Iuz36vUbAICJSdLfICI85d+gerWqwvLHT59SPT9RIgbaiIiIiIiIiL4D796/x+hxE1GrXkNMnjpD674GBgZo/0tSq7DzFy8Jy+bm5sJyYEDKGTnFunTqKIyv9tzNTfhcUzdSExMT2NnZCuufvT8DybuOigJtmo5TuHBBYdnb21trGgGgWNGi+PefVdixdRMuX72GDf9txpq//8V/m7cKLd0AwPtTwrEsLJL+BgFqZiW1tbWFgYEBoJpJlUhXBlmdACIiIiIiIiJK3YmTZwAAMTExiExlnDMAqP9jXazb8B8A4Klo5lDxuGVnz51Hh/Y/w8rKKsX3/fz9cer0WURHxwAALEQBuomTp0MmA/r16YXy5ctBLpcjMjISJ06dgYeHp7Cfnepc0jHaEgJt0dEx6NC5G1o0b4qO7dsJ47sFBgZh7b8bktJrl5ReTYKDgzH390U4fOSY1sBYrty5UhwzKCgIFy9dQZPGDSGTyRAXF4cLly4jNjYWAFCwoEOq5ydKxEAbERERERER0Xfg1m0nYblFs6ap7l+mTGlh2c/PX1iuVrUKdu/Zl3BMJ2dUqlYLBgYGiI+Lh5mZKSBLCIbFxMRIjle7liMA4MHDRzhw6DAAYP/Bw5DL5TAxMUFERISkhZpjzRqwzZsX0DBG26YtW+H67Dlcnz3HipVrYGhoCIVCgchkY6b91Ka11t8ZERGBzt16p5hdVZ0a1asBAOzsbFHQwQGeXl4AgP8NHga5XI74+HjIZDLJ72jw44+pHpcoEbuOEhEREREREX0H3F68EJYrV66U6v7icdEsLCyE5bZtWqFokSKSfWNiYhCvjEdoWBhCQ8NSBNlKliyByZPGAwBOnT4r2RYfH4/w8HBJcMrGJjf+WDRfWDdSM0bbyVNnUqQheZCtSuVKGDFssNbfueG/zZIgW5nSpdC+3c9o07ol6tapjbx58gAAqlapjLKi4OPI4UMkx0nsYir+HdWqVsHggQO0np9IjC3aiIiIiIiIiL4DwcEhwrKZaEIDTZ49TwrMOdgXEJZNTU2xf+8OLFu+EpcuXYGvnx9kar5vbm6GcmXLou1PrdGjWxehVdr0qZNQrWoV7DtwCE7OLoiIiBC+Y2tri9atWmDUyGFCgAuAMM4bAESpur0e2LsT23fuxqnTZ/Hw0WNJl8/SpUqhY4df8Gv/fpLvqiMO2A0aOADTRRM4JHrr/g6GBtIQSPduXWBuYY5Nm7fh8ZOnQldRqIJ1P//UBoMG/SoJWBKlRqbUNPKgjh65uaNy2WL6SxFlmidPXbH8r9UAgCKFC2HOrOlZnSTKItkpHw8eNhIxMQkV5MrlSyRjTYybOAWBqoFOlyyaD1tbW43HIansdI3Qt2X/wcPCW/GWzZuie7cuWZ0kohSyUxn454pVwjhNw4YMhGPNGlmSDuZ9/chO1ybppmadBvD19QUAbN74Lxo3aqh1/6HDR+HMufMAgN49u+P3ebPV7hceHg539/cwMzeDgYEBjAwNYWpmCksLC2H2Tk2USiW+fPmCsPBw5M6VC2ZmZmn6bXFxcQgIDERcbBxsbGxSDa6Jla9UHeGqmUOvX7mAQmkYUy0uLg6enl6IiYlGocKFGVzLwdJbtrJFWw4WEhKCy1euAqpmwETZwa3bTggNDQMABIeESgJtLi53hTEYAoOCGGgj+gZ8+OAh1EUFHeyzOjlE2d5zNzchz/3UplWWBdqY94nSpmaNakKQeva8BShSpAiKFyuaYr/o6Bj8uWKlEGQDgO5dO2s8rpmZGSpUKJemNMlkMuTKlQu5cuVK0/cTKRQKYTy3rxUlmhhCPGHD156/SJHCafoukRgDbTmYibGJsBylw4w1RN8DE2MTIdAWKWrCDgDGxklvpSIjec0TfQtMTFgXEWUmcZ6LSFZPZlU6mPeJdPe/Af1w+sw5KJVKfPjggeat2qJJ44aoWqUybHLnRnhEBNzd3+H8xUvw9v4sfK9zxw6oWLFClqY9I1laWiIoKKHnSkhICHLnTl/Qjyg9GGjLwcRBB97gUHZhaip6gEg2kKp4pqOsfLggoiSsi4gyl6kowBUZEal134zEvE+UNtWrVcXE8WOwZNkKQNXd8fyFSzh/4ZLG79Sp7Yj5c2dmYiozn32B/EKg7ZO3NwoXLpTVSaIcjLOO5mDGkjeJ0VmaFiJ9Mdbypl4caEtvi7bPn32weet2PHnqmq7jEOV0JqyLiDKVpEVb5LfSoo15n+hrDB86GGvXrEx1HDIrS0uMG/Mbtm3eCFMdJk74npUoXlxYfvvWPUvTQsQWbdnc6LET8Mb9HQBg2R8LJVMZi4MOfJNI2YWpJNCmpUVbOh4u4uPj0bl7L3h4eMLAwABnTx1DieIciJhInbCwcHTr1RcAYGRoiEP7d0u2sy4iylwmpprrSbEnT11hbm6uduwnXTDvE2Ws1q1aoGWLZnC5cw93797D+w8fEBIaBlNTE9ja5kXVypXRsMGPaZ6Y4HtTqlTSmONvGGijLMZAWzbn4eWFp6oWN35+foAo0GZiwhscyn60vamXdFNJR4u28PAIeHh4AgBiY2Px+s0bBtqINDA2NhLqIajyjIFB0u0H6yKizCUeo1fTMApBQUEYMuw3BH35ggXzZqND+1+++jzM+0QZTy6Xo3atmqhdq2ZWJyXLlStbVlhOnFmZKKuw62g2pFQqcenyFUycPA337z8UPg8NC5PsJ36TqFQqERMTk6npJMoIJlrGnpF2HU37uDQWFuYYP3YUrCwt0bRJIzRq2CDNxyLKrsLDw7F3/0EMGzla8nlY8rrISJQvo/mwTZTRpC+k1NeF02fNxcdPnxAeHo6xEyZj2ozZiI7W7T6ReZ+IskKVKpWE5UePn/DZlrIUW7RlMy537mLajNl4/eZtim1hodIbHPEbTajGxzA0NMzwNBJlJMlkCMnHaDMSdx1N+XARHx+Pz599oIQS+ezsoFAoNJ7ntxHD8NuIYXpLN1F2smvPPixZtkIYlFgsNCwM1tbWwjrHaSLKXOJ6Mvns3IkaNWyAk6fOCOu79uzDqTPncOHsCeTNk0fjsZn3iSir2ObNi8KFC+HDBw9ERETg4aPHqFmjelYni3IoBtqykb37D2LKtJlQKpVqtyd/k2hkZAiZTCbsHxUdBQuYq/3u5avX8M/a9Xju5oZ8dnYYPPBXdOvaOcV+r9+8xcVLl/HsuRv8/QNgYmKMYsWKokmjRqhT21Evv5NIG0mXGC2zjopbtN2//xCbtm7D+QuXhO4rlhYW6NqlEyaMGy0ZPJbXOJFmSqUSk6ZMx/6DhzXuk6JVy1fMPKhrXeTkfAc3bt7Em7fuCAkJhaWlBcqXK4s2rVuxmzfleKm1aHNyvoNpM2an+DwoKAj1GjTFmZNHUKyodNy2jMz78fHx2Lp9J3bv2Q+vj14oW6YMpk6egBrVq6lNO/M+Uc7VsX07BAQGol7d2ihfrlxWJ4dyMAbason7Dx5i6vRZQtCsSJHC6NKpIw4dPoK3qskQkncdhSrwkBhw0HSTs+G/zViwaImwHhrqjsnTZiIqOhp9e/eU7Hv+wkX8sXR5ymNs3IzixYpi6JBB6NyxPeRy9lqmjGGqZZBn8U19REQkQkJDMWvOfBw+cizFcUJCQ/Hf5q24/+Ah9u7aDiOjhNaevMaJNNuwcbPkQbtmjer45eefMHP2POGz0OStqyWtWjQ/bH9NXbR23XpcvXZD8tnpM+fw54pVqF3LEePG/AbHmjXS+CuJvm/aJg0CgJlz5gldrgoVdICHp5ewLSoqCl269cbuHVtQqlRJ4fOMyvtxcXEY8dtYnDl3Xvjs3v0H6NVnAA7u24WKFStI9mfeJ8rZxowakdVJIAI4Rlv2sWrNP4iPjwcAdO7YARfOnMDI4UPQrFkTYZ/kbxKhw4xPly5fkTzYiC36Yxm8vT9LPqtcuZLafQHgrfs7TJoyHT/90hEXLl7W8ZcRfR1jrZMhJF3vbm4v0LZdpxRBNgsLc8nN/4OHj7B1+w5hndc4kXpRUVH4+9/1wvrC3+di/54d6NOrByr9UFH4PGWrltQHRP/quqiS5nzq5OyCrj36YNDQEXju9kKHX0aUvUhatCXrOvr6zVu8evUaAFCsaFFcOHsS911uSfbx8/dHzz4D4On1EcjgvP/HsuWSIJuwf3Q0Jk+bKdz7JmLeJyKibwFbtGUT9+49EJZnzZgijLVmLprOWV2LNhMTY3z5krCcfHyMyMhITJs5R1jv1aMbRgwfgoGDh+PZczdERETg3/UbMWfWdGGfShUrok+vHihfriysra3hHxAAT08vXLh4SZhm+bnbCwwcMhwFHRxQtGgR9OndAy2bN9Pnn4NyMPEsZtomQzh7/oJkW9fOHTF44K8oWbIEYmJiMH/BYmzbsQsAcOLkaQz63wCA1ziRRq/fvMUXVYVSrmwZ9OzeVdhmbp5UFyV/2JbOPJhynKa01EWNGtZHTEwMSpYoDmNjY3z28cHbt+44ffYcAgICAQDnL1zC+QuXUK5sGdja5sXvc2ejcOFCevt7EH2rxHkuedfRT58+CctVqlSCsbExjI2NUahQQWG2bQDw9fPD0BGjcOTAngzL+8+eu2HDxs3C+pLFC1C+bBl0790PoaFhcH32HOcuXESrFs2FfZj3iYjoW8BAWzZhaJQ0icH4SVPxc9s2sC9QAHdFAbiw0PAU3xO/1QwPk27ftGWb0EqgTOlSmDt7BgwMDDBrxjR079UXUI0LN3b0SGFwWwsLc8yfOyvFeaZOnoBr129i0JDhiIpOuJny9PKCp5cXKleqyCAE6Y2pSdJ4auHh0mtaHGhLlDt3LqxZuRz16tYRPjM0NMSYUSOFQJuPr6+wjdc4kXpGosl03F68xO8L/0Atx5rInTsXbju5CNtCk9U1knEVI1LWU2mpi6pVrYJqVaukONbc2TOwbsMmLP1zhfDZc7cXeO72Au8/fODDNuUIJqJ6MiJZPWmTO7ew/OjRYyiVSrx581YSZDMwMEBsbCyePnXF/gOHJGOl6TPvL16yTBgSpVePbujauSMAYOCvA/DXqjUAgPUbNkkCbcz7RET0LWDX0WyidcsWwvL5C5cwaswEdO7WC9dv3BQ+/+TtneJ7CtE4Uu7v3gnLwcHB+Hf9f8J6yZIlYGCQEJetXasmypcrC6i6HGzZtgPa+AcE4N/1GzF+4hQhACHm6+v3Fb+USDsL86QJPQICU856JpbHxgb7d++QBNkSnTh5SlguUriw1uPwGicCihcvJozZpFQqsXHTFgwaOgKdu/WS7Of9SVoXKRRJ9VB0dAy8Pn4U1vVZF71+/QbzFizGqtV/q93OfEo5hYWF5nqybNkysLW1BVTDIQwbMRpDhv8mbG/3S1sM/LW/sH7i1JkMyftOzndw7XrSPWzZsmWE5T69ewg9N+4/eAhnlztafy/zPhERZTa2aMsmpk6eiHfvP+Dmrdsa97lz9y7u3L0nTHPs9fEjPonGtVm7fiOqV68KB3t7zIKxJ58AACAASURBVPt9MYKDg4VtJ0+dQf58+TB18gQYGBigTu1aePbcLeF76zaiTu1awuCyoaFhcH/3Dnfv3YeTkwsuXbkqDKqbqGGDH9GlU0eULVMaebRME0/0tezy2QnLd+7cxbv371G0SBEAEN6AA4CZmRl279yCkiVLIC4uDkFfvuDDBw88dX2G02fO4dZtJ2Hfhg1+hFKphEwmA3iNE6mlUCiwdvVf6P+/IfD08tK43+Gjx9CxYzvYFygAqAY2F1uydDnmzp4Bc3PzdNVFAQGBcHv5Enfv3sO16zdx9959yXmMjY3Rvt3PaNOqJYoUKQQ7VXCBKLvLZ5dUTwYFBeHipSto0rghZDIZFAoFBvTrjSXLElp+icdHs7SwwLjRv8Hr40f8u34joOpqqu+8L5PJMHvufMm2+QsWwcrSEu1+aYs8NjYoXaokXJ89BwBMnzkH27ZsFI7LvE9ERFlNpkxsk51Gj9zcUbksp8v+Vly8dAWnz5zD6zdvEBkZCQsLixQ3GAq5AnHxcWq/n3A5yKCKJ6RQuHAh1KnliPMXLwljXQjHVcihVCLFwLRiTZs0wqQJ41CmdKm0/DzKINkpH3t6fcSPDZtKPlPI5YhTc11aWJgjJjpGbSu05GQyGeRyWY69xrPTNUIZKyoqCgcPH8W1azfgoXro9vX1hY+Pr2Q/uUwOJZRQdxsiDmyro7EuUioBmQwymUztcaHqGt67Z3eMHDEUeWxs0v5DKUfJbmXgjw2bSYJicrkc8fFKyOUyrXVchQrl4f3JG/4BAQnHqVcXO7YmtDrVV96Hqs5Vp1q1KihapAiOHD0uTadSCcjkWtOfXfN+drs2iYi+BektWxloywH2HzyMiZOnCevaHmCSb+verQsiIyNx5OjxVM+j7bgtmzfD8GGDUbnSD2n6DZSxsls+Hj1uIo4eOyGsp/bQrqucfI1nt2uEMt/4SVNx8NARYT0j6iIllJBB/TFNTU3RvWtnDBo4QGj5QqSr7FYG7tm7H1OmJ403qi3vaLN+7Rq0aN5U6z7pyfuzZkzF/gOHUp0lNCfn/ex2bRIRfQvSW7Yq5syZM0eH/TT67BeE/Hlz67AnZZUK5cvhh4oV4enpBR9fX8THKyGTJQxm61izBn6fNxs9uneBq+sz+Pr5QSaTwdjICMOGDsL0KZPQumUL5LHJjfsPH0mmXy9cuBDmzZmFjx8/wvtzQhfUxJujPDY2qO1YE716dMOiBfPQq0c35M+XL8v+BqRddsvHTRs3hpGRIT5//ozAoKCEW28tgTZjIyMUyJ8fFSuUR8sWzTFy+BDMnzsL+fPlhwyAn7+fMCNaTr3Gs9s1QpmvaeNGsLKygoeHFwIDE1qhyWQyWFiYo3mzpvj371UoXaoknjx9hrCwMMhkMpiZmmLIkIE610WfP/sKWV0mk6FQQQc0atAAgwb+isUL56Fl82awtLTMqj8BfceyWxlYsWIFlChRHN7en+Hr64f4+HihfsudOxeqVqmEXj26YfyYUShcuDA+fvyEoMRp6gHY5s2LmdMmo327n1M919fk/fCwMEAmQ948ebBk8QJ069oZHdv/ghDVLKPi1mqNGtbHwP8NwIsXrxAcHJpj8352uzaJiL4F6S1b2aIth4mOjsGbN2+Q2yY37GxtIZdL58Pw9PJCbGwsihQunOJtY3h4OK7fvAUPD0/kz5cPzZs1EWZxDA0Nw/sPH2BnZwsrKysYGxll6u+i9MnO+TgqOhpv37yFgaEhTExMIJMldI02UBjAyMgIZuZmOl2vAQGB+Oj9Cfns7HLkNZ6drxHKfGFhYXjr7o5CBQsiV65ckm1KpRLv3r+HkZER7AsU+Kq6yN8/AJ99fFAgf35YWVlCoVBk6u+i7Cs7l4FxcXH4/NkH4RHhcLC3h6mpqdr9/AMC4OPjC3MzMzg42Kcpf6WW91++fo3c1tawE40jl8jX1xfXrt9EYFAQypUtI5nI6NMnb4SGhSFvnjw5Lu9n52uTiCirsOsoffOWLf8Lt247Y0D/Pvj5pzZZnRxSg/mYUsNrhL5nwcHBmDl7Hnx9/TBzxlSUE81gSKQLloHfp5yQ93ltEhHpX3rLVrkO+xCl2a3bTljzzzrcf/AQ4yZMQVhYeFYniYiIcpgN/23B0eMnccvJGdNnpmvEDCL6jjDvExFRVmCgjTKUmZmZsGxibAwDQ4MsTQ8REeU85uZJdZGFhXmWpoWIMg/zPhERZQVGPShDValcCcuXLobznbvo2rljjhvXioiIst6A/n0RHR0NP/8ADB8yKKuTQ0SZhHmfiIiyAgNtlOE6dmiHjh3aZXUyiIgohzI2MsKokcOzOhlElMmY94mIKCuw6ygREREREREREZEeMNBGRERERERERESkBwy0ERERERERERER6QEDbURERERERERERHrAQBsREREREREREZEeMNBGRERERERERESkBwy0ERERERERERER6QEDbURERERERERERHrAQBsREREREREREZEeMNBGRERERERERESkBwy0ERERERERERER6QEDbURERERERERERHrAQBsREREREREREZEeyJRKpTI9B3jk5q6/1BAREREREREREWWhymWLpfm7BlmdACLKeo/c3JmPSSteI0SUk7EMpG8Vr00iIv1Lb4Mydh0lIiIiIiIiIiLSAwbaiIiIiIiIiIiI9ICBNiIiIiIiIiIiIj1goI2IiIiIiIiIiEgPGGgjIiIiIiIiIiLSAwbaiIiIiIiIiIiI9ICBNiIiIiIiIiIiIj1goI2IiIiIiIiIiEgPGGgjIiIiIiIiIiLSAwbaiIiIiIiIiIjo/+zdd1QTWRsH4B+BhF4sINUG9kaxrZ1FEHvvbV27ruWzr733tpZ1XV17F7EiYscu2AUsdEWldwhJCPn+SDIkJIQAEQvvcw7nTGbmztwZJpPknXvfSzSAAm2EEEIIIYQQQgghhGgABdoIIYQQQgghhBBCCNEACrQRQgghhBBCCCGEEKIBFGgjhBBCCCGEEEIIIUQDKNBGCCGEEEIIIYQQQkokKjoawcEh37oa3w0KtBFCCCGEEEIIIYSQYomNjcPc+Yvg5tEVK1av+9bV+W7ofOsKEEIIIYQQQgghhJAfQ2ZmFnbt/hd79x0Ej8cDADx6HIDg4BA0aFD/W1fvm6NAGyGEEEIIIYQQQkg5FxYegVVr1gMArK0ssWrFUrnlIpEIp8+cxfoNm5GYlMTMt7G2xuCB/XH7zt0SBdrGTfwDAkEuAODv7Vugr69f6mP5lijQRgghhBBCykRubi50dOjrJyGEEPI94uXk4NZtfwCArY2N3LKgoGAsXLIcL16+YuaZmppiYL++iPn8CZu2boNIJEJHt19Rp3atYu333v2HyM7OBgBwuTk/fKCNcrQRAiDwyVNs37lLY9u7dv0mJk2ZjvsPHpZJOVIy9+4/wLQZs3HF76rS5ddv3MLsufMRFh7BzAsIfIKZc/6El/c5uXVTUlIRH5/AvL512x9DR/yOjx9jNF7v2Ng4LFqyHDw+X+PbJoT8fI6dOIXfRo/Dp8+flS7fuetfLFm+kun6IfU4IBCLl63E44BAZl58fAJWrFqLIcNHYdSYCQgLC1erDk+ePsPAISMwc/a8Itc9cfI0Ro+biIDAJ0qXf/r8GRs3b8Vvo8dh8LCRmDNvAd68fadWPcjPLT0jA//tP4ily1fJzb/k44uJf0zDwCEj8Nf2nUVuh8fnY/nKNcX+DN+77wCGjRyN9IyMYtedEEIKiouLx/6Dh/E6KLjM9qmrp8dMc7lcZnrNuo3o3rs/E2TT1tZGn1490LpVS+zZtx+Xff0gEokAAHv/21/s/XI4HGaa/xP8xqFHiqTc+xjzCUOGj4JAIICFhQUG9u9b6m2+ePkSl339YG5eGa1b/fLVy5GSefvuPc5fuARRngienTwUll+7fgOnz5zFsKGDmXnh4RE4430OL168RL8+vZj5R44dx6Yt23Bw3x60b9cGkVHRuP/gIc5duIgpkydqrM5CoRBDR4xCeEQkMrOysGUjJR0lhKh289Zt3Pa/C/879zBk0ACF5ae8ziA+PgFLFy2Qm3/5ih8OHT4KI0NDtGjeDKmpqejRpz9iY+OYdWZOn6JWHYRCIR4HBILDYWNpSioqVDArdN29+w8iLCwcrVv9gubNmsotu+1/F5OnTkdWVjYz7yEC0LVLZ9SrW0etupCflzBXiBWr1kJbWxtzZv0PBgYG+OffvVi7fhOzjpGRYZHbWbx0BU6e8sLd+w9w9vQJtcpA8p559uwFHjx4qPR7BSGEqCsvLw/9Bg3Fx48x0NHRgd/lC7CvWeOr71dfXybQlpPDTFepYsEE0po3dYGVlSXOX/SBUCiUK9+mdSv079en2PvlcNjM9M8QaKMWbaTcs7O1QRdP8ZehefMXqf10XpWWLZoDAAIDn5ZJOVIyv0jO94VLPsjLy5Nb9vbde5y/6AMTY2O5ps8tW4rLhEdEyn2wBIe8BQDUruUAAEyg9NmzFxqts7a2Nv6cOxsAcPbcBZw+c1aj2yeE/Hykny379h9UWHbylBeioz+gWVNnaGlpyS1r3lQc5Hry9BkA4NqNW4iNjUNHN1dc9b0AnwvecHCwV6sOLZo3g4N9TfD5Anh5F37fevgoAGFh4TA0NFD4op6eno4p02YgKysbPbt3xekTR3DpnBd2/LUZjk0aqVUP8nOrUMEMDg72EAqFePHqNQDg8JHjYLFY2PPPTty67ouF8+cWuZ2Z06cCAEJDw7Bk+Uq19y/9XhFA3+NICQQFBWP/wcOIi4v/1lUh34HsbC7TqjY3Nxdh4aX/jaoOvUJatP02Yhg83N0wauRwhEVEKATZOrq54tyZkzhy8D+Fh2Tq0JVp0Vawhf2PiFq0kXIvOzsbQcEhgCS54/9mzcV571NgsUoeh27SWPyF/+279+ByuWr3MS9pOVIydWVaP9Ss3QCtW/0CY2NjJCcn48nTZ8jLy8PkiePkPnBqVK8OE2NjpGdk4OjxkxgxbAjSMzJw7/59AICpqQkgeQoFABmZmRqvt4/vFWZ62YpVaNu6FSwtq2h8P4SQn4P0syUsPAJtXd3hYG8PXQ4HUdHRePvuPVgsFiZNGK9QrrGk3MtXryEQCJgn2Xa2tqhdS/wAQigUQiQSKQTplBk6ZBCWrViNk6e8MHb0KKXrHD9xCgDQr29vGBsZyS27ev0mMjIz0bBhA/y1ZSMzv2HDBsU4G+Rn16RxI4SFhePZ0+do1bIFc326ODuhYsUKAACBQAA2m13oNm7532Gmz3ifg6eHO9w7/lrkvqXvGdn8RYSoIzIqCr36DUJubi727T+I2zf8oK2trfH9BAUFI/DpM3Tx7IQqVSyKXcbA0ABnz12Ag31NtPqlpcbrp2mPHgdi5Rpx7w9nJ0csX7LwW1dJbUZGhpj5v6nYs3c/mjVzQYf27Uq8rbi4eFy+4oemLs5oVMRnpr7M7x6RSAQenw9dDgcsFgsd2rfD/IVL5Nb/1bUDZk6fUuqRRnV1dZnpn6FFGwXaSLm3cvU6hEdEYvCgAbjidxWvg4Jx2ssbAwf0K/E2TUxMYG5ujoSEBERERKp94ylpOVIy2traqFypEjNijmxuPA6HjXFjxuKPSRMUyjk42OPZ8xdYvHQFoqKi8eTpM2RmZgEA+g4YgoYN6uOeZFvSH7iacuGSD86eu4BmTV0gEonw5OkzrN2wCVs3rdfofgghP49aMq3OPn6Mkcs7VblSJSxbshAtWzRTKGdna8M8WDh/0QcN6tWFgYEB9h88jGwuFzbWVjh12ht7//0bdevULrIevXp0x+q1GxAWHoHnL17CybGJ3PL0jAz4Xb0GABg+dIhC+c+SHHPNXJyLeQZIedKgfj2c8T6HG7duw8PDDb17dcfOXf+ie69+GDZ0EF69DgKLxcLObVuUlo+O/oAly1aiYsUKcO/ohpOnvLBi9Vq0b9dWrmuTMrUcxK3aQ0PDvsqxkZ9XREQUcnPFIy5+jPmErKwsmJiYaHQfJQnmFSxjY2ODR48DAACH9u9Fu7atNVpHTRMI+AiS5DeTbTH1o5gyeWKpU9AUtwuqbAMDAMjhcplzt2Xrdma+tZUVNq5frXbANTc3F7v37EOjhg2UXjeyOdpU5aFOTU3Fhk1bMX3qZJibm6u172+BAm2kXAt88hTHTpxC7Vq1sGLpIjRzccaM2fOw+a/t6NO7p8qnnUWpZV8TCQkJCCtmwKyk5UjJtGjRDD6Xr2DK5Ilo0bwpMjIyYWpmiiaNGsHQ0EBpGQf7mnj2XNwldN+BQwAAc3Nz1K7lgPsPHjJJuV2cnTBtyiSN1TU9PR1Llq2ELoeDzRvWQpgnhLtnd5w7fxGTJ4xDLUm3VUIIkWVmZoZKFSsiKTkZu3dtB1tHB3w+H5aWlmjUsIHKH1o1a9bAi5evMGvOn3LzT57yAgCYGBsjQ83E7xUqmMG1QztcvXYDXmfOKgTaLlz0AY/PZ7qZFmReuTIgaZlHSGFq1hD/gHz+4iU8Ovdg5n/6/BnrNmwGAHTp3KnQ8vMXLUVOTg7Wr10JTw8PPHnyFOERkTh52gvDZXK2KlOtqh3YbDYyMjMRH58AC4vv90cg+b60bdMaHu5uePQoAL+PGqnxIBtKGMwrWCZWplvr27fvvttAW2xsHM5duIhNW7Yx87Kyssq0Dnl5eRAKhaX6PSklbVVWEsq6oKoKtLFYLLDZbAgEAkAyAqipqSl4PB4SEhOZ9fT19VCjenW16hAaGobpM+cgOOQNLCzMcc33IkxNTeXWkQu08ZQH2q5eu4E/FyxGUnIyPn/+gv3/7VZr/98C5Wgj5drK1eKmxMuWLISOjg569ewOBwd7xMXF4+Kly6XatjRvTXFzvpW0HCkZB3vx+U5JSUGb1q3Q2dMDrVq2KDTIJlvGw90NWzauw6b1a3DD7xKOHtqHyxfPYu/uv3H54lmcOXVMo1+Udu76FykpqZgwfizs7GxRvVo19O/bGwCwpwSj+xBCyg/pZ4uAL8Cvrh3g2ckDjk0aF9mawV4S8DI0NED/vr3Ro1tX9OvTG39MGo89/+xE4KO7aNbURe169OndEwBw0cdX4Ym1lyTn5NAhA5WW7ejmCmMjI9y9dx/7Dx5m5mdnZ+Ov7TuZHwWkfLOXCdIOGzIIvXp2R88e3TB86GAsXbwAN6/54u/tW5WWveV/B/cfPETLFs3Ro1tXcDhsTJs6GZCMKCrtPl0YbW1tVK9eDQDKLJ8S+TlwOGz8u2sHXj0PwHTJNadp0mCeibExpk/9Q63vqAXLrF21HBUqmMHZyRH9JN9BvydcLhfLV65BW1d3rF2/Se5zoawCbRGRUdiwaQtat3djPtdKKiDwCebOX4SmzVvj3fvQEm1D2gXVxNgYbr92UKsLqmz3UW6OOE+brq4ufpHkqoYkX3XPvgPw9t37Irenp6eHqOhoQDJ6+fJVaxXWUafrqFAoRFJyMiC5X3/PuaqpRRspt549f4GXr17Dw92NuWmwWCxMnjAO/5s1F15nzjI/CErCxsYaABARGVkm5UjJMOc7Qv3zbWtrA0jyHfTu1UNuWf16dVG/Xl21t5WdnQ0Dg8KDelI5OTk4fvI0zM3NMXH8GGb+pInjcfzkaVy6fAXLliykvH6EEKVK+tkibR3UxbMTNqxbXep6uLl2gImJCdLT03Hz5m10lgxGFBEZhRcvX8HMzAyeHspHazQ3N8eqlUsxdfosLFuxGkHBIWjXpjU2bNqKmE+fYGJiglEjh5e6juTHZmNtBV1dXfB4PEycMBY21tZql90vaaW+aME8Zl63Lp2xect2REVHI/DJ0yKTfNtaWyM0NAzhEZE/RA4rohnpGRm4eu2G3Ij06nr0OBD37t9HeEQkMjIyYWxshPr16qJLZ0+NjjIpDeaVtkzfIo4xLS0NO3bthr//PYggQsdfXfHHpAkqH2JrQkpKKoaPGsN0FS0oU0OBto8fY3DR5zIyMjLRuFFD5nNM6uDhIzh46CgA4PxFHwxWMto3ALx6HYQPHz6ialU7NG7UUOk6i5YsZwJsFy/5oM6M6SWqs6ouqMryrOrq6QGS1upcbv7Io8ePHISX9znMX7gYfL4A8fEJGDhkBI4d2qeyJ5adnS0WzZ+HeQsWA5Lcl0MGDYCLsxOzjmyLtsICbZ09PdCzRzecv3AJALB23UZ08ugIE2NjNc9E2aEWbaTcOnZcnHB55PChcvM9O7nDwMAADx8HIDk5pcTbt7KyBAB8iY0tk3KkZKyZ8x2ndhnpD9bS/o/eh4ainasHDh89XuS6ly5fQXp6OgYO6CuXO8HWxhotWzRDdnY2/O/eK1V9CCE/r5Lc6wCghqR1zqfPXzRSDzabDY+ObkCBgV0u+YhbkXfv2lllHqwe3bri0P69qFLFAme8z2HajNmI+fQJzZq6oHu3LhqpI/mxsVgsVK1qBwD4XIzr9uPHGNy99wBNXZzRoH49ue317tUdAHDZ16/I7Ui/x8XS97hyQSQSYfvOXWjTzg2z5vyJwCeFjzhb2EiKu3b/ix1/74bvlau4d/8BfK9cxaYt2+Dm0QWDho5EQOCTr3gEMvXj81XmxlJnJMjEpCT07jcIe/bux/vQUISGhmHX7j3o038Q0tPTNVxjeTNmz2OCbCwWCz26dZULmpekRZuyY05ISMT6jVuwa/ceXL95S2H5gL75I2Y/DghEWlqa3PL4+AQMGDwcPXr3xx/TZqBH7/7oM2AwkzNaluzo21ev3Sx2/VVJS0vDpi3b4NGlB/h8+Rbh+vr5vzVyZAJtANCvTy+cOHIIZmZmzHZG/j4OMZ8+q9zfoIH95R4+SLvyS8l+9qsaDGHpogXMwDZJycnYs/f77NVDgTZSLmVlZeOiz2VUr1ZN4Wmjvr4+OrRvC5FIhMcBgSXeh/QJauyX4v2oKWk5UjLW1sUPmkkDbQkJiUzeiuLicrkYMWosEpOSsGjJcpw4eVrl+idPeUFLSwuDB/ZXWNbZU5xr5sHDxyWqCyHk52fNfLYU78e/9H4XF6e5z6SuXcT3rJu3/JGTI/4Cf9HHF5DpWqpKu7atsXrFMub10MEDcezwflSuVEljdSQ/Nlvp9V6M6/aUlzdEIhGGDRmksKxLMT5n879X0Pe48kBLSwuvg4KRLmn9s2v33kLXbevqjjbtO2LcxD/kgi9NGjcutMyjxwEYMHg4xk6YzOQA1rRTXt4YMWoMGjs1h6+KYHKbDu5o20Fc/4zMTKXrzJrzJyIioxTmv3sfikVLVxRZl7au7mjk2Ezhz/vseZXlXrx8hVu3/QFJ7lDv08exbetGDJFpTcbnC5SmGNjy1w78PnYiDh0+KpeDTCAQoKFjM7h27IwZs/MDdlUs80drTVISHGvQoD6qVasKSAKxAYH5wVehUIjfRo9TCJ4+e/YCo8dOVOie3rWzJzP9PjQUKSmpKs+Duvh8Adw8umL7zl0IDQ2D99lzcsv1dBW7jspydnaE18mjzGAEiUlJmPa/WUV2r1++dBFYLHEIKiDwCZPzGgo52goP6laoYIY5M//HvD546AjzXeJ7QoE2Ui49ffYcPB4PXTp3UmgqCwBNJSOaBQUrb3qsDukTzfiEhCJvOpooR0pG2sojJydH7SdtlStVAofDhkgkQkJCoholFOnr62Pp4gXM0xtVT264XC6ePX8BJ8cmSrvAaOJ6JYT83JhWNsUMmFlbWwEA4uLji1xXXW1at4KJiQmys7Nx+85dhIWFIzQ0DNWrVVMYIEGZ0NAw/DFtBgBg4IB+WLViqUaSTZOfB3Pdxql/3d5/8BDa2trwcHdTWObgYA8TExOEhoUV2arHmmnRRoG28mLWjGnM9K3b/kpb9iQkJCA+PgExnz7hccATufxoHdq3xcTxY7Fp/Rrs+GszFi2Yh6GDBzKtdgDg2vWb6NytFzp364URo8bgw4ePGqv/69dBuHP3Png8Hm7531G6zpcvsUhISMDHmE8ICHwKYyMjhXVu+d/Bbf+7AABTU1P88/c2LJw/l1l+/sIlREYpBuFkZWRkIiNT8U/V92RIfttJ9e3TC45NxMFLfX19ud96ylq13bv/ADdv3cbiZSsREvKWmR8ZFQWBQIDIqCi8lQlympmaMdOF3WM6tG/LTL98/ZqZPu3ljZA3b5m6NWncKH+9V6+ZkbelrKwsUad2Leb160K6xRYXh8OGZyd35nXB3jV6evn50rhc5UEsB/uaOLR/D9Ml+Omz57joozrHuYN9TfTq2Z15ffbcBWZanRxtUv369oadnS0g6bZ94+Ztlet/CxRoI+XSO0nSxsaNGihdLr2hRZfiQ0w6Olpubi6TtPFrliMlo6enByMjQ6CYX8grVxL/n4r7o1WWp4c7/t7+F1YuX4IRBbowywoLj4BQKESjQq7X2pLRRj9Ea+5LFyHk52Ih+WwpbsDMvHJl6HI4yMzMQnZ2tkbqwmaz4dpBnIz51u07uHxF3IJCna6fPD4fU6bPBJfLhWv7dli1fIlG6kR+LkxLzGJc72/fvYeDfU2leVO1tLRQu5YDRCIRPsZ8Urkdc3Pxey1eg8Fp8n2rXasWXCUJ5kUiEU57eSus8/JVEDPdpHFDueCPs5Mj5s6egb59eqFb184YPWokVq1YioAHdzBbpuUOALx5+w537t5H9IcPKuv07n0oHjx6rNZDe+n9GAAePlLeavPlq1fMdGG/n7Zs3c5ML1u8AJ4e7hjz+2/MwF0A4H9HdZoTdzdXeHbyUPiTBlUKI/uw5dyFi/jn3724d/8BHgcEyp2DzCz5zzEul4tXr8X/GxaLJZcz7M2b/OBajRr5o2vK5pqLiv6AvLw8hfo4O+Vv55NM4PWff/9jpv/esRXnvU/J5by7cvW6wrZk6/Tli+ru8BmZmTgvGcG7KL/J5DQNDnmD6Oj8a0o253M2t/DP/np162D+vDnM6xMnvYrc74B+fZnph48DmGldNXK0Seno6KBv7/zzNRSlfgAAIABJREFU9khmO98LCrSRciklVdzstmLFikqXV6ggfoKUIWkGXhJsNpvpu55SjFxvJS1HSs5C0uw5OUX9821hISlTyv9RRzdXpd1UZEmbiVcq5HrV0dGBibFxqa5XQsjPTXrPSk1NK3Zr6SqWVQAAiYmKXWRKSpqn7eGjx0wLiK5dPIsoBfy961+8ffceNtbW2P7XZujo0LheRJGVpbhVmbrXLJ8vQHZ2dqGfswCY1kVFfdZaWIi7lRXnOwX58ck+KJAmapclGwioXq1akdsLCwvH8lVrsW37TqXLi+pRsWv3HgwZ9htcO3ZWmTcOAFo0b85054uPT0BwyBuFdR4WUf9r128yAauqVe3Qs0c3Zpl7x/xWogkJCSrrsmHdavyz8y+Fv9atflFZ7lfXDkygJiUlFWvXb8KwkaMxcMgIufUK5k68/+AR053UytKSefgOQO68VbWzY6ZlP0O5XK7SVmaWVfK7l0pbwSYlJzMjbxoaGqBDO3Grt1EjhjHrvnz5WmFb1lZWzLSyoJ6sy5evYNr/ZqFFq/ZF5oB2sK8p16Lu2o38HHCGhvnnISVZdXfV/n37MD103rzNbxFY2HeNqlXzg6ay/w+5rqMygbZCtyMTfP0ec5tToI2US7q64jdypiS/QFBQMEaMGsMMTyy9IRqXcgQT6VNNaWDva5cjJSPNL1Cc8y39H5XFF2np9SrNh8Hj8TB63EQmX4VIJAJfICj19UoI+XlVqlQJWlpayMvLK3ZCamlLa01+JrVv1xZsNhsfPnzEs+cvULNGddStU1tlmZhPn/HPv+L8R+vWrJD7QUSILOlndKqa+YzYbB2wWCy5vFOr1qzHqjXrmdfqfjeUvl9SU9NUrkd+LtLeBQAQFR2NYydOMa+DgoJxRiYHlt+16wrdS5OTU/Dg0WNs2/E3+g0cio6e3XDo8FEm4KCrq4uBA/rh4L49uH3jily3v4J4fD78JC2joqKjUbmy6vyVhoYGqFe3DvN61ep1+CLJ5ykSifD02XOcPZvfxe/h4wC5XGaRUVFYtHQ58/rDh4/Yu+8AwsLCkZiUhNsy3VELa+RQWrY21ti6eYPcgGHKHDh0BFmSVm0ZmZnMZwoAfPr8mfl8/PgxhmltDQDRH/JbrhUcFGX12g1yAxnweDzckRmgzNbWRrw/mSA9S4uF0LAwAIC9fU1mfsHfFUnJybj/8KHCtgojzXeampoKthoPotq2acVMBwWHMNNVZAKFflevFfq9ITEpCSdOnWYGUzCSBOj4fAG69eyLv7bvxMePMcz6KSmp2PXPnvz9WOTvRz5Hm/i6D4+IhJtHF5zy8kaqzHeQgu8x2e18L+gxICmXakqGyj5/0Qcd2rfD7Tv3cOfufXi4P0MtB3uc8RZ/GDo7OcqVu+J3FXPmLYSdnS2OHd4PU1NTlfupVLEiQiX5BoqjpOVIyeQ/pVb/fEu/KHztEZQgc73euHELU/+YhPfvQ3Hj5m3o6+ujT++euHDpMnJyctCubeuvXhdCyI+JxWLBzMwUKSmpSM/ILPLzS5a6LXmk1q7fhAOHjsCzkzu2blqvdB0jI0O0aN4M9+4/AAB4uHcscrtb/9oBHo+H/n17o03rVkWuT8ovac+EdDWvWS0tLdSoXg0hb97ifWgo7GxtceLkaZiYmGDWjGn49PkLAp88g5mZGWrKdCFTxszMlAlqZ2Vly3UzIz+vgqM2zl+4BIsWL0OeSKTQIicuLh5t2rtBR0cHubm50NLSKrTVDpvNxrAhg/DH5AkqW1zKevHiJbhccQJ7Bwd71Kiu+poFADs7O6Yl24NHj9GyTQdoaWkprVtoaBiatRQ/LMnLy4NQKFTYXsFAtVRRLdNKo7OnB5q6OOHEKS8EBD5FQkIC9PT08OJlfrfXSz6+uOTjC0ALgOI5b+LSEgYG+kwwTuqyrx/qXHeElpbi//pxQCBcmreGlhYL2toshfPh6S4OilpZWoLDYYPPFyAjMxMenXtAW1tbrmV2WloaGjk2Q3ZODkR5eXIt2AwNDeDkKP/bVJZAIJBrhdex469FnrM6Mg+4ZFsAOzs54rgkkPXg0WM0dm4BHR0d5AnzYGCgD2iJg2EFB5do2aI5AGDfgYMIDnmD4JA32PLXDrDZbGhraysMWtC1S2dmWlmOthWr1iAiMgpz5i3AHEnKn7w8ocL/oGvXzvjeUKCNlEsd2rdDxYoVcP7CJfhdvc686RcuXoYVq9aCx+OhcqVK6CeTUwAAzp67iPSMDASHvEHgk2fo6Oaqcj9mkh8yxQ3GlLQcKRlpV93inO/8/9HX765pXrky2rVtjTt378O5WSvmQ/eSjy+u37iFnJwcsFgsjBvz+1evCyHkx2VmaiYOtKWnA1D9VFxWBck9MjtbceQxZY6dOIWcnBycO38RK5ctKbTlWfu2bZhAW/t2bZWuIxXz6TPOXbgIDoeNGdOnql13Uj5VqCC+ZqXBBnX07dML6zdugUfnHtDV1QWPx0NGZiYaO7dgWrNNmTyB6WJXGBaLBRMTE6SlpSE9PZ0CbeXEQyU5onKFQqWDrkkJcgXQgvIgm76+PgYN6IexY0bJdR1Uh2yO6fp166pVpmIFM/kZkmqrSjUgEAggEolUHqOsvn16FdlyubTMzc0xZfJEuXmZmVnoO2Aw3r0PBQCIIEJhNRaJRApBNqmCQSUrK0skJiaJ52uJt1wwyDZi+FA4O4uDY7q6upg0YTy2btvBLBcKhQplMjIzFc4rm83GmlXLVbbkjoqKZu5VtjY2ao3ELduKzEhmgItuXTyx8+/dTFdX6fFraWkhU8mAEpAEdefOmQkA8Ll8RW6ZQKA44qtjk8aYPHGc0rrw+XzExsbh6dPncmWUjS46auRwtGrZoshjLWvUdZSUS8ZGRti7+280aFAfeXlCNGncCMcO70f9enUBkQjOTo44dGAvTAp0D6hVyx4AoK2tLZcUs9D9GBsV2YRZk+VIyRgbG0GXwynyy7N8GWNwOGxoa5fNbXTThrX41bUDtLW1UcXCAnt3/41O7h0hystDtWpVsX3rJmb0UUIIUcbY2AjGRkbIzc0tVjkLC3Po6ekpfEkuTC0H8WeltZWVyiBD+/ZtmGlnJ9WjjaalpaFF82YYMmggM4IqIYUxNjaGibFxkfmMZI0b8ztGjxoJExMTcNhsLPhzDqZMngg2WwcVK1bAH5PGY8K4MWpty8TYCCYmJuDxVY9QSn4OKSmpOHDwMPO6Qf164HDYTDCHzWajbZvWuHTOC8ePHETzZk3FyftF+YEULS0t2NnaoEe3rti4fg0eP/DHkkXzix1kQ4H8baamJirXlUpKKjAAm0x8zdDQAB3dXHHF5zw2rV+DOrVrKbR0q1+vLs6cOoawt6+xddN6uP3aARYW5tDR0UH1atUwZ9b/sG71imIfiyYYGRnixNFDGDF8qDj4JKm2SCRCjerVsXbVcpw4ekhudE8AsK9ZA7t2/IXJE8fJ/SY0NTXF2NGjcPuGH04cPSgOpInk99e61S/4e/tWLF+yUG6b06dOxsb1a8S/OQshe16NjAzRrWtnnDx2CD26dVV5nLItePUN9FWuKyU74IONdf61pq+vj9Mnj2DggH5Md3hlwUlDQwM0dXHG0sUL4HP+DBPc8zp5FAvnz4Wzk6PC76vatWph3pyZOHX8iFwrNmmeN0i631paVsGNq5cxdswo2Et690ixWCy0bNEcO7dtwZJF89U61rKmJSpuRtwCXr6NRJO6NdRYk5Afn1AoxL37D2FjbQUHyQ8JVXg8ntwNRF0lLVdS5f19XJLzzePzwWGz1X6K96Mr79cIIT+DnJycMnmIk56RgYCAJ3B0bFzkE/XY2DhYSgZb+J7RPZAUR1m910DX5jeXlZWN30aPY7rsNWzYAJfOeUEgECA8PBwVK1VCBTMzuVExASA3NxexcXHIyMiAZRVLmJgYQ1tbWyN1OnbiFOYvFI/I7OzsCO9TqpPi83g8tG7nxuQZ87ngDSvLKoiNi4eVpSVMTU0UgiUCgQApKSmIi0tAjRrVf6icmXFxcUhNTUe1anYK79OcnBykpqbBxMRYbgTivLw8JCUnQ0tLC5UqVlT4/p+YmISkpGRY21jBWKZlmCrSgRQGDM4f/XPWjOno0b0r0lLTULWqbbHSPERERuFXd3EXSl0OB4/u+zOte5XJzs5Gx07d8FkykumOvzajWyFdMLOzsxEZGQ0DQwPo6OiAw2ZD30AfxkZGRf4WEgqFSE5JgTBXiIoVK8oF1IqDx+cjOSkZbA4bFczMNPZ+KUxp760UaCOE0PuYFImuEUJIeUb3QPK9omvz23n67DlmzZmPyKgoQNLj5dyZk2jUsIHCum/evsOKVWtRqWJFrFy+uFgBlOJ6HxoKj849mNdLFy/AbzIjW8rKysrGzNnzcOXqNUDSiuu6n0+5eZCsSX7XruPAwcP4pWULDBrQH8tWroYwV4gli+YrtMTm8fm4dOky1q7fxAwsYW1lhVvXfUvc2EIoFKJl6w7M9lw7tMe2rRuVBv6SkpMx7X+zmfQNlStVwj3/69SjSkZp762Uo40QQgghhBBCCCkCl8vF9Zu3cPz4KTx49Fhu2Ya1q5QG2QBg8dIVTKs3OztbzJn1v69Wx9q1aqF1q19w/4F4tMqly1fBy/scPDr+impVq0JHRwepaWkIDg7B5StX5UZznDVjOgXZSiAnJwdTp80Ej8/Hw0cBOHXaGzGfPgGSrsPb/9qEq9duICg4BEHBIQgMfCI3yjGbzcbfO7aWqkeTtrY2Rv02HOs3bgEA3Lrtj9bt3ODR0Q316tWBoYEB0tMzEBwSgms3biE7Oz8X3by5syjIpmEUaCOEEEIIIYQQQopw7cZNTJ0+S26eoaEBNq1fA89OHoWWk81XWRbdLNevXYmBg0cwwZ6goGAEBQWrLDN+7Gh09iz8GEjhWCxtsDls8CSjZZqYGAPiUw89PXHw7MQpL9y8dVuhrIWFObZu3gDHJo1LXY/xY0fjydPnzH7S09Ph5X22yDL9+vQq9b6JPO2lS5cuLc0G4hJTYVm5guZqRAgpc/Q+JkWha4QQUp7RPZB8r+jaLFvVq1XDoSPHmNEdO3t6YM/unXB2clRZrmWL5hDkCvBrh/YYN3Y0dL5yfikTY2N079YZsbFxeB8aqnJdKytLLFu8AOPG0uj1JaWtrY1mTV0gyhNh5Ihh+HPOTOQKhXBs3BizZkyHvr4ePsZ8woOHj5gypqamGDZkELZv3YTatRw0Ug8Wi4WuXTzBYXPwKigIfH7hgxjZ2dli7arl+P23ERrZ98+mtPdWytFGCKH3MSkSXSOEkPKM7oHke0XXZtnbuetfZGZmol/f3gqjIX6PYj59xrXrNxAS8gaJSeKE/qamJrCxsUaLZk3RonnzEieoJ+p79ToI+w8eRi0He7g4O8HF2Qk6Ol+vg2FOTg5u37mLV6+C8PnLF/B4PBgbGcHGxhrNmrqgZYvmCoNckHw0GAIhpNTofUyKQtcIIaQ8o3sg+V7RtUkIIZpX2nsrhTAJIYQQQgghhBBCCNEACrQRQgghhBBCCCGEEKIBFGgjhBBCCCGEEEIIIUQDKNBGCCGEEEIIIYQQQogGUKCNEEIIIYQQQgghhBANoEAbIYQQQgghhBBCCCEaQIE2QgghhBBCCCGEEEI0gAJthBBCCCGEEEIIIYRoAAXaCCGEEEIIIYQQQgjRAAq0EUIIIYQQQgghhBCiARRoI4QQQgghhBBCCCFEAyjQRgghhBBCCCGEEEKIBmiJRCJRaTbw8m2k5mpDCCGEEEIIIYQQQsg31KRujRKX1dFEBWrXsNXEZggh38j7yBh6HxOV6BohhJRndA8k3yu6NgkhRPPeR8aUqjx1HSWEEEIIIYQQQgghRAMo0EYIIYQQQgghhBBCiAZQoI0QQgghhBBCCCGEEA2gQBshhBBCCCGEEEIIIRpAgTZCCCGEEEIIIYQQQjSAAm2EEEIIIYQQQgghhGgABdoIIYQQQgghhBBCCNEACrQRQgghhBBCCCGEEKIBFGgjhBBCCCGEEEIIIUQDKNBGCCGEEEIIIYQQQogGUKCNEEIIIYQQQgghhBANoEAbIYQQQgghhBBCCCEaQIE2QgghhBBCCCGEEEI0gAJthBBCCCGEEEIIIaREoj9EIyTkzbeuxneDAm2EEEIIIYQQQgghpFjiYuOwaPFSdO3WC+vWb/zW1flu6HzrChBCCCGEEEIIIYSQH0NmZhb2/vcfDhw8DB6PBwAICAxESMgb1K9f71tX75ujQBshhBBCCCGEEPKT2bZ9J9Odb+KEcWjSpPG3rhL5zoVHRGDDhs0AAEvLKli6ZJHccpFIBO9z57F1y19ITEpi5ltbW6N/vz64d/9+iQJtf0ydjlxBLgBgy+YN0NfXL/WxfEsUaCOEEEIIIYQQQn4yIW/ewv/OHQBA7149KNBGisTL4THXjI21jdyy4OAQLF+5Cq9evWbmmZqaom/vXvj05TO2bd8JkUiEDh06oHYth2Lt9+HDR8jOzgYAcLk5P3ygjXK0EUIIIYQQQgghPxkOh8NM8/mCb1oXUnzxcfE4fOQogoJDymyfunq6zHRODpeZ3rhpC/oPHMwE2bS1tdGjRze0bNEc+w8egp/fNYhEIgDAwQMHi71f2WtVwOeX8ii+PWrRRgghhBBCCCGE/GR0Ofk/93mCHz94UZ7k5eVh6IjfEBMTAx0dHZw/dwY1a9T46vvV19Njprk5Ocy0hYU5E0hr6uIMyypV4OPjC6FQKFe+1S+/oHfvXsXeL5vDZqb5P8G1SoE2QgghhBBCCCGklG7duo2ExET07NkDujItdL4VDlumRZskYT35MWRncxETEwMAyM3NRURERJkE2nRlA23c/BZtw4YOQUDgE1hbWcHn8mU8efpMrpyrawdMGDcWjRs3Ktl+Za5V3k9wrVKgjRBCCCGEEEIIKQXvc+exYIE4cfyz58+xdvWqr7Kf4gTzOLr53QD5peyOFxwcgmfPn6OTuzssqliUaltlJSDgCdZt3AgAcGzSBIsW/Pmtq6Q2IyNDTJ0yGQcOHIKzizPatm1b4m3Fx8XD79o1ODk5oWGD+irXlW3RJhKJwOPzocvhgMVioW3bNli6dLnc+u3bt8fUPyaVeqRRXblr9cfv5kyBNkIIIYQQQgghpBTCQsOY6Xdv332VfRQ3mCefo63kgbao6CgMGjIMubm5OHToCK74XoK2tnaJt1dWBLl8hEjym30PLQyLa+KE8Zg4YXyptlHcLqh6MoE2AMjhcplzt3PH38x8KysrrF61HC1btFC7Ljdu3MSHDx8xatRIhWUc2a6jKq7V1NRUbP1rOyZPmgBzc3O1913WKNBGCCGEEEIIIYSUwpDBA/Ho0SMkJiZh6tQpX2UfxQ3maWowhMjIaOTm5gIAYj59QlZWFkxMTBTWy8vLw2VfP/heuYIPHz4gVyCEZRULODk7YcL4cXLBlK8pLjYOF318sG37TmZedlZWmexbKi8vD0KhEGx26Y9Z2qqsJIrbBZXFYoHNZkMgEF8vOdwcmJqagsfjISExkVlPX08P1atWU6sO6RkZWLJ0Ga5cuQoWiwUnR0c4OjWRW4ctc3y8QgJtN27cxJKly5GUnIzYL7H455+dStf7HtCoo4QQQgghhBBCSCnY2trC+8xp3PG/CdcO7b/KPoYMHoh6devAvHJltYJ5uhrqOtq6VSu4uf0KE2NjTJ40UWmQLT09HSNHjcbsOXNx8+YthIWFIyo6Co8CAnDi5MkyCbJxuVysWbse7p5dsGnzViZYBABZWdlfff8AEBkVha1/bYObhyfOnjtfqm09efIUixYvRdu2HfBeJshaHNIuqCbGxujQob1aXVDlBkTgifO06erqokXzZsz8iMhIDBgyFO/eh6q1vQ8fPgKSAOSfCxYpBH7VuVaFQiGSkpMBAP5378K7lOf3a6IWbYQQQgghhBBCyrX0jAzcuHELvXv1KFa53NxcXL12Hc+fv8Cnz5/B5/FRqXJFNGnUCJ6enqhYsYLG6igN5hVGJBJBS0uLeS3bmqqw4EVQUDA+foyBnZ0tGjZsoHQdDoeNHdu2qqzbnDl/4smTp0qXNW7cROl8TUpJScWY8ROYrqIFZWVrpkVbTEwMLvteQWZmFho2qA8PD3e55UePHcfRo8cBAD4+vhjQv5/S7ahz3lesXMUE2Hx9fVG7VslaSqrqglrwmgEAjp4ekJEBAOBy8wcmOLD/P5w9dwFLly0Dny9AQnwCRv72O/bt/VdljjY2m421a1ahX/+B4PMFiIqOwv4DBzF+3Jj8fcoMhiAo5Fr18HBHt25dcOnSZQDA5k1b0FESAP7eUIs2QgghhBBCCCHlkkgkwq5/dsPd3RPzFyzE0wKjKcqup6xLG4vFwqLFS3Hk6DHcunUb9x88wIULl7Bi1Rq4unXE3D/nI+bTp696DI8eP8bQ4SNx4uQpufmq8l7Fxydg+MhR6D9wMGbMmo3+Awdj8LDhSExKUrqPwo4fAF6/DoL/3bvM64ED+uPIoQM4feoEtm7eiJEjhpbyCIv25/yFTJCNxWKha5fOmDd3NrM8qwRdR5WNfpmYkIQtW7dhz97/cMvfX2F5n169mOnAJ0+QlpYmt7w457137/xt3bhxq9j1VyUtLQ3btu9Ej159FFqXybZo43Fz5OvUqwcO7tsHMzMzZjvjJ0zCp0+fVe6vloMDxo8by7ze+99/SE9PZ16z1czRNn/ePCZ4nZScjAMHDqlxtGWPAm2EEEIIIYQQQn44p057oXmLVgp/3Xr0UqO0mJaWFoJD3iBd0oJnz3/7la4XFR0Nl6Yt0KNnH6xavZaZz2KxCm3Nw+cLcOHCJXTt1gNr120oNIhVGoePHMWo38fi2bPn2PvffgiFQmaZbF4vvkzQSCgUYsLESQot0F48f4lJk6dAJBIp7Kew4weAgMBAZtq9Y0csXbIILi7OaNigPjp18sAvLVuqdSzz5i9Q+v9cXGCky4JevXoN/zt3AAAmxsY4fvQwNm5YJ9eajM8XyHUlldqxcxcmTJqCY8eOy+UgEwgEaNaiFTp36YF58xcw8y2q5CfgT05KVthe/fr1ULVqVUASnJQN3Bb3vHt6eDDToWFhSElJVXke1MXnC9Ctey/s+mc3wsLCcf7CBbnlejLdOKVdR2U5OjXBkcMHUFkyGEFiUhJmz52n9LqRNXr077C1tQUAZGZmyQWGZfMJ8niFB9oqVDDD9GlTmddHjx5DTk5Ooet/KxRoI4QQQgghhBDywxHwBcjIzFT6VxzTpv7BTN+5c0dp65zg4DcQCoUIDQvDl9hYuWV9evfGtKlTsGH9OqxfuwYz/jcNnTq5M4EuPl+Ag4cO41c3DwwZNgJTp88s8TEX5O7mBh0dcUaoz58/w9//DrOMIxMw4QnygxfeZ8/hjWQwBX19fTRq1JBZ9vp1EK5fv16s409NzW+1ZVfVtsTHkp2do/R/yeWqzq/2/MULZrpnzx5o3LgRc2yy3SKVtWp78PAh/P39sWLVGryVGWAiKjoaAoG4m+P7d++Z+aamZsx0fHy80vq0bduamX4dHMxMF/e8W1pZonYtB+Z1cIjybrHFxeGw0bGjG/P6xImTcst19fKvmxyu8iCWfc2a2LN7FwwNDQAAz5+/wGXfKyr3q8vhYMKEcczrCxcv5S/TlQkKC1TnE+zdqycTsEvPyMDt24otC781CrQRQgghhBBCCPnh2FW1g7u7u8Jf+3btirWdWg4OaC9JEi8SiZQmsQ+WCZg0lgmQQNKdbsL4sejWtTO6d++KsWNGY+vmTbh79zbc3H5l1hMIBHj+/AWuXbtW5Cigd+/dR0RkZJF1t7SyhLt7ftDkytWrzLRs3ivZ/f333wFmesuWjTh14hh6yeSmu3bjZrGO39raipm+fctfaZdLFNIVU5ZTk8ZK/5+NGzVSWU42F90lHx/s/W8fHjx8iMDAJ3KtrAoOiMDlchEUJD4u6WiYUu/e5gfXqlXPH11TGlgCgOgPH5GXl6dQH8cm+dv5/Dk/aFuS8+4oU6fYAgHOgjIyM3HJx7fQLr6yhg0bwkyHvHmLDx8+MK/19fWZ6WyuYos2qbp1amP2rPygsZeXd5H77drZkxn4IDw8gmnlqatGjjYpHR0d9OzRnXkdEPikyP2WNRoMgRBCCCGEEELID6dd2zZo17aNRrbVubMnk2fs0qXL+GPyRLnlst0jq0m6BhZGJBLhcUAADh0+ilu3bitdJykpEVZWVkqXiUQiLF66DLFfYtG0qQv+2rJZ5aAKPXv2gK+vHwDA//Yd5OXlgcViKc3RlpScjOgP0YAkaNSujfj8DRsyBOfOibsQvn4VrLAPVcffsaMb1m/YhJycHERERmLMuAlYsmgBHBwckJOTA98rV3Hk2DG4ODlh/p9zCz2OUaNGYlShSwvXvl07rOdsBI/PR0pKKjZtVj5wQ1xcHGxsrJnXjx49ZrqTWlpawsjIkFn29Fl+l087WztmWjZwx+VyERwcItcyDQCqWOR3L5UGF0t63q0sLZlpZUE9WX5+V7Fo8VKYmZlh6pTJGDxoYKHr2tesiUaNGuL16yAAwM1bt/HbyBEAAAOD/POQWkR31d69emH1mrXg8wV49z6/RaCyQRYAQE9PD+bm5oiJiQEAxMfFo3KlSmDLdh2VCbQVth072/yWk7FxcSrr+C1QizZCCCGEEEIIIeWag4M9Mx39IRonT3sBkuDGhQuXEBLyhll+7959uUTuQqEQsV9icf3GDazfsAmeXbpj1O9j5YJs5pUrY/KkiTh6+CCu+V2GuXl+MKagFy9eIvaLuPVSzKdPqFDBrNB1AaBFs2ZM99H0jAwmiMGRy9EmDl5kZmYw81haLISFhwMAataswcxPSU1hptU5fvPKleUGHnjy5Cm69+wDD8+uaN22A+YvEA9UcMnHp8iWfCVhY2ON9evWQE8mib8yR44dY1rUt2z3AAAgAElEQVS1ZWRmYu++/Hx8nz9/Zo4pJiYGV69dY5Z9+PiBCXL5+V2V2+aGTZvlcu/xeDzcf/BApm42QAnOOyTBuUePH8sdpyrSYGtqaipzPajSutUvzHTIm/z/r4VMoPD69Rty/2tZiUlJ8DpzhvmfGsoE6BYsWIwFCxYhODiEOXc5OTk4e+4Cc30CgLlkX8pytEVERqJrt544c/YcUlPzA37RH6Jxyssrv74q3kvfCrVoI4QQQgghhBBSrgkKBICWLl2OZctWKE3w7uV9Fl7eZ6Gjo4Pc3FxoaWkVmgi+YsUKmDB+HAYOGCDXwkwV2eCKa/v2Slv0yNLT00NVOzumq2lSUjKqVq0ql6NNmvfKsoolOBw2+JL8dj169oG2trZcYCYtLQ3NW7RCNjcHwjwhUODYpMfPZrORKxBAT08PWizFNjwfP36Uey0SAeEREahXt45a56E4PDzc4eTkCK8z3nj69DkSExOgq6eHV69eM+v4+vpJglFaABT/Xy1btYWBgb5CF1M/v2twvNkMWlpQCBQGBj5Bm7YdoKXFgrY2S24wCgBw/1XcrbdY5z0nB3l5eRDJtGAzNDRAk8ZNCj1+gUAg1wrP1bVDkeesVq1azHRSYv7ADo6OTXBaEmh+FBCAFr+0gY6ODvKEeeK8dyxxMKzg4BLNmzUFALx8+Qpnz4u7X3ufOw8WiwU9PT1wuVy590nTpi4wr1wZAJjupNJjAYB16zYgMioKCxcuxkLJdZ6XJ1T4H3h27lTksZY1CrQRQgghhBBCCCnXHst0jZTKy8tTGeQSCASFBtmqWFbByOHDMHBAfxgYGCgtX5h37/PzgzUqIj+ZlGwQz9DISDxPLkebONCmq6uLsWPGYOffu5hlQqFQIUCUkZlZaLc92W1qaWmBq2LUR11dXbRr2xZdu3jC1dVV7WBjSZibm2PihPFy8zIzszB02HC8Dw0DAIggQmFHJBKJFIJsUgWDSpZWlkhKTBLP1xJvueA5HDJkMBydxMGx0px3NpuNZUuXyHVtLSg6OprppmpjbYPKlSoVuq6UsmsGADp38sC/u/cyXV0hc61nZSsOKAEA9vY18b8Z0wEAflevyS3Ly8tDdrb8ea1YsQJWLF8id4xSfD4fcbFxeP78hVwZZaOLDh82FC2bNy/yWMsaBdoIIYQQQgghhJRbKSmpOHr0GPO6fr26CA0LY1rOGBsZ4Vc3V8yeNRPXr9/A4SNHER4eIWkZJcbhsFG9WjU4Ozujffu2aN2qlVzwoDgy0vNHTTXQV90dEpLuipFR+UERKytLpk5SfJmBCP6YPBE2NjY4fPgwMwpmQbLBQxNjY7j+2kHJ8cvT1dWFtZUVatrXRN06deDs7AhnJ6ciu3R+TUZGhjiwfx92/L0LV/2uIiExEdASH1+N6jXw++8jUa1qNaxavZoJxgFAzRo1MG3qHwh58wbHj59Eeoa466epqSn69O6FadOmICQ4BOs3bcLzZy+YS8HIyBCNGjbCwAH90KmTh1xdinvejYwM0bZtG4wYNgyOjoW3ZgOAjIz8a0bfQL3z/VZmwAdrq/xccPr6+jh8eD+2bdsBf/87SEhMVBqcNDQ0QJ06ddDZsxP69+vLtEqbM3smHJs0hvfZ8wgIDARXZkCFyubm8HDviIkTxskFA2WvVR6PhyqWVXDp4nkcOHQI/rfvyA0MwmKx0NTFBYMHDYCn5/fXmg0AtESFtXFV08u3kahdo+RD+BJCvr33kTH0PiYq0TVCCCnP6B5Ivld0bZZeVlY2xk+chKdPxd3u6jeojzOnToDP5+N9WCisqlihQgUzsAp0jczJycGnmBiwWNqoVLkSTExMNFanWbPnwueyLwDg999/w+yZM1Suf+ToMaxavRaQJLm/dPGc2vuSJvQfPjJ/GIJpU6ega9fOSE1Ng421NczMTAs9fi1tFkxMTGFkaPhNA2rqiouLQ1paBqpWtVWob05ODtJS02BsYizXCjEvLw9JycnQ0tJCpYoVFVr5JSYmITk5BVbWljCWaRmmiqrznpaaBjs7W5iamqp9XJFRUejSVTyCqS6Hg1s3r6vM7ZednY1uPXrjy5cvAIDNGzegcyFdMLOzsxEdFQ19Q0Po6GiDo8OGnoE+jI2MiuzWLBKJkJaWhuzsbJiZmRW7dacUj89HSlIydDhsVDAzg7a2dom2o673kTFoUreGGmsqRy3aCCGEEEIIIYSUO8+fv8D8BYsRFR0FANDW1sayJYsBSXL2hvUbMOv6+vrh0JEjaNG8GaZPmwo9PT3YOzh8lXo5OzsxgbajR4+jqbNzoTm3LvtewcaNm5nX/fr1UXs/PD4ffn7XsHlL/iidVlZWGPXbCOjq6sqN7FjQ1zz+r6lKlSqoUqWK0mV6enrQs1QMFrJYLCaXmDKVK1fCi5cvsHrNGjRv3gz9+vbFmnXrIMzNw/x5c2Ap01oMpTzvhalqZwfzypWRkJgIHp+PP+cvxIYNa5UG/pKSkzFnzp9MkK1ypUpwdW1f6LYNDAxQr369YtcJALS0tGBmZgYzM9UDehRFl8NROI/fMwq0EaJhX758wf4DhxAcEgIDfX14dvZE3969Cl0/MPAJrly9Bk8PdzSTJJCMj0/Avv0H8O7de+jq6mL2rP/B3t6+0G2Qb+vp02cICAxUyAmhSnJyCg4eOoy4+DisXb3qq9aPEEKkDhw8hLt372PLlo0wMTb+1tVR28nTXrh54yaWLF4Ia2vFUdd2/7sXCYkJmD1zhlxCZVK+xcXGYfeevZg7dzZ0ZUa0k8Xj8fDfvv14+fIVdv29Q67VTvSHaFSxqAI9PT2kZ2Rg167d0GJpYc6smQrbefnyFY4eP46PH2NgYWGB4UOHoGlTl696fKRkuFwubt32x+lTXngUECC3bNWK5WjYoL7SMvPmzwefL8CLFy/RtGlTtGnd6qvVsVvXLti1azcSk5LA4/Ew6Y+pcHRsgl9atkSVKhbiUU5j43Dv3j25Loj2NWti8KCBKrd948ZNhLx5i+CQN3j29CkyMvO7HLLZbGzdvJHuo8WUk5ODWbPmgsfn43FAILy9z+PT508AADZbB5s2rv/q511bWxvDhg3Blq3bAAD+d+6go7sn3FxdUadubRgYGCAjPQNv3r7BzVv+cjnTZsz43w/RGvFHQoE2QjQoJOQNRo8dLzf88L37DxD75QsmT5qotIzftWs4duw4jAwN0axZU6SmpmLA4CGIi41j1pnyx6QyqT8pvphPnzBq9FgIBAKYW1igX5/eapXT1dXF/gMHIRAIMGfWLFSsWOGr15UQQvyuXcOL5y/x+NEjuLu7f+vqqM3f/w7u3L2Hu/cfYGD/fgrLvc+eQ0JCAhb8Oe+b1I98f4RCIX4fMw4RkZHIys7CujWrla6nq6uLk6e9EB8Xjyt+V9Glsycg6SrWo2cf1KtXDyeOHYG+nh4uXryEbC4X06ZOkQvcnTl7DosWLZHLrXTjxk3s+XcXfmnZsgyOlhTHzVu3MWv2XLl5hoYGWLNqRaH3RW1tHehydJmcbUYGhSel1wQTExNs2LAWEydNYRLAv3jxEi9evCy0jEUVC+zYsbXIYM3pM2fh7++vMN/cwhzr161B48bqDb5A8rFY2mBz2OBJBpwwMTHCp8/iZXqS/0dZnPfRv4/Cs+cvmf2kp6eLR/88r7pM7149Sr1vIk9xDF5CSInw+QLMnDUXqamp+P3333D8yGGMGD4MAPDvnr1ITEpSWq6pszMA4Nnz5wCAm7f9ERcbB1fXDrhw3htnvE7B3r5mGR4JKQ5bGxt08ugIAFi8eCnCw8PVKmdoaIAGDcVPTJ9L/veEEPK1tWjWDADw5OmPdd9pLmnxffjQEYVlXme88eHDB7g4OxWZK4aUH9ra2pg1838AgAsXLsH7XOG/NJtLWp79998+Zl5YeAT4fAFqSXoUsNlsOLu4gMvl4v27/ATiEZGRWL58BThsNlauXI6D+/eh1S+/QCgUYsOGTV/xCElJdXT7VS6fmoeHOy6c81b58IHDYePff3ahX98+WLNqJTOS5NfUskULHDt6uMiWkdra2ujZszu8vU6herXqRW7XsUljudempqYYOWI4znuf+S5Hb/wRcDhs/PP3TvTu2RMrVizDgf3/YdSokRgxfBhmSVrAlsV519bWxo5tWzBtyh8qRygFAFtbW2zdvJG5TxLNohZthGjI3bt3ERUdBfeOHZmEpY5OTRAcEoKnT5/h5s1bGKDkKXzDRg0BAK9fB0EgEDBPQ21tbFBLkvdAKBQWObw2+Tays7MREvIWkCT7nPvnApw6cUwhYawyjRo0xIvnL/HqdRDc3H4tg9oSQsq7hg3F+YZevX79ratSLI0aij8rwyMi4N6pC+xr1gSHw8GHD9F49z4ULBYLY8eM+dbVJN+ZK1evMtNr1qxF65YtUcVSMTdTw4YNccnHFyFv3jLz/PzEZU3M8pORi/LyAACZWfldvk6ePA0+X4AF8+cxqULq1a+L9h3c8ObtO0RFR6kV/CBlR1dXF7+P+g1ZWVno1asHatZQL+G5o1OTMgmwyapXtw4OH9yP8PBw3H/wEOHhEUhLT4OOtg7MKpihXr16aNuqFSyqWKi9zTatWyEyKhL2NWvCydERTk6O0NGhsEBpubg4w8XFmXldsIt5WZ13HR0dTJgwDr/9NgJ3791DUFAIvsR+AY/Hh7GhIaysreDi4ozmzZqp9XuFlAy9owjRkFevgwAAXbt4ys3v3q0rnj59hlcvXykNtNna2MDE2BjpGRm45OOLenXqwMDAAIePHAWXy4WVlSW8vc9j585tqFO7VpkdD1HPuvUbEREZif79++H69esIDg6B99lz6Ne36ES09g7ip+ShYWFFrksIIZogzfcZHqZe69vvhWzL7piYGMTExDCvK1eqhAXz56F586bfqHbke+Rz2RcXLlyCi4szRCIRnj17jk1bt2L92jUK68rmwR09Zjyq16iO06e9AABHjxzDly9fwOXm4PZtf3A4bNSuXZtZXxq07tK5MzPP2MgIrh3a47LvFbx88ZoCbd+h8eN+rMC8vb29xvI1N2zYoNCu1OTrKevzrqenB/eOHeHesWOZ7ZPko0AbIRoiEIhzNqSmpcnNr19PPEJLZHR0oWWr16iOV69eY/6ChXLzvc54AwBMjI2RmZHxFWpNSuPp02c4ddoLtRwcsHjhfLg4OWHe/AXYvvNv9OzRHWw2W2V5e8kT1MiIqDKqMSGkvKtqZwc2m42MzEz8v737jmvi/OMA/iFhLwFBAbeArVux7lZrFVx1W2tt1VprW3+2ta3WbWtdbW1trdZqp3vvAbhxax2ICjhAQXGyZYZAyO+PJEdiEkjCKVY+79eL1+ty47m75OFy+d7zfJ+kpGRUqeJV3odkEjc3N1T28EBqWhoWLfwZ1tbWKJDLUbWqNxo2bACpVFreh0jPkMzMTMyZ+y3sbG3x3dzZUBQp0Kt3f+zaFYIP3h8J/8dGSvSrW9yi6eSpUzh56hQAoGPHjoiMjERY2F5A3RJqxlfTUdnDQ1hfLtz/ZejkW23QoD5Cw/Yg4bbx+z8iIno+MdBGJJKG6hGKflv6u6pJcPNmkEqlwjDEV7S6Izyubt06uHTpMpycHNE1KAj5cjlsbWxR1bsKGjdqhPbt23H0n2fQ9z/8CACYOnUyrK2t0atXT/z599+4ceMmQkP3oE+fXiVuX7euqoXG7cTbkMsLYGtbcmCOiKispFIpatWqibi4G7gZf/M/E2gDgLp+dZGaloYCeSG6dO5c3odDz7A//vwb6ekZGPO/0ahevToAoF/fPti4aTOWL1+J2bNn6qzv4+MDR0dH5ObmYv6P85CZmYl6AQEIDGyOR48eITomBkVFSjRp3EgntxcANGrQADHRMfjmm9n45pvpQuu1Sm5uAIC7d+8+tfMmIqJnAwNtRGq5ublwdHS0ePvgoC5o3LgRLl+OwtDhI2BrawNXF1ekpqUB6mHBCwsLDfbF19yUdQ0Kwpw5s8pwFvS0REZexGV1brXWrVTJxSUSCT54/31MnDwF27fvKDXQ5uHhDnt7e8hkMiQm3jarS0BZ6ysRVVzVfHwRF3cD8fEJaNO6tcnbKZVK5Ofnw97eXrRjycvLg4ODg0nr+vr6AADiE+JF2z89f2QyGTZt3gJPLy+8P3KEMP+DUe9j0+YtCNu7D1OnTtard76+PoiLuwEnZydh5FGoE5a3a9vW6P5Gvf8e9u0/gDNnz6J7j95wdnaCRCJFZmYmACBRq5szERFVDMx+RwRgd0gYunbriYgIy0dhs7Gxwd9//YHhw4bC08sLcnkB0jMyUKNGDWGd9PR0g9vWrlUTAHDv/gOL909P18aNqtwtbw8ZrDM/KKgzHB0d8e/Zs0hLM/x5a/PxVrV4fPDwocn7jo2LQ9duPbFu/Qazj5uISJMM/qEZ1x0AmDlrDt4e9i6SkpJFOY7s7BwMHzESk6dOE9IvlKT4epkkyv7p+RS2Zx8yMzMxcEA/naBwtWq+aNXyJeTm5uL4iRN621Xz8QUAPHxg3v9F9erVsW7tSnTtGgQnJ0dkZ+cgPz9fSE6fkmx41HkiInp+MdBGFV50dAwmTZ6ClNRUjPpwNGJirlhclouzMyZN/BLHDh9E5IVzuBR5HnvDdgsj0KRnPDK4na+v6uYuKYk/Hv4LcnJyEbpnD2rVrKXXGsTBwQGvvNIeSqUS586dK7UsHx9VCw1Tfzjm5eVh1IejkZKaipmz5mDT5i0WngURVVTF1x3TAwqr16zF+g0bERMdg5GjPhBa65TFlKnTcflyFLZv34mp078qdX1v9XEnmRkIoYply9atsLKywhsGBiUKDg4CAJz+96zeMh91i8mHFgRya9eqjQU/zce5M6dx4fwZREacxaH9e2FlZYXs7GwTSiAioucJA21U4TVs2ADvDh8GAJBIrCCXy0Up187WVhgyWZMDJzU1xeC6mjxuSckMtP0XXIiMRH5+Prp2DYKVlZXe8sDmzQEAMVdKD9r6qFuWJJn4g9fBwQFTJ08U8rkViFRfiaji0LQMe/jA9O+cvn36oE2rVsJruQkt0EozduzHwvdfkaIICoWixPW9NS3xkhhoI8Py8vIQGXkRTZs2ER5iamsufD/H6C3zVv9fmPp9bIymFZ1UKkVlDw9kZGSY1GKTiIieH8zRRgRg/LjP4eBgj5fbt0fTpk1EL79qFdWPg+Qkw4E2L09P2NnaIjs7h7m3/gNir8cCABo1rG9weUCAajSz24mJpZbl6eUJAGZ1xQrq0gULfpqPh0lJGPzmIJO3IyICAE+vygCA5GTTrzvOzk5YunQx5n77PT799GOdURct5Ve3LlYu+xsrV63BpIlfljpyqFdl9fXSjOOmiuXGzXgoFAphgKrHBfircqHeua2fN03zffxQxN4FVapWQUpqKlJTUoWgMhERPf8YaCNSG/O/0U+sbE0C55KewlepWhWJiYlITU1loO0Zl/FI1QXY3d3wD003N3cAQHZW6d1FvDxVrR3TM0rP56atU6dXzVqfiEjDy0uVO8rc646dnR2+mVF6F09z1KhRA1OnTDJpXS91ICQj4xGUSqXBFsVUsWVkZAAAPNzdDS63traGq4sLsrKy9JZ5earqV6qRfLqW8PXxRUzMFTxMSmKgjYioAmHXUaKnoGZN1YAIiYnGR57y9FS1MMgwkseNnh2abpvZOapAWnR0DEZ98BGuqVu6yfPzAQDOLs6llqX53B+l83MnoqfDs/J/8/umcuXKsLKyQlFRkSg54uj5Y2drCwDIzskBAOTn52P0mE+wY8cuQD1yrrygAC4uLnrbeqoDbRnpGaIdT81apd//ERHR84eBNiIz7N+/H63btMeAgYPw6JHpP1Bq164FALh167bRddzVT1+zsvWfstKzpU6dOgCAkNAwFBUV4djxEzh+4iQuXLgAhUKB7Tt2AgCaNW1aalmaVnGZOUyWTERPh5tbJSFglZOTK3r5839agOYtWmHCpMmiliuRSODmVgkAkMUE82RA7Tq1AQCHw48gKzsbMTFXcPjwERw5dhQAEBK6BzKZDE2b6X8/V9bch4kYxK1dS3X/l3DrlmhlEhHRs49dR4nMsHNXKDKzshBz5SoiIi6Y3H2vZo2acHZ2QsyVGBQVFQmDJGhzr6T68ZCXmyf6cZO4XnnlZXh4uGP37lAcOHAIMpkMAPDNzNn47vsfkJ+fD8/KldG3b59Sy6qk+dGYyQArET0dEokErq6uePToEbIyM+HkJG66go2bNkMmk2HXrhB8NW0anJ2dRCu7kqsb0tMzkJmZBVQTrVh6Tnh5euLl9u1w/MRJtH+5I4qKigAAYWF7ER5+BDKZDBKJBO+9O1xv20paQVxj92rmql9flcs1Kiq6zGUREdF/B1u0EZnB378uoB5Jqpa6lZoprKys0LBBA0il1rh3757BdbyqeMHe3p4jU/0HuDg7Y/GihWjQoD6KihRo3LgRlv3zJ+q/+AKgVKJZs6b444+lcDXQNUW/LNUPUHs7u6dw5EREKi7OznB1dUV+Qb7oZfv5qb4rfXx8RA/iObs4wcXZGYrCQlHLpefH3Lmz0bFjR0ilUlSpUgW//boQXTp3hrKoCDVr1sT8H75HYGBzve3s7e1hY2MDDw934QFaWb1QLwB2trZ4+PCBKOURET2vlEpleR+CqKyUZTyji1fjUa9OdfGOiOgZplAocPLUafj6eMPPz8+sbZ/l0USvx9/h/3E5KSoqQkFhoZBX5lnFOkL0fJHJZLC3t38iZWdmZeH8ufNo3KSxkA9OLE/yuEvCa2DF8CTq15O+/2PdJKKnLSU1FePHT8CQtwYjODjI4DqRkRdxKPwwTpw4gf+N/gidO78GqEc8f5iUjJo1qsPV1RURERewbdt2nDp9Brt2boWDg4NOOddj47ByxUpci42Fg4MD2rVti+HD3tFbT2zX4++g6Yt1LN6eXUeJzCCVSvHKy+0t2vZZDbJR+ZJIJM98kI2Inj9PMljl6uLyxEZGLo8gG1UcT6J+8f6PiJ4nUVHRGPPpWCQ9TMLFS5dRrVo1NGzYQG+97Tt2YsPGTQCAnbtDhEDb/gMHMWv2XADA3DmzcfTYUezZsw8AsGfvfvTr21soY9euEEyeOg0KhUKYd/bsORw/cQLL/v4TNjY2T/x8LcWuo0REREREREREVKJKlVwhU+cUl8lk+Hzcl8jOztFb79VXOwjT+/btF6ZvxscL0zVrVEef3r2E1ydPnRSmr12PxZRp03WCbBrnz0dg85atIp3Rk8FAGxERERERERERlahGjRqoUrWK8DoxMRHfffe93nqBzXVzYUZHxwAATp/+V5gXEOCPF+u9oFXWHWH6tyVLUajOx9qxY0esW70KXTp3FpZrWsE9q9h1lIiIiIiIiIiISrRt+07Exd3Qmbdl23YMHDAAzZo3Fea5urqimm813L13FwAwcJAqn9uNGzeFdcaNn4Ds3OLWcA72xXnXjh07DgCwtbXBD/O+hYuzM6b5TMKh8HAUFRUh4sIF5OTkij7okljYoo2IiIiIiIiIiIxKSU012HoNAL6f/6PePH/1KOQa2l1IAeD4iZOIvHBReN2zZ3cAQGZmJvLyVN1Tvb194OLsDACo6l0VL9QLAAAUFhYiJiamzOf0pDDQRkRERERERERERi1atBiZWVkAgNd7dsfundtgZWUFAIi8cBERERd01q/rX9dgOQB0BjKQSCQY8e5wDBzQHwDg7OwsLL99+zY2bNwEubwAAOBbrZqw3d2790Q9PzGx6ygRERERERERERn04P4DbN22HQDg5OSIL8eNQ5WqVdC9W1eEhu0BAGzYtAmBgcW52WrXqqVTxoyvp6NGjepo26YNMjIe4dr1aygoKESDBvVR2cNDWE8ikaBjhw44cPCgartvZmHmrDlwdHTQGXjh3n0G2oiIiIiIiIiI6D9mzbr1wuAE77w9RBgQYeR7I4RA28GDh5Avl8PO1hYA4OvrK2zv7eONNwe9Ibx2d3dDm9atje5v4oRxiIyMREpqKgCgqKhIb3TTpKRkUc9RTOw6SkREREREREREepRKJXaHhgIArKysMHDgAGFZgwb1UbdOHQBATk4uLkZeEpb5+voI08lJySgqKjJ5n9WrV8fWLRvx5qA34OXpCahbumlLz8gow1k9WQy0ERERERERERGRnuuxcXhw/wEAoF3btqiulScNADp27CBMX4iMFKarabVoUygUSElJNWu/Xl5emPH1dBw9cgiRF87hUuR5rF+7Wlienp5u0fk8DQy0ERERERERERGRnkuXiluptW/XVm9540aNhOkbN28I03Z2dnB1dRVeJyUlWXwMdra2kEqlqFqlijAvOSnF4vKeNAbaiIiIiIiIiIhIz8OHxQGy2nVq6y338fEWptNSdVuZeXl5CtMpqWUPjHlV8RK6kCanWB64e9IYaCMiIiIiIiIiIj2FhQXCtK2tDa5eu46PPhqDgYMG49Kly3B0chKWKxQKnW29PL2E6bT0sudUk0ql8PVR5X7LyclFxjOap42jjhIRERERERERkR53d3dh+vKlKNSsVRNHjh0DACQlJyE1NU1YXr26bv62ypU9hOnMR49EOZ7atWvhzt27AIDExDtwc3MTpVwxMdBGRERERERERER6WgQGCtO/LPoVVlZWwuuxn43TGU2006sddbZ1cy8OgmVlZYtyPH5+fjh+4iQAIO7GTTRu3KjUbZ42dh0lIiIiIiIiIiI9jRo1RJtWrYTXSqVSmNYOsrVq2RKdOr2qs62rS/FgCFlZWaIcT/0XXxSmtUc5fZYw0EZERERERERERAb98stP6Nu3N1xdXeHk5Iju3buia9cgODk5wt3dDQMH9MeiRQt0WrsBgK2tLQDA3d1NZwTSsmjarDEAwMXZGXm5OaKUKTZ2HSUiIiIiIiIiIoNcXV3x7ZzZZm83ZMhgDB/2DhwcHEQ7ltq1arHg1d8AACAASURBVOPg/j3w9fUVrUyxMdBGRERERERERESicnVxeSLlPstBNrDrKBERERERERERkTgYaCMiIiIiIiIiIhIBA21EREREREREREQiYKCNiIiIiIiIiIhIBAy0ERERERERERERiYCBNiIiIiIiIiIiIhEw0EZERERERERERCQCBtqIiIiIiIiIiIhEwEAbERERERERERGRCBhoIyIiIiIiIiIiEgEDbURERERERERERCJgoI2IiIiIiIiIiEgEDLQRERERERERERGJgIE2IiIiIiIiIiIiETDQRkREREREREREJAIG2oiIiIiIiIiIiETAQBsREREREREREZEIGGgjIiIiIiIiIiISgZVSqVSWpYCLV+PFOxoiIiIiIiIiIqJy1PTFOhZva13eB0BE5e/i1Xj+H1OJWEeIqCLjNZCeVaybRETiK2uDMnYdJSIiIiIiIiIiEgEDbURERERERERERCJgoI2IiIiIiIiIiEgEDLQRERERERERERGJgIE2IiIiIiIiIiIiETDQRkREREREREREJAIG2oiIiIiIiIiIiETAQBsREREREREREZEIGGgjIiIiIiIiIiISAQNtREREREREREREImCgjYiIiIiIiIiISAQMtBEREREREREREYmAgTYiIiIiIiIiIiIRMNBGREREREREREQWSbh1C9HRMeV9GM8MBtqIiIiIiIiIiMgsDx48xMQp09E5uCdmzf2+vA/nmWFd3gdARERERERERET/DdnZOVjy+x/4658VyM/PBwCc/vcMoqNj0LBhg/I+vHLHQBsRERERERHRc2b+zwsRpe7O9+nHo9G8WdPyPiR6xsXduIk5384DAPj6eGPOrBk6y5VKJTZt2YZ5P/yElNRUYX41X1+89eYbOHz0mEWBtg9Gf4yCgkIAwG+LfoaDg0OZz6U8MdBGRERERERE9JyJjrmC8MNHAABvDOjHQBuVKl8mE+pM9WrVdJZFRUVj2tczEXnxkjCvUqVKeHPgANy5dxfzFyyEUqlEl86v4YV6AWbt9/iJU8jNzQUA5OXJ/vOBNuZoIxLZvfv38c2suRj45tsYNuJ9bNy8tcT1/z1zFl99Mxv/njkrzEtKSsasOd9hyNARGPH+R4iLu/EUjvz5sP/AIfzvk89w4uQps7ed8+081Pavj4/HfmF0nTNnz2HchMnYvHW7zvz09AwkJSULr8MPH8Hbw95DYuIdo2VdiLyIqdNnYMjQERg24n3MnP0tMjMzSz3OnJxc1Pavj9r+9ZEvl5t8fkREf/2zHO8MH4nMrKxy2f/a9Rvx7sgPcPfePYPLFy/5A1/PnC10QzGkvM+BLHPl6jVMmfY1/vjzH5O3USqV2Lk7BO9/+D/0H/QWJk/7Gol37hpdPzMrC38vW4EZM+fozN8dEobRH4/Fm0OG4ZdFiw1uy7pJzyNbW1thWs57xv+chw+TsGzFKlyOin5q+7Sztxem8/LyhOlvv/8Rvfq9IQTZpFIp+vftjfbt2uDPf5YhNGwvlEolAOCvv5eZvd/nra4y0EYkoujoGPTo1R/LVqzCufMROHrsBCZMmmr0pg4AQvfsxcpVa3Dk6HEAQEZGBnr3fwN/L1uBk6dOI/zwEchksqd4Fv9tkRcvIjRsL/YdOGj2tn+qvxSuXLlqdJ0bN25iy9btWLL0D535q9euQ6t2HYTPMT7hFk6cPIXtO3cZLGfR4iXoN3Aw1qzbgJOnTuPosRNYtmIVbGxsSj3O8xEXhOkzWgFaIqLShO7Zi+MnTuKkBQ8jxHAo/DAOHzkmXCsft3HzFmzctFXnhvtx5X0OZJmUlBSsXb8RW7ZtN2FtlQmTpuLTz8bjwMFwREREYt36jej/xltITkkxuL6iUIFZc77DqjXrhJYRS//4Cx+P/QJhe/bh3zNncelylMFtWTfpeWRnW3xfyYez/y1FRUUYOPhtfDNrLvoNHIwbN+Ofyn4dHLQCbVq/QatWrSIE0lq91AKv9+iGHbtCdAJsAPBy+3Z4Y2B/s/drq1VXGWgjIoFcXoCPx45DRkYGPhj1HrZuXIf33h0GAFi85HedPuzaWr30EgDg3PkIAMD+g+F48OAhunTuhH1hOxGycyv8/f2e4pn8t7Vp3QoAcPbsebO2025JFp9wy2jLsjZtVOXfuBkPhUIhzI+OUQXn6gX4AwDat2sLAIiIiNQr4+TpfzH/54WQSqUY9/mn2LV9M7ZuWoeFC340qZn0seMnhOmjx06UuC4Rkba26mvkGTOvkWLRXKP/WbZCb9mGjZtx69ZttHwpEFZWVkbLKO9zIMu81CIQUqkU167H4tGjR6Wuv2nLNmzasg01a9bAsr+W4u8/lqCary+Sk5OxZOmfBrdxd3eDv78fFAoFIi9dBgCsWr0OEokEfy5djPADYZg2ZaLBbVk3SQwHDoZj3fqNz0xQSzswXFJrTHr25ObmCT1jCgsLEXfj6fRwsjfSou3dYe8gOKgzRgwfiribN7FjV4jOb6EunTth+5YNWL3ib7Rq+ZLZ+7V7zuoqc7QRieTwkaOIT0hAt+AgTJn4JQAgMLAZLkdF4+y589i//yDeGjxIb7smTRoDAC5euoyCggLhiUCN6tVRL0DVt12hUECpVJZ4c0cqTdXv59Vr15GXl2dy//7DR48J00VFRTh67ARe79ldb706tWvD1cUFmVlZWLNuA4a9MwSZWVk4fkIV8KpUyVUoAwCysrP1yti6dQcA4L13h+GTMaOF+YHNm5l0rIfCDwvT4YePYOrkCSZtR0Sk+c7Rzq/yNGmu0XE3buKVTkHw9/ODna0tEm7dwtVr1yGRSPC/jz4ssYzyPgeyjIODA+oF+OPK1Wu4eCkKHV5pX+L6y5avBAAsXbwQDeq/qC7DHkOGjsDu0DB8NW2ywe2aNmmMuLgbiDh/Ae3atBbun1oENoeHhzsAoKCgQK8FOesmldWmLdvw5cQpAICz5yPw0w/fPZH9HDgYjuTkZPTv31cnOGGInZ2dMF3WVkJRUdE4ez4CPbp1RdWqVcpU1tNy+t+zmP3t94D6Pnvm19PK+5BM5uzshHGff4o//1qGli1b4NWOHSwu6+HDJITu2YuXWgSicaOGJa7roBVoUyqVyJfLYWdrC4lEglc7dsCUaV/rrP9ap1cx7rNPyjzSqJh19VnAQBuRSDQ3Vb179dSZ37dPL5w9dx4XIi8aDLTVqF5NCNzs2BWChvVfhKOjI5atWIXcvDxU8/XBxk1b8dcfv+HFF+o9tfP5r3J1dYWXlxeSk5Nx82a8yRf90LB9AICGDRsgOjoGBw6FGwy0AYC/vx8iLkTiqxmzkJBwC+fORyA7OwcAMGDQEDRq2ADH1d1GNDfu2u6p87+89FKg2ed37XosbtyMx4sv1ENs3A3E3biJW7duo1atmmaXRUQVT4C/qtVtbGxcOe2/uIV2YuIdnTyWnpUr45uvp6FN65allFG+50CWC/BXBdqux8aWGGjLl8sRc+UqAgL8hSAbALRt0xpeXl5ISkrGvfv34evjo7dtwwb1sWXrdhwMP4zg4M7o17cXFi/5A736DsQ7bw/GpctRkEgkWLzw58eOjXWTyub69VhhuqQ0JGVhbjBPrLxX8QkJ6DtwMAoLC/HPshU4fHAvpFKpxeU9LQUFckSp85uVFpR8Fn0yZrTOQ3lLaLqgJibegbW1NfaG7oRf3TpG19du0QYAsrw84b37ecEiYb6vjw9+nDcX7dq2Mek4CgsL8fuf/6Bxo4YGr/86rS9LqKsZGRn4Yf4CfPbpGHh5eZm07/LAQBuRSAoKCgAA6RkZOvMbqQM9N+MTjG5bt24dRF68hPETdJ/Obti4GQDg6uKCLCbWNVmAX10kJycjzsRAm0wmw+EjR+Ho6IjPPhmDUR+NQfjho1AoFAZvIvz96iLigqpL6D/qJ+5eXl6oF+CPEydP4crVawCAFoHNMfaT/+lt7+XlCQCIi7uJrkHmnVvYHlVAsNfrPbH/wEFEXryE/QcP4f333jWvICKqkGrVrAEbGxtkZWcjKSkZVao83ZtUNzc3VPbwQGpaGn5fsgg21taQy+Xw9vZG40YNTfrhVt7nQJbz968LqNMvlERRWAgAePToEYqKiiCRqLLdWFlZoVGD+gg/koz4+ASDgba6dVQ/IC9EXkRw997C/Lv37uH7H34CAPTo3lVvO9ZNKqth7wzBiZOnkJycgvFffPZE9mFuME+366jlgbabNxNQqP6/TLxzFzk5OXB1ddVbr6ioCLtCwrA7JBQJt26jsKAQPt5V0aJFID4ZM1onD9eT9ODBQ2zfuQvzf14ozMvJyXkq+9YoKiqCQqEwKf9yaTStyixhqAtqSYE2iUQCGxsb4bdtXp4MlSpVQn5+vk5+TAcHe9SpXdukY4iNjcNn4yYgOuYKqlTxwv6wXahUqZLOOqbU1X37D2Ly1K+QmpaGe/fuY9nfv5u0//LAQBuRSBo3VjXDXfjrbwjw90OLwOaQSqXw9VXdBEbHXDG6rZ9fXURevAQnJ0f06NYV+fly2Nrawtu7Cpo2aYIOr7TXaU5LJfP398PJ0/+aPFrroXDVgBO9evZA+3ZtYGdri0ePHuHsuQiDT6/9/VRPvYODOqN712AUFRUhqMtrcHV1RcyVq7h37z58fX10nsJr69u3N3bsCsFvS39Hm9Yt0SKwOaB+gr7/4CEht58hIWF7AABdg7tAJpMh8uIlHDgYzkAbEZlEKpWidu1aiI2NQ9yNG+USCPD390PqmTQUyAvQNaiL2ds/C+dAltF8f5b2/ezo6Ii6dWrjZnwCZs7+FmM/GQN3dzcAgESqCrrdMTL6qJ9fXWH6nSGDkZ2TA6VSCVcXF/j51UWHV15G3TqGfxyyblJZ1KhRHaG7tj3RfZgbzBOrO94rL7dHcFBnnD59Bu+NGG4wyJaZmYn3PxyDM2fP6cyPT0jAlWvXMO7zTy3ev6ny8vLww/wFWLVmnRAo0nhagbab8QnYsnUbtm7fiU/HjDbYo8lUZ86ew5ZtOxAaugebN67FC/UCzC7Dki6oDvb2xYE2mSpPm52dHdq2aYVTp88A6gcmfQYMwsplf5Xa68re3h4Jt24BAJKSkjFzzneYP+9bnXVMqasKhQKpaWkAgPAjR7Fpyza8MaBfqedTHhhoI1LLzc2Fo6Ojxdt37xqMpk0a4+Klyxj01lDY2trA1cVVuBjk5eWhsLAQ1tb6/3aap689unXFD9/PLcNZEABUq+YLALgZb9roPJoR0Hr26ApHR0d06PAy9h84hNCwPQYDbdWrVwPU+Q769e2ts6xB/ReNBtg0OnXsgHeGDMbqtevxzvCR+HDUSDg7O2H+zwuRl5eH1q1aomGD+nrbRUVFIzY2Di/UC4C/X1106xqERYuX4N8zZ5GckgIvT0+TzpeIKrbqvr6IjY3DjZvxJnf5gCZXS36+XrcSc5l7jTbE0nOg8iV89iaMnjdxwjh8OPoTLF+5GstXroaHhzvy8mRCcu47d+8Z3oevD+zs7JCfn4/RH41CNV9f84+PdbNCyszKwr79BzGwf1+ztissLETY3n04f/4C7ty9i/x8OTw9K6N50yZ4vWcPITegGEoL5j2e09mUrqOXLkfh9u1E1KxZA00aNzK4jq2tDf5Y8muJxzb28y/1gmwazZuZloe4LNLTMzB0xPtCV9HHZYsUaEtMvINdIaHIyspGk8aN0L1bsM7yFatWY8XKNQCAHbtCjAbaTHnfp389E9fUrRh37Q7BCxa2lCypC6qhPOB29vaAujdVXl7xyKPrVq/A5q3bMWXaV5DLC5CUlIw3hwzD2pX/lNiLqEaN6pg+ZRImTf0KALBl63YMGTxIaGwAE+tq927B6NP7dezYuRsA8N33P6JrcBe4uriY+E48PRx1lEh9EezQKVgY+dMSNjY2WL3yH4wcMRxeXl6QywuQnpGBmjVrCOukp6cb3LZO7VoAgLv37lu8fyrm4+MNALj/4EGp66alpePI0eNwcHAQnvD06KbqUhIatlcY1ECb5kbclPKNmfXNV5gy8UsUFRVhwcJfMXvu98jLy8Owd4YYfVq1ZZtqEIWePboB6jw0NWvWgFKpRFjYXouPhYgqFs018oGZ17DpX8/EwMHvICkpuUz79xWu0Q8tLsPSc6DypfnsU9PSIJcXlLhu16AuWLX8L7R8qQWsra2RlpYOa63um6lGRnOXSCTCvdc9M++rWDcrJqVSiUWLl+DlDp0xfsJknD1neNRYTWL4x0kkEkycPB3LV67GgYPhOHb8BLZt34mvvpmNNi93xOfjJyLRSAtMsZw8dRoD33wbq9eu15mv3VXz8eBFUlIyBr01FL37vYGPx36B3v3eQP9BbyHFyP+WsfOHelC38CNHhddvv/UmNq1fjV3bN+O3RQswcoTx3hpi+eLLSUKQTSKRoPfrPTF96iRhuSUt2gyNfpmcnIJ5P/6MJb//iQOHwvWWDxrQX5j+98xZvVGWzXnf3xhYXNa+/YfMPv6SPHr0CPN/XojgHr31rscODsUP1GRagTYAGNi/L9avXgk3NzehnOHvfWD04YfG4Dff0Hn4oOnKr1FSXdU2Y/pUIXidmpaGP/9aVsqZlg8G2qjCi4qKxhfjJyIlNRXDRoxCdHSMxWW5ODtj+tRJOHvqKK7FXETslUs4cnAvWr7UAgCQlp5hcDtN4ObhQ8tv7KiY5un1g/ulv587d4egsLAQnV97VWil0blzJ9jY2CAlNRWnz5zVL1/9eSUnpwj5KsxlZWWFD0a9h8FvDhTmfT93FmbOmG6w1WNhYSF27goBAPTo3k2Y372r6ina7tA9Fh0HEVU8vr6ahwWmf+csX7kaq9euR1RUNN4e/h4yMzPLvP8H9y0PRFhyDlT+PD09hR9TptzzvPJye2xavxqxVy7hWnQkLkeexdpVqh9Vxu6poG5VBgAPzLyvYt2smKysrHA5KhqZ6hY8S37/y+B68Qm30KBxIIK798aMmXOE+RKJRMjJ/Di5vADbtu9E5+DumDXnO6NBrLJYtmIVhgwdgXPnI7D097+gUCiEZXY6ea+Kg0YKhQLvjvxArwVaREQkRo4aDaVSqbcfY+cPAKf/PSNMdwsOwpxZM9DypRZo3KghenTvivbt2pp0Lq90CkLjZi31/raqHzYbE3nxEsIPHwHUua23blqHhQt+xBCt1mRyeYFed1IA+PmXX/HeqNFYuWqNTg6ygoICNGrWEp26dMcXXxYH7Kp6F4+4aijg37BhA2GQMqVSiTNniwO35r7vPbXu+a/HxiK9hOueOeTyAnQO7olFi5cgNjYOW9W9ezTs7YoDbZquo9oCA5th84Y1wmAEKampGPv5eIP1RtvMGdOFnJtnzp4Tcl5DL0ebfoBTw93dDRPGfS68XrFyNWQymdH1ywsDbVThNWrUUMhvJZFYlTjKiTk0wyADEIbATtG6eGvT5HF7mJQkyr4rOs3T5KTk5FIv+JoBJ/r1Ke4C6urigk6vqlq37dixS28bz8qVYWtrA6VSieRkw5+pKTZv3S40Lf/ph+/w5qCBRtc9cCgcqWlpaNSoIfy18s/07dMLUH9Z3bvPFpFEVDpfocWN6YGAgf37oV2b1sJruYEfK6YSWvyU4eGSJedA5c/KygpVq1YFzPz8rayshPw9VaqUfE8F7fuqh+bdV7FuVlzjvxgrTIcfPmKwdc7lqGgoFApcj43Vu+ca9MYAjP/iM/zy849YMH8eJn75BXp07yoEuuTyAvy9bAXavtwJAwYNwUdjxuqVb6luwUHCQ9q79+7hUPgRYZl23ivt3zibNm9FjHowBQcHBzRt0lhYdvHSZezdt9+s89cOANWsVUNvW1NlZWUjK1v/r7T8cucjLgjTA/r3RbOmTYRz0+4WaahV2/ETJ3Eo/DC++mY2YmKKB5iIT0hAQUEB4hMScFU90BkAuFVyE6aNXWNe7fiKMH3x8mVh2tz33cfHW6eny2Uj3WLNZWtrg25aI7KtWrNOZ7m9fXG9ycszHMTy96uLlcv+hJOTKvXS+YgL2BUSWuJ+/f3qCr9dAGDb9p3CtDn5BAcO6IcaNaoD6i7fBw8dLnH98sBAGxGAyRPH4/OxH2PV8r8R2Fz8HALe6ptKY91tvDw9YWdri+zsHOTm5oq+/4pGk6ussLBQyJFnSEREJK5cvQbPypXRscPLOsveUDf7DgnbY/Cpimdl1T4svRmPT0jAVzNmAQC+HPc5+vfrU+L6a9ZuUB1Xf92En/VffEHI57Z1206D2xIRadOMfJxkxsMdZ2cnLPv7dwwZPAjr16yAZ+XKFu+/ivoaXZaHS5acAz0bNJ+duUEwDR/v4odpxgg9BcysH6ybFVe9gAB0UqcQUSqV2LR5q946ly9HCdOaQI7GwP598fH/PkSfXj3Rt08vjP5wFH5btADnzpxAcFBnYb2CggKcj7iAPXv3ldp9+sjR46WO0At1MEY7aKIZOAsl5L1a+sffwvRvvy7Ajq0bMUArN92efQfMOn/N/xwAHDwYbrRFUkktlQAgqHMndOsarPenCaoYoz2y5/adu7D0j79w/MRJ/HvmrM5D9+wc3d9ZeXl5uKQ+L4lEopMz7MqV4uBaHa0BVDSBJQBIuHXbYJqZwObF5dzVCtpa8r5rH9P9Uh6qZ2VnY8euEJMajrw7fKgwHR1zBbdu3RZeOzg4CNO5ecZ/m9Z/8QVMmTRBeL1+w+ZS9zto4ABh+pRWS0g7E3K0aVhbW2NAv+L3TbtF5bOCgTYitbGfjEHzZk2fSNmaL5+SgjJVvVXBuJQU8ZuUVzQ2NjZC3oD0NMN58QBg9TpVHot+/Xrrddfs9GoHVPbwQHZ2Dvbu1//S04wkllZC+SWZPPVr5ObmoltwEMaM/qDEdW/fTsSx4ydgY2ODPr176i0fqB5t5/Fm30REhmhaBKUZyRtqjJ2dHebO/gaVPTzKuH/V9TMj41GprY6Nl2HZOVD5q+JVts/OyckRrq6uePgwyWj90QTjzL2nYt2s2Hq93kOY1iRb16YdFKhdq1aJZSmVSpw8dRqfj5uAffsPGlwnJdV4q0ylUolJU6ejc3APDHpraKn3m9rBmkOHDgvBH0OBttS0NGEESCcnR7zaQdX6asSwd4R1L14sboWlUdL5d+saJKRguXEzHkPffR+xsXEAAJlMhs1bt+P1vgPx3bz5JZ7HD9/PxdLFv+j9ldb19LVOrwqBmvT0DHw3bz7eGT4Sbw7RzQ33eO7EEydPC91Jfby94ezsJCzTztVXs0ZxKz3ta0NeXp7BVmbeVYu7l2qCi5a+774+PsK0oaCettDQPRj7+Xi0btdRr5Xa4/z96uq0qNt/sDgHnJNT8fuQnlZyd9U3BvQXUgJcuVrcItDYNbRmzeKgqfbnodN1VCvQZrQcreBrWfJmPykMtBE9BbXV/fRv3U40uo6mFVZ6hjh97ys6zRNlY+9nenoGQkLCAMDgsNDW1tbCiKKbt+iP7qQp35Ib6d0hYTj97xm4ublh1syvSl1fExDs0rmTEEDU1rd3L9jY2OBmfIJOrgMiIkM03zcZGY9KXfdJqFy5MqysrFBUVGRxrrfyPgeyXBUvzWdn+f1O7Vo1kZ+fb7yngGYfZuYzYt2s2OoF+AvTCbduYe36jYA6uLFt+06dPM5Hjh7TqSMKhQL37z/A3v0HMOfbeXi1SzcMGToCBw4WJ8v38vTE2E/GYPOGNTgWvh9V1PmtDIm4EIn76lyBiXfuwN1d//5PW9vWrYSHxplZWUhMvAPo5b1SBS+y1LnoAEBiJUFsnCog5qeVmkT7/taU8/fy9NQZeODM2XMI6t4LHV4LRmCr9hg/YTKioqKxfeeuUlvyWaJ6NV8s+OmHUkfFXr5yNXLUrdqysrOx9I/ifHx3790Tzikx8Q5C9xQPNHbrdnHLtdDHBiCb+90POrn38vPzcfTY8eJjq15NtT8z33eog3MnTp3SK8uYXerfNhkZGbAxkPP5ca+83E6YjtL6fKtqBQr37ttv9HqYkpqK9Rs3CZ+pszpAJ5cX4PU+A/DLosVCXYT699eSpX8W76dK8X4M1dUbN+PRObgHNm7eqvOdof3/+Xg5z4rS330iEuzZuw8TJk1DjRrVsXbVMlSqVMmk7TTNjRMSbhldRzN6ivZFmCxX2cMDsepcD4asXb8R+XI5AgOboV6A4VE+Bw8aiL/+WY5jx08iMfGOTrN1D3WLDnNvxBUKBX74aQEAYPqUicINuTF5eXlCM+whRoYHd3d3Q9fgLtgdEoa16zY+ke7PRPT8cHOrJAQTcnJydbrBiOG7efOxfOVqdOsahAXz5+ktl0gkcHOrhPT0DGRmZZv8XartSZ8DPTma709j38+mqFOnNi5djkJ8wi2dH4Qa7u6qe6pMM++pWDcrtscDQFOmfY2p02cYbFGzYdMWbNi0BdbW1igsLISVlZXRljceHu74ZMxovP3WYJ2RFUty8tRpYbrLa5108owZYm9vj1o1awhdTVNSU1GrVk2Dea98vL1ha2sDubwAWdnZCO7eG1KpVKd3x6NHj9C4WUvk5slQVKTQOzfN+dvY2KCwoAD29vawkui34bn9WCMDpRKIu3EDDeq/aNL7YI7u3YLxUovmWL9xM86cPY/k5GTY29sj8uIlYZ3dIWHYHRIGwAqA/ufVtEUbODo6CME4jdCwvXjhQDNYWenXk3/PnEWLVu1hZSWBVCrRGYwCALoFqbr1mvW+y2RQFhXptGBzcnJE82bG7/ELCgp0WuF16fJaqe/ZCy/UE6a1WwAHNm+GdepA1snT/6JJYGtYW1ujSFEER0cHwEoVDHt8cIk2rVsBAP5ZvgLRMVcQHXMFP//yK2xsbCCVSvUGLejZo7swbaiuzprzLW7GJ2DCpKmYoK7nRUUKvc+gZ8/ueNawRRuRGbZt34XMrCxEx1zB2XMRJm9Xq2ZNODs7ISo62miTX3d1S6XcXP2RXch8buqbY0OBsMLCQqxeq2pO7rKGmQAAC6pJREFUPXTIW0bL8Pf3Q8uXWkCpVOo8NdEt37yb+N0hYbh16zbqBQSUmpcNALZu34nMzEzUqlUTL7dvZ3Q9TRBuV0homUYDJKLnn0QigaurK2DBwwJTrF2/ETKZDNt37EJ2tn7iaWglk7Z0/0/6HOjJcXMz/v1sqkYNVCM8Xrqk380K6gdQUD+sMvv4WDcrrFMG8jyV1lVPE2gwFGTz9q6KqZMn4PjhAxgxfKjJQTYAuKKVfL/pY/nQjNFuEeTs7Kw3TxO8sLOzw/8++lBnW4VCoZc/LSs7G4WFBSV2o5bL5VACyJPJjOaZtrOzQ7fgIPy2aAHOnDz6RIJsGl5eXvhkzGisWv4X9oTswPYtGxAVeU5nQAEllAaDbFB/jo8H2TQKCgp0Ajw+Pt7FueGsVCU/HmQbNvRtBAaqgmNmve8FBTp1z8bGBt/OmanTtfVxCQm3hLKqV6tmUi5VQ3UGAF7v0U2ve3BBQQGKlEXIzslBdnaOXpDN398PEyeMAwCEhO7R2/bxIFuzpk100uc8XlcfPHiI8+cv6Gwjk8n0gmwjhg/VGazpWcFAG5EZAgL8AABSqVQnKWZprKys0LhRQ0il1joJMbVVqeIFe3t7g8NOk/lcXJyNNh+/f/8BXF1c4OXpqfMkxRBNAEu7ObWqfBfY2tpAKjXvMmptbY2AAH98PvbjUp9OQj1suJ2dHUYMH1ri+m3btEbtWrUgkUiEpK5ERMa4ujjD1dUV+fKSE1NbIsBf9V3p6+NjtDWPi4szXJydUVhYaPF+nuQ50JPj4uwMa2trvdyo5mjSpBEkEgnu3DN8T+Xi4gJXF5dSgySGt2XdrIjS0zOwfMUq4XXDBvVhY1NcR11dXNC/Xx+cP3MCc2bNgL/6OqeOsADqkRxfqBeAd4YMxj9/LsGx8P0YNXIEHB3Nb9Wo/SDXUSsxvTH5+fm4GZ8gvNaMvKsd3NMO6Hz26Rj8OO/bEoNe2gE24+evy87ODnXr1EZwUGeM/WQMVq/4GxfPn8bS3xaiR/euZgUbxeLs7IT1a1Zi2NC3VcEn9WkplUrUqV0b382ZifVrVuoE4wDAr24dLPn1F4wZ/QFcXVyE+ZUqVcKokSNw+OBerF+zQhVIU+rur327tvht0QLM/HqaTpnmvu/Ozk54vWd3bFi7Er1f18/TrE27Ba+DY+l1Bo8N+FDNtzgXnIODAzZtWI03Bw0Uet8Y+hXi5OSIl1oEYsZXUxGyY4sQ3Nu8YQ2mTZmIwObNIHmspWO9gABMmjAOG9et1mnF9nhd9fauioP7QjHq/RHwq1tHpwyJRII2rVth8cKf8fX0KSad69NmpbQ006faxavxaPpiHRPWJPrvUygUOH7iFKr5+hj9gjEmNzfXoi/ap+F5/D/Oz8/XuXgb8vBhksEuJ4+Xcz02Do0bNdSdL5fD1sbGpGBZWWVmZsLW1rbUvBNXr11H9WrVSnzaZannsY4QVWQymazUa4qlMrOycObMOTRr1sToE3Ux9v8kz+FxvAaKRy4vgLW1VO/HlzkUCgUKCwtL/Z63BOtmxZOTk4t3R34gdLtr1Kghdm/fDLlcjmuxsfD19oG7u5tenZXJZEhMvAOpVApPz8pCS0YxfPrZeOzcHQIA+GDUe5gy8csS11++cjVmzJwDqJPcH9gbYvK+NAn9B71VPArl+C8+Q+9ePZGRkYHq1arBza2S0fOXSCWoVKkSnJ2cnlq9L4uHDx8iIyMTtWrV0DtemUyGjIxHcHV10fndVlRUhNS0NFhZWaGyh4fe/X9KSipSU9PgW80HLlotw0pS0vv+KOMRatasblb39ZvxCXgtSNWAwM7WFqdPHCkxt19ubi66dH0d99Qjmf76y0943UgXzNzcXMTH34KjkyOsra1ha2MDB0cHuDg7l/pbSKFQIC09HYpCBTw8PCwOtubL5UhLTYONrQ3c3dwglUotKsdUZb22MtBGRPw/plKxjhBRRcZrID2rWDfL5nzEBYyfMAXxCarWYFKpFNu3bNB7wAp1+o9/lq9E2zat8OW4z5/oca1cvRZfzZgFqFuJLV74M7p07mRw3V0hoRj/5WRhpMZpUybi/ffeNWk/+XI5du8OxXfz5iM5RTUKqq+PD8IPhD2RQPbzbO/+A1i+YhXatmmNwYPewDez50JRqMDX06fAx8dbZ90n8b4rFAq0af+qUF6nVzti4YIfDQb+UtPSMPbzL3H8xEkAgGflyjh+5MB/IlD6tJT12srBEIiIiIiIiKhCyMvLw4FD4Vi3biNOnv5XZ9kP380xGGTLy8vDF19OhFxegIgLkWjdqhU6vNL+iR1j396vY+Gi35CSmor8/Hy8/+H/ENi8Gdq3awtv76rCKKdHjh5DzJWrwnb+fnUx9G3j+YcBYN/+g4iKjkFUdAzOnj2HrOzigUlsbGzw268LGGQzk0wmw6djxyFfLsep02ewcdNW3Ll7F1C/p4t+mf/E33epVIoR7w7FvB9/BgCEHz6C9h06I7hLZ9Sv/wKcHB2RmZmF6JgY7D8YrpNTb9LE8QyyiYyBNiIiIiIiIqoQ9h88hE8/G68zz8nJEfPnfYtuXYMNbiOVWsPO1k5IxO7sJH6aDm2urq5YuOBHvDdqtJBEPuJCJCIuRBrdpmrVKvjz98WlBmvWb9yMQ+GH9eZXqeKFBT/9gGYmDr5AxSQSKWxsbYRWha6uLoAqzgZ7e9Xn8TTe9w9HjcS58xeE/WRmZmLz1m2lbjOwf98y75t0cTAEIiIiIiIiqhC6BnXRyafWvVsw9oXtMhpkgzpR+4p//sSbgwZi/rxvhZEkn6R2bdtg66Z1aNXypRLXk0ql6N+vD0J3bUOd2qUP1hbYXPfYK1WqhJEjhmNvyM5ncvTG/wJbWxss++t3DOzfD99/Oxvr16zAqPdH4L13h2HKpAnAU3rfpVIp/liyCOM/H1tqzuYaNarjt0ULMHni+BLXI8swRxsR8f+YSsU6QkQVGa+B9Kxi3bTM4iV/IDs7GwMH9NMb0fBZFBd3A0ePn0Bc3A1kPHoEa6k13D3c0LBBA3R85eVSB/fSdulyFJatWIUAfz+0CGyOFoHNyzQKMJnmab/vMpkMh48ew6VLUbh3/z7y8/Ph4uyMatV80fKlFmjTulWZBqV53nEwBCIqM/4fU2lYR4ioIuM1kJ5VrJtEROIr67WVIUwiIiIiIiIiIiIRMNBGREREREREREQkAgbaiIiIiIiIiIiIRMBAGxERERERERERkQgYaCMiIiIiIiIiIhIBA21EREREREREREQiYKCNiIiIiIiIiIhIBAy0ERERERERERERiYCBNiIiIiIiIiIiIhEw0EZERERERERERCQCBtqIiIiIiIiIiIhEwEAbERERERERERGRCKyUSqWyLAVcvBov3tEQERERERERERGVo6Yv1rF42zIH2oiIiIiIiIiIiIhdR4mIiIiIiIiIiETBQBsREREREREREZEIGGgjIiIiIiIiIiISAQNtREREREREREREImCgjYiIiIiIiIiISAQMtBEREREREREREYmAgTYiIiIiIiIiIiIRMNBGREREREREREQkAgbaiIiIiIiIiIiIRMBAGxERERERERERkQgYaCMiIiIiIiIiIhIBA21EREREREREREQiYKCNiIiIiIiIiIhIBAy0ERERERERERERiYCBNiIiIiIiIiIiIhEw0EZERERERERERCQCBtqIiIiIiIiIiIhEwEAbERERERERERGRCBhoIyIiIiIiIiIiEgEDbURERERERERERCJgoI2IiIiIiIiIiEgEDLQRERERERERERGJgIE2IiIiIiIiIiIiETDQRkREREREREREJAIG2oiIiIiIiIiIiETAQBsREREREREREZEIGGgjIiIiIiIiIiISAQNtREREREREREREImCgjYiIiIiIiIiISAQMtBEREREREREREYmAgTYiIiIiIiIiIiIRMNBGREREREREREQkAgbaiIiIiIiIiIiIRPB/Zj0KcTJbHdkAAAAASUVORK5CYII=)"
      ],
      "metadata": {
        "id": "lCv-6PsUPnns"
      }
    },
    {
      "cell_type": "markdown",
      "source": [
        "![image.png](data:image/png;base64,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)"
      ],
      "metadata": {
        "id": "9Zl4NNWSPsmo"
      }
    },
    {
      "cell_type": "code",
      "source": [],
      "metadata": {
        "id": "4nzha1SiPN8v"
      },
      "execution_count": null,
      "outputs": []
    },
    {
      "cell_type": "code",
      "source": [
        "# Define your references (ground truth) and predictions\n",
        "references = open('/content/Nevise-Dataset/nevise-news-title-539/nevise-news-title-539_corrects.txt','r').readlines()\n",
        "predictions = open('/content/Nevise-Dataset/nevise-news-title-539/nevise-news-title-539_wrongs.txt','r').readlines()"
      ],
      "metadata": {
        "id": "ojr7ty7kMCJi"
      },
      "execution_count": 19,
      "outputs": []
    },
    {
      "cell_type": "code",
      "source": [
        "# Load the WER and CER metrics from the evaluate package\n",
        "wer_metric = evaluate.load(\"wer\")\n",
        "cer_metric = evaluate.load(\"cer\")"
      ],
      "metadata": {
        "id": "0zsQptdcMAuU"
      },
      "execution_count": 20,
      "outputs": []
    },
    {
      "cell_type": "code",
      "source": [
        "# Compute WER\n",
        "wer_result = wer_metric.compute(predictions=predictions, references=references)\n",
        "print(\"WER:\", wer_result)\n",
        "\n",
        "# Compute CER\n",
        "cer_result = cer_metric.compute(predictions=predictions, references=references)\n",
        "print(\"CER:\", cer_result)"
      ],
      "metadata": {
        "colab": {
          "base_uri": "https://localhost:8080/"
        },
        "id": "JvvJ0yLSL_f4",
        "outputId": "6ce11615-d9ff-4e09-87cd-757c0fbeef9c"
      },
      "execution_count": 21,
      "outputs": [
        {
          "output_type": "stream",
          "name": "stdout",
          "text": [
            "WER: 0.09615384615384616\n",
            "CER: 0.022517467327951346\n"
          ]
        }
      ]
    },
    {
      "cell_type": "markdown",
      "source": [
        "## How to find wrong words?"
      ],
      "metadata": {
        "id": "-BYSPDPXP0Ux"
      }
    },
    {
      "cell_type": "markdown",
      "source": [
        "Lets just find the wrong words from references! huh?"
      ],
      "metadata": {
        "id": "QsS0Vv-8Qdjw"
      }
    },
    {
      "cell_type": "code",
      "source": [
        "predictions2,references2 = predictions,references"
      ],
      "metadata": {
        "id": "4R6jB1zwSVuj"
      },
      "execution_count": 27,
      "outputs": []
    },
    {
      "cell_type": "code",
      "source": [
        "len(references)"
      ],
      "metadata": {
        "colab": {
          "base_uri": "https://localhost:8080/"
        },
        "id": "P4hlPUJMUJnD",
        "outputId": "1bd46829-7bc5-4c3a-d2f2-dd70ee15b95c"
      },
      "execution_count": 44,
      "outputs": [
        {
          "output_type": "execute_result",
          "data": {
            "text/plain": [
              "539"
            ]
          },
          "metadata": {},
          "execution_count": 44
        }
      ]
    },
    {
      "cell_type": "code",
      "source": [
        "predictions,references = [],[]\n",
        "for i,j in zip(predictions2,references2):\n",
        "    predictions.append(i.replace('\\n',''))\n",
        "    references.append(j.replace('\\n',''))"
      ],
      "metadata": {
        "id": "qdIQeM57SZkP"
      },
      "execution_count": 30,
      "outputs": []
    },
    {
      "cell_type": "code",
      "source": [
        "wrong_words=[]\n",
        "for i,j in zip(predictions,references):\n",
        "    s1 = len(wrong_words)\n",
        "    for i1 in i.split(' '):\n",
        "        if i1 not in set(j.split(' ')) and len(i1)!=0:\n",
        "            # print(i1,'|',j)\n",
        "            # print(i1)\n",
        "\n",
        "            wrong_words.append(i1)\n",
        "    # if len(wrong_words) == s1:\n",
        "        # print(i)\n",
        "        # print(j)\n",
        "len(wrong_words)"
      ],
      "metadata": {
        "colab": {
          "base_uri": "https://localhost:8080/"
        },
        "id": "gYPOB5RULjLS",
        "outputId": "3c2b998b-a91d-4e61-b222-41164213619b"
      },
      "execution_count": 50,
      "outputs": [
        {
          "output_type": "execute_result",
          "data": {
            "text/plain": [
              "512"
            ]
          },
          "metadata": {},
          "execution_count": 50
        }
      ]
    },
    {
      "cell_type": "code",
      "source": [
        "wrong_words[0:10]"
      ],
      "metadata": {
        "colab": {
          "base_uri": "https://localhost:8080/"
        },
        "id": "lSymogtlTGRP",
        "outputId": "06062da5-2abd-4b1d-ad10-bff25af2aca4"
      },
      "execution_count": 53,
      "outputs": [
        {
          "output_type": "execute_result",
          "data": {
            "text/plain": [
              "['مجیید',\n",
              " 'ممعاون',\n",
              " 'اک',\n",
              " 'برایی',\n",
              " 'اطز',\n",
              " 'براب',\n",
              " 'هزران',\n",
              " 'یم',\n",
              " 'کارگزران',\n",
              " 'رابر']"
            ]
          },
          "metadata": {},
          "execution_count": 53
        }
      ]
    },
    {
      "cell_type": "markdown",
      "source": [
        "## can we find these errors using fabert?"
      ],
      "metadata": {
        "id": "bp35Vp6B3V-n"
      }
    },
    {
      "cell_type": "code",
      "source": [
        "wrongs = []\n",
        "for text in predictions[:10]:\n",
        "    miniwrong = []\n",
        "    c = text.split(' ')[0:-1]\n",
        "    for knd,k in enumerate(c):\n",
        "        sentence = ' '.join([c[i] if i!= knd  else '[MASK]' for i in range(len(c))])\n",
        "        # print(sentence)\n",
        "        inputs = tokenizer(sentence, return_tensors='pt')\n",
        "        with torch.no_grad():\n",
        "            outputs = model(**inputs)\n",
        "        h = torch.softmax(outputs.logits[0], dim=1).max(1)[0][1:-1]\n",
        "        miniwrong.append(h.sum().item()/h.shape[0])\n",
        "        # break\n",
        "    wrongs.append(c[torch.tensor(miniwrong).max(0)[1].item()])\n",
        "    # break\n"
      ],
      "metadata": {
        "id": "aI9fKmHz3aT4"
      },
      "execution_count": 308,
      "outputs": []
    },
    {
      "cell_type": "code",
      "source": [
        "c[torch.tensor(miniwrong).max(0)[1].item()]"
      ],
      "metadata": {
        "colab": {
          "base_uri": "https://localhost:8080/",
          "height": 37
        },
        "id": "G00bx-X55vcv",
        "outputId": "34ec2303-84e4-40ac-dcbe-0ad4951fcdc2"
      },
      "execution_count": 310,
      "outputs": [
        {
          "output_type": "execute_result",
          "data": {
            "text/plain": [
              "'و'"
            ],
            "application/vnd.google.colaboratory.intrinsic+json": {
              "type": "string"
            }
          },
          "metadata": {},
          "execution_count": 310
        }
      ]
    },
    {
      "cell_type": "code",
      "source": [
        "torch.tensor(miniwrong)"
      ],
      "metadata": {
        "colab": {
          "base_uri": "https://localhost:8080/"
        },
        "id": "lda5927h6HAw",
        "outputId": "4e9b4909-66fa-4fd9-8bfc-a24634dfb48f"
      },
      "execution_count": 309,
      "outputs": [
        {
          "output_type": "execute_result",
          "data": {
            "text/plain": [
              "tensor([0.8805, 0.8723, 0.8168, 0.8174, 0.8332, 0.9013, 0.8643, 0.8570])"
            ]
          },
          "metadata": {},
          "execution_count": 309
        }
      ]
    },
    {
      "cell_type": "code",
      "source": [
        "c[9]"
      ],
      "metadata": {
        "colab": {
          "base_uri": "https://localhost:8080/",
          "height": 37
        },
        "id": "xkbTzLYO5_pK",
        "outputId": "2f6d5a89-0e9e-4bc2-a95e-29251aa68d32"
      },
      "execution_count": 301,
      "outputs": [
        {
          "output_type": "execute_result",
          "data": {
            "text/plain": [
              "'هستند'"
            ],
            "application/vnd.google.colaboratory.intrinsic+json": {
              "type": "string"
            }
          },
          "metadata": {},
          "execution_count": 301
        }
      ]
    },
    {
      "cell_type": "markdown",
      "source": [
        "# some trick?"
      ],
      "metadata": {
        "id": "jHE6aPck89K5"
      }
    },
    {
      "cell_type": "code",
      "source": [],
      "metadata": {
        "id": "7-I4yTu59Aps"
      },
      "execution_count": null,
      "outputs": []
    },
    {
      "cell_type": "code",
      "source": [
        "wrongs = []\n",
        "for text in predictions[1:2]:\n",
        "    miniwrong = []\n",
        "    c = text.split(' ')[0:-1]\n",
        "    for knd,k in enumerate(c):\n",
        "        sentence = ' '.join([c[i] if i!= knd  else '[MASK]' for i in range(len(c))])\n",
        "        print(sentence)\n",
        "    #     inputs = tokenizer(sentence, return_tensors='pt')\n",
        "    #     with torch.no_grad():\n",
        "    #         outputs = model(**inputs)\n",
        "    #     h = torch.softmax(outputs.logits[0], dim=1).max(1)[0][1:-1]\n",
        "    #     miniwrong.append(h.sum().item()/h.shape[0])\n",
        "    #     # break\n",
        "    # wrongs.append(c[torch.tensor(miniwrong).max(0)[1].item()])\n",
        "    # # break\n"
      ],
      "metadata": {
        "colab": {
          "base_uri": "https://localhost:8080/"
        },
        "id": "KVz2gxcP9A5i",
        "outputId": "cb07a5e9-1f5b-48fe-9202-35fdf08ffcef"
      },
      "execution_count": 419,
      "outputs": [
        {
          "output_type": "stream",
          "name": "stdout",
          "text": [
            "[MASK] نازی ممعاون امور دریایی سازمان بنادر شد\n",
            "علی [MASK] ممعاون امور دریایی سازمان بنادر شد\n",
            "علی نازی [MASK] امور دریایی سازمان بنادر شد\n",
            "علی نازی ممعاون [MASK] دریایی سازمان بنادر شد\n",
            "علی نازی ممعاون امور [MASK] سازمان بنادر شد\n",
            "علی نازی ممعاون امور دریایی [MASK] بنادر شد\n",
            "علی نازی ممعاون امور دریایی سازمان [MASK] شد\n",
            "علی نازی ممعاون امور دریایی سازمان بنادر [MASK]\n"
          ]
        }
      ]
    },
    {
      "cell_type": "code",
      "source": [
        "s = ['[MASK] نازی ممعاون امور دریایی سازمان بنادر شد'\n",
        ",'علی [MASK] ممعاون امور دریایی سازمان بنادر شد'\n",
        ",'علی نازی [MASK] امور دریایی سازمان بنادر شد'\n",
        ",'علی نازی ممعاون [MASK] دریایی سازمان بنادر شد'\n",
        ",'علی نازی ممعاون امور [MASK] سازمان بنادر شد'\n",
        ",'علی نازی ممعاون امور دریایی [MASK] بنادر شد'\n",
        ",'علی نازی ممعاون امور دریایی سازمان [MASK] شد'\n",
        ",'علی نازی ممعاون امور دریایی سازمان بنادر [MASK]',\n",
        "     'علی نازی ممعاون امور دریایی سازمان بنادر شد']"
      ],
      "metadata": {
        "id": "_6knZarrCoe7"
      },
      "execution_count": 440,
      "outputs": []
    },
    {
      "cell_type": "code",
      "source": [
        "\" \".join([i for i in c])"
      ],
      "metadata": {
        "colab": {
          "base_uri": "https://localhost:8080/",
          "height": 37
        },
        "id": "YqAsQlqYERL5",
        "outputId": "c0817ddf-373c-41f2-b7f5-4accb1a82cf8"
      },
      "execution_count": 439,
      "outputs": [
        {
          "output_type": "execute_result",
          "data": {
            "text/plain": [
              "'علی نازی ممعاون امور دریایی سازمان بنادر شد'"
            ],
            "application/vnd.google.colaboratory.intrinsic+json": {
              "type": "string"
            }
          },
          "metadata": {},
          "execution_count": 439
        }
      ]
    },
    {
      "cell_type": "code",
      "source": [
        "tokenizer('معاون', return_tensors='pt')"
      ],
      "metadata": {
        "id": "8If4M-vLKs4G",
        "outputId": "9638a54e-8363-44f6-a049-d6377286b7e9",
        "colab": {
          "base_uri": "https://localhost:8080/"
        }
      },
      "execution_count": 488,
      "outputs": [
        {
          "output_type": "execute_result",
          "data": {
            "text/plain": [
              "{'input_ids': tensor([[ 101, 5879,  102]]), 'token_type_ids': tensor([[0, 0, 0]]), 'attention_mask': tensor([[1, 1, 1]])}"
            ]
          },
          "metadata": {},
          "execution_count": 488
        }
      ]
    },
    {
      "cell_type": "code",
      "source": [
        "sentence = s[4]\n",
        "# sentence = 'ممعاون'\n",
        "# sentence = 'معاون'\n",
        "\n",
        "print(sentence)\n",
        "\n",
        "\n",
        "inputs = tokenizer(sentence, return_tensors='pt')\n",
        "print(inputs['input_ids'])\n",
        "masked_index = (inputs.input_ids == tokenizer.mask_token_id).nonzero(as_tuple=True)[1]\n",
        "print(masked_index)\n",
        "# inputs['input_ids'][0][4] = 103\n",
        "# Get predictions for the masked token\n",
        "with torch.no_grad():\n",
        "    outputs = model(**inputs)\n",
        "h = torch.softmax(outputs.logits[0], dim=1).max(1)[0]\n",
        "print(h.mean())\n",
        "try:\n",
        "    masked_index = (inputs.input_ids == tokenizer.mask_token_id).nonzero(as_tuple=True)[1]\n",
        "    predicted_token_ids = torch.topk(outputs.logits[0, masked_index], k=5).indices\n",
        "    predicted_tokens = [''.join(tok for tok in tokenizer.decode(token_id).split(' ')) for token_id in predicted_token_ids[0]]\n",
        "    print(predicted_tokens)\n",
        "except Exception as e:\n",
        "    print('oops!',e)\n",
        "for i,j in zip(inputs['input_ids'][0].tolist(),h.tolist()):\n",
        "    print(tokenizer.decode(i),'|',i,'|',j)"
      ],
      "metadata": {
        "colab": {
          "base_uri": "https://localhost:8080/"
        },
        "id": "akcO6MbTCT5g",
        "outputId": "6421f373-9568-48f2-80d1-bbf913653d0d"
      },
      "execution_count": 516,
      "outputs": [
        {
          "output_type": "stream",
          "name": "stdout",
          "text": [
            "علی نازی ممعاون امور [MASK] سازمان بنادر شد\n",
            "tensor([[  101,  2520, 13197,  3018, 44215,  3908,   103,  3057, 22258,  2369,\n",
            "           102]])\n",
            "tensor([6])\n",
            "tensor(0.6509)\n",
            "['دریایی', 'بین\\u200cالملل', 'بنادر', 'اقتصادی', 'استان\\u200cهای']\n",
            "[CLS] | 101 | 0.0576997846364975\n",
            "علی | 2520 | 0.9998499155044556\n",
            "نازی | 13197 | 0.06039368733763695\n",
            "مم | 3018 | 0.9925997257232666\n",
            "##عاون | 44215 | 0.6452685594558716\n",
            "امور | 3908 | 0.9996824264526367\n",
            "[MASK] | 103 | 0.3564378023147583\n",
            "سازمان | 3057 | 0.9999278783798218\n",
            "بنادر | 22258 | 0.9915892481803894\n",
            "شد | 2369 | 0.999049961566925\n",
            "[SEP] | 102 | 0.05770185589790344\n"
          ]
        }
      ]
    },
    {
      "cell_type": "code",
      "source": [
        "torch.softmax(outputs.logits[0], dim=1)[3].max()"
      ],
      "metadata": {
        "id": "YF-YsC9OK1_u",
        "outputId": "00c9fd52-786c-4b74-a4c0-a7cac91829db",
        "colab": {
          "base_uri": "https://localhost:8080/"
        }
      },
      "execution_count": 506,
      "outputs": [
        {
          "output_type": "execute_result",
          "data": {
            "text/plain": [
              "tensor(0.6968)"
            ]
          },
          "metadata": {},
          "execution_count": 506
        }
      ]
    },
    {
      "cell_type": "code",
      "source": [
        "inputs['input_ids'][0][2]"
      ],
      "metadata": {
        "id": "qzqumPW1Jo_6",
        "outputId": "018e2a8c-0e7e-4cf6-caaa-26207825b344",
        "colab": {
          "base_uri": "https://localhost:8080/"
        }
      },
      "execution_count": 482,
      "outputs": [
        {
          "output_type": "execute_result",
          "data": {
            "text/plain": [
              "tensor(103)"
            ]
          },
          "metadata": {},
          "execution_count": 482
        }
      ]
    },
    {
      "cell_type": "code",
      "source": [
        "[CLS] | 0.9998418092727661\n",
        "علی | 0.08372770249843597\n",
        "نازی | 0.9248677492141724\n",
        "مم | 0.9374632835388184\n",
        "##عاون | 0.9996863603591919\n",
        "امور | 0.9976012110710144\n",
        "دریایی | 0.9999403953552246\n",
        "سازمان | 0.9993409514427185\n",
        "بنادر | 0.9992746710777283"
      ],
      "metadata": {
        "id": "66KoRrm5Hrmv"
      },
      "execution_count": null,
      "outputs": []
    },
    {
      "cell_type": "code",
      "source": [
        "h.tolist()"
      ],
      "metadata": {
        "id": "-aXoKuI3Gdu9",
        "outputId": "80551452-97c5-4c46-b518-1a3a43169056",
        "colab": {
          "base_uri": "https://localhost:8080/"
        }
      },
      "execution_count": 459,
      "outputs": [
        {
          "output_type": "execute_result",
          "data": {
            "text/plain": [
              "[0.9998382329940796,\n",
              " 0.17141956090927124,\n",
              " 0.9940511584281921,\n",
              " 0.9226423501968384,\n",
              " 0.6468421220779419,\n",
              " 0.9981058835983276,\n",
              " 0.9999297857284546,\n",
              " 0.9978196620941162,\n",
              " 0.9992856383323669]"
            ]
          },
          "metadata": {},
          "execution_count": 459
        }
      ]
    },
    {
      "cell_type": "code",
      "source": [
        "8824"
      ],
      "metadata": {
        "id": "db4LejFeEYfj"
      },
      "execution_count": null,
      "outputs": []
    },
    {
      "cell_type": "code",
      "source": [
        "c"
      ],
      "metadata": {
        "colab": {
          "base_uri": "https://localhost:8080/"
        },
        "id": "dREw2mEvCbAd",
        "outputId": "a376407e-807d-4a44-f878-e0528e6d7033"
      },
      "execution_count": 418,
      "outputs": [
        {
          "output_type": "execute_result",
          "data": {
            "text/plain": [
              "['علی', 'نازی', 'ممعاون', 'امور', 'دریایی', 'سازمان', 'بنادر', 'شد']"
            ]
          },
          "metadata": {},
          "execution_count": 418
        }
      ]
    },
    {
      "cell_type": "code",
      "source": [
        "wrongs"
      ],
      "metadata": {
        "colab": {
          "base_uri": "https://localhost:8080/"
        },
        "id": "iCDS4OVG-Z8Z",
        "outputId": "500d3433-747c-45be-84b0-7e85cc3555fa"
      },
      "execution_count": 416,
      "outputs": [
        {
          "output_type": "execute_result",
          "data": {
            "text/plain": [
              "['امور']"
            ]
          },
          "metadata": {},
          "execution_count": 416
        }
      ]
    },
    {
      "cell_type": "code",
      "source": [
        "wrong_words[0:10]"
      ],
      "metadata": {
        "colab": {
          "base_uri": "https://localhost:8080/"
        },
        "id": "y16nLibF-pug",
        "outputId": "3bb223bb-1fdf-48da-fb5c-dbfdb4eb40bb"
      },
      "execution_count": 336,
      "outputs": [
        {
          "output_type": "execute_result",
          "data": {
            "text/plain": [
              "['مجیید',\n",
              " 'ممعاون',\n",
              " 'اک',\n",
              " 'برایی',\n",
              " 'اطز',\n",
              " 'براب',\n",
              " 'هزران',\n",
              " 'یم',\n",
              " 'کارگزران',\n",
              " 'رابر']"
            ]
          },
          "metadata": {},
          "execution_count": 336
        }
      ]
    },
    {
      "cell_type": "code",
      "source": [
        "c = predictions[0].split(' ')[:-1]\n",
        "u =[]\n",
        "for knd,k in enumerate(c):\n",
        "    sentence = ' '.join([c[i] if i!= knd  else '[MASK]' for i in range(len(c))])\n",
        "    u.append(sentence)\n",
        "u.append(predictions[0][0:-1])\n",
        "u"
      ],
      "metadata": {
        "colab": {
          "base_uri": "https://localhost:8080/"
        },
        "id": "x8N3oUVh9DJQ",
        "outputId": "fe954981-5e29-4fce-8f6c-ab153a011dc8"
      },
      "execution_count": 407,
      "outputs": [
        {
          "output_type": "execute_result",
          "data": {
            "text/plain": [
              "['[MASK] تیم ما را بریدند تعدادی بچه کنار مجیید هستند',\n",
              " 'سر [MASK] ما را بریدند تعدادی بچه کنار مجیید هستند',\n",
              " 'سر تیم [MASK] را بریدند تعدادی بچه کنار مجیید هستند',\n",
              " 'سر تیم ما [MASK] بریدند تعدادی بچه کنار مجیید هستند',\n",
              " 'سر تیم ما را [MASK] تعدادی بچه کنار مجیید هستند',\n",
              " 'سر تیم ما را بریدند [MASK] بچه کنار مجیید هستند',\n",
              " 'سر تیم ما را بریدند تعدادی [MASK] کنار مجیید هستند',\n",
              " 'سر تیم ما را بریدند تعدادی بچه [MASK] مجیید هستند',\n",
              " 'سر تیم ما را بریدند تعدادی بچه کنار [MASK] هستند',\n",
              " 'سر تیم ما را بریدند تعدادی بچه کنار مجیید [MASK]',\n",
              " 'سر تیم ما را بریدند تعدادی بچه کنار مجیید هستند']"
            ]
          },
          "metadata": {},
          "execution_count": 407
        }
      ]
    },
    {
      "cell_type": "code",
      "source": [
        "inputs = tokenizer(u,padding=True ,return_tensors='pt')\n",
        "ids,mask = inputs['input_ids'],inputs['attention_mask']"
      ],
      "metadata": {
        "id": "fqkiDnIb9uJk"
      },
      "execution_count": 408,
      "outputs": []
    },
    {
      "cell_type": "code",
      "source": [
        "with torch.no_grad():\n",
        "    outputs = model(**inputs)"
      ],
      "metadata": {
        "id": "fy6CMVX9-CeP"
      },
      "execution_count": 409,
      "outputs": []
    },
    {
      "cell_type": "code",
      "source": [
        "outputs.logits.shape"
      ],
      "metadata": {
        "colab": {
          "base_uri": "https://localhost:8080/"
        },
        "id": "lQysOyDx-FZW",
        "outputId": "84864b0a-2d21-47ca-e2b7-78498ff88654"
      },
      "execution_count": 410,
      "outputs": [
        {
          "output_type": "execute_result",
          "data": {
            "text/plain": [
              "torch.Size([11, 13, 50000])"
            ]
          },
          "metadata": {},
          "execution_count": 410
        }
      ]
    },
    {
      "cell_type": "code",
      "source": [
        "torch.softmax(outputs.logits, dim=0).shape"
      ],
      "metadata": {
        "colab": {
          "base_uri": "https://localhost:8080/"
        },
        "id": "d-LSnMFG-8Wh",
        "outputId": "4b2dcdca-6bab-49b7-b1ab-2e806935e316"
      },
      "execution_count": 411,
      "outputs": [
        {
          "output_type": "execute_result",
          "data": {
            "text/plain": [
              "torch.Size([11, 13, 50000])"
            ]
          },
          "metadata": {},
          "execution_count": 411
        }
      ]
    },
    {
      "cell_type": "code",
      "source": [
        "j = torch.softmax(outputs.logits, dim=1).max(2)[0].mean(1)"
      ],
      "metadata": {
        "id": "LUFmdZ8r_hKE"
      },
      "execution_count": 412,
      "outputs": []
    },
    {
      "cell_type": "code",
      "source": [
        "(j - j[-1]).min(0)"
      ],
      "metadata": {
        "colab": {
          "base_uri": "https://localhost:8080/"
        },
        "id": "zbGcmptIBuCF",
        "outputId": "d3b22e90-ea68-4a8e-d005-7a7ca94114b8"
      },
      "execution_count": 413,
      "outputs": [
        {
          "output_type": "execute_result",
          "data": {
            "text/plain": [
              "torch.return_types.min(\n",
              "values=tensor(-0.1527),\n",
              "indices=tensor(6))"
            ]
          },
          "metadata": {},
          "execution_count": 413
        }
      ]
    },
    {
      "cell_type": "code",
      "source": [
        "c[torch.tensor(miniwrong).max(0)[1].item()]"
      ],
      "metadata": {
        "outputId": "34ec2303-84e4-40ac-dcbe-0ad4951fcdc2",
        "colab": {
          "base_uri": "https://localhost:8080/",
          "height": 37
        },
        "id": "BCrkTEcQ9A5j"
      },
      "execution_count": null,
      "outputs": [
        {
          "output_type": "execute_result",
          "data": {
            "text/plain": [
              "'و'"
            ],
            "application/vnd.google.colaboratory.intrinsic+json": {
              "type": "string"
            }
          },
          "metadata": {},
          "execution_count": 310
        }
      ]
    },
    {
      "cell_type": "code",
      "source": [
        "torch.tensor(miniwrong)"
      ],
      "metadata": {
        "outputId": "4e9b4909-66fa-4fd9-8bfc-a24634dfb48f",
        "colab": {
          "base_uri": "https://localhost:8080/"
        },
        "id": "AR0r9nMY9A5j"
      },
      "execution_count": null,
      "outputs": [
        {
          "output_type": "execute_result",
          "data": {
            "text/plain": [
              "tensor([0.8805, 0.8723, 0.8168, 0.8174, 0.8332, 0.9013, 0.8643, 0.8570])"
            ]
          },
          "metadata": {},
          "execution_count": 309
        }
      ]
    },
    {
      "cell_type": "code",
      "source": [
        "c[9]"
      ],
      "metadata": {
        "outputId": "2f6d5a89-0e9e-4bc2-a95e-29251aa68d32",
        "colab": {
          "base_uri": "https://localhost:8080/",
          "height": 37
        },
        "id": "Uuoenz-F9A5k"
      },
      "execution_count": null,
      "outputs": [
        {
          "output_type": "execute_result",
          "data": {
            "text/plain": [
              "'هستند'"
            ],
            "application/vnd.google.colaboratory.intrinsic+json": {
              "type": "string"
            }
          },
          "metadata": {},
          "execution_count": 301
        }
      ]
    },
    {
      "cell_type": "markdown",
      "source": [
        "# How to use SomethingBert"
      ],
      "metadata": {
        "id": "fbr9e4zHXmVN"
      }
    },
    {
      "cell_type": "code",
      "source": [
        "from transformers import BertTokenizer, BertForMaskedLM\n",
        "import torch\n",
        "\n",
        "tokenizer = AutoTokenizer.from_pretrained(\"sbunlp/fabert\")\n",
        "model = AutoModelForMaskedLM.from_pretrained(\"sbunlp/fabert\")\n",
        "# Set the model to evaluation mode\n",
        "model.eval()\n",
        "\n",
        "\n"
      ],
      "metadata": {
        "id": "banM0qXeX7i1"
      },
      "execution_count": 63,
      "outputs": []
    },
    {
      "cell_type": "code",
      "source": [
        "text=predictions[0]\n",
        "# text = 'سر تیم ما را بریدند تعدادی بچه کنار [MASK] هستند '"
      ],
      "metadata": {
        "colab": {
          "base_uri": "https://localhost:8080/",
          "height": 37
        },
        "id": "IalzCx1-XxGD",
        "outputId": "5f049ee0-c996-413c-bf17-0ea6c89fbdd0"
      },
      "execution_count": 61,
      "outputs": [
        {
          "output_type": "execute_result",
          "data": {
            "text/plain": [
              "'سر تیم ما را بریدند تعدادی بچه کنار مجیید هستند '"
            ],
            "application/vnd.google.colaboratory.intrinsic+json": {
              "type": "string"
            }
          },
          "metadata": {},
          "execution_count": 61
        }
      ]
    },
    {
      "cell_type": "code",
      "source": [
        "# Prepare the input sentence\n",
        "sentence = \"سلام خوبی [MASK]\"\n",
        "sentence = \"سلام [MASK] تو\"\n",
        "# sentence = \"[MASK] خوبی تو\"\n",
        "sentence = \"سلام خوببی تو\"\n",
        "sentence = s[7]\n",
        "print(sentence)\n",
        "\n",
        "\n",
        "inputs = tokenizer(sentence, return_tensors='pt')\n",
        "masked_index = (inputs.input_ids == tokenizer.mask_token_id).nonzero(as_tuple=True)[1]\n",
        "print(masked_index)\n",
        "# Get predictions for the masked token\n",
        "with torch.no_grad():\n",
        "    outputs = model(**inputs)\n",
        "h = torch.softmax(outputs.logits[0], dim=1).max(1)[0][1:-1]\n",
        "print(h.sum()/h.shape[0])\n",
        "try:\n",
        "    masked_index = (inputs.input_ids == tokenizer.mask_token_id).nonzero(as_tuple=True)[1]\n",
        "    predicted_token_ids = torch.topk(outputs.logits[0, masked_index], k=5).indices\n",
        "    predicted_tokens = [''.join(tok for tok in tokenizer.decode(token_id).split(' ')) for token_id in predicted_token_ids[0]]\n",
        "    print(predicted_tokens)\n",
        "except Exception as e:\n",
        "    print('oops!',e)"
      ],
      "metadata": {
        "colab": {
          "base_uri": "https://localhost:8080/"
        },
        "id": "60A1UUvbYHUW",
        "outputId": "9639d4f8-eb91-497f-f90b-cd650b2313c7"
      },
      "execution_count": 435,
      "outputs": [
        {
          "output_type": "stream",
          "name": "stdout",
          "text": [
            "علی نازی ممعاون امور دریایی سازمان بنادر [MASK]\n",
            "tensor([9])\n",
            "tensor(0.7667)\n",
            "['کشور', 'ایران', 'دریانوردی', ':', '.']\n"
          ]
        }
      ]
    },
    {
      "cell_type": "code",
      "source": [],
      "metadata": {
        "colab": {
          "base_uri": "https://localhost:8080/"
        },
        "id": "EJMEOygP2SR3",
        "outputId": "5e062438-ee38-40fc-a545-611f9b668cbc"
      },
      "execution_count": 268,
      "outputs": [
        {
          "output_type": "execute_result",
          "data": {
            "text/plain": [
              "4"
            ]
          },
          "metadata": {},
          "execution_count": 268
        }
      ]
    },
    {
      "cell_type": "code",
      "source": [
        "outputs.logits[0].shape"
      ],
      "metadata": {
        "colab": {
          "base_uri": "https://localhost:8080/"
        },
        "id": "YA6vwfL-1fAc",
        "outputId": "a58188a7-0bb1-4b74-e361-5e1d73ab4667"
      },
      "execution_count": 263,
      "outputs": [
        {
          "output_type": "execute_result",
          "data": {
            "text/plain": [
              "torch.Size([6, 50000])"
            ]
          },
          "metadata": {},
          "execution_count": 263
        }
      ]
    },
    {
      "cell_type": "code",
      "source": [
        "torch.softmax(outputs.logits[0], dim=1)"
      ],
      "metadata": {
        "colab": {
          "base_uri": "https://localhost:8080/"
        },
        "id": "VTbn5P9Q1k_M",
        "outputId": "4967cf92-da77-41c4-a793-d5a9d370c342"
      },
      "execution_count": 264,
      "outputs": [
        {
          "output_type": "execute_result",
          "data": {
            "text/plain": [
              "tensor([[9.0652e-10, 3.9835e-09, 7.2343e-08,  ..., 5.0859e-08, 1.4277e-07,\n",
              "         7.3295e-08],\n",
              "        [6.1368e-13, 1.1098e-15, 2.6278e-15,  ..., 1.1647e-13, 1.4463e-12,\n",
              "         1.5846e-12],\n",
              "        [7.6186e-14, 1.1514e-12, 5.0212e-12,  ..., 1.1177e-10, 3.7163e-10,\n",
              "         1.3490e-09],\n",
              "        [9.2100e-12, 7.4531e-12, 3.3098e-12,  ..., 2.8678e-11, 1.1384e-09,\n",
              "         2.0069e-09],\n",
              "        [3.5645e-13, 3.4938e-14, 5.1919e-13,  ..., 2.3878e-11, 6.6348e-10,\n",
              "         8.5343e-11],\n",
              "        [9.0649e-10, 3.9834e-09, 7.2343e-08,  ..., 5.0859e-08, 1.4277e-07,\n",
              "         7.3297e-08]])"
            ]
          },
          "metadata": {},
          "execution_count": 264
        }
      ]
    },
    {
      "cell_type": "code",
      "source": [
        "torch.softmax(outputs.logits[0], dim=1).max(1)"
      ],
      "metadata": {
        "colab": {
          "base_uri": "https://localhost:8080/"
        },
        "id": "OldsPHKD1of1",
        "outputId": "8e12e8f8-2750-4c1f-e855-71f03631548d"
      },
      "execution_count": 265,
      "outputs": [
        {
          "output_type": "execute_result",
          "data": {
            "text/plain": [
              "torch.return_types.max(\n",
              "values=tensor([0.0820, 0.9999, 0.9967, 0.9906, 0.9813, 0.0820]),\n",
              "indices=tensor([14369,  2872, 14369,  1312,  2333, 14369]))"
            ]
          },
          "metadata": {},
          "execution_count": 265
        }
      ]
    },
    {
      "cell_type": "code",
      "source": [
        "2312"
      ],
      "metadata": {
        "id": "BMWBymrM1wp-"
      },
      "execution_count": null,
      "outputs": []
    },
    {
      "cell_type": "code",
      "source": [
        "tokenizer.decode(torch.tensor([1312]))"
      ],
      "metadata": {
        "colab": {
          "base_uri": "https://localhost:8080/",
          "height": 37
        },
        "id": "gvjodo_415o-",
        "outputId": "523c897d-f07b-420f-cfe4-33a2ac9659d9"
      },
      "execution_count": 266,
      "outputs": [
        {
          "output_type": "execute_result",
          "data": {
            "text/plain": [
              "'##ی'"
            ],
            "application/vnd.google.colaboratory.intrinsic+json": {
              "type": "string"
            }
          },
          "metadata": {},
          "execution_count": 266
        }
      ]
    },
    {
      "cell_type": "code",
      "source": [
        "torch.softmax(outputs.logits[0], dim=1).max(1)[0][1:-1].sum()"
      ],
      "metadata": {
        "id": "sY9tNAdo1cjU"
      },
      "execution_count": null,
      "outputs": []
    },
    {
      "cell_type": "code",
      "source": [
        "try:\n",
        "    masked_index = (inputs.input_ids == tokenizer.mask_token_id).nonzero(as_tuple=True)[1]\n",
        "    predicted_token_ids = torch.topk(outputs.logits[0, masked_index], k=5).indices\n",
        "    predicted_tokens = [''.join(tok for tok in tokenizer.decode(token_id).split(' ')) for token_id in predicted_token_ids[0]]\n",
        "    print(predicted_tokens)\n",
        "except Exception as e:\n",
        "    print('oops!',e)"
      ],
      "metadata": {
        "colab": {
          "base_uri": "https://localhost:8080/"
        },
        "id": "1oSBp7zUjjkn",
        "outputId": "fd8ea93e-3fc1-45bc-8f2c-9e42b4ceba94"
      },
      "execution_count": 424,
      "outputs": [
        {
          "output_type": "stream",
          "name": "stdout",
          "text": [
            "['محمد', 'عباس', 'دکتر', 'مهندس', 'سردار']\n"
          ]
        }
      ]
    },
    {
      "cell_type": "code",
      "source": [
        "outputs.logits[0]"
      ],
      "metadata": {
        "colab": {
          "base_uri": "https://localhost:8080/"
        },
        "id": "15OX-VKAiV3M",
        "outputId": "953e1a08-8ae7-4c8e-a1e8-fca4b18b249c"
      },
      "execution_count": 169,
      "outputs": [
        {
          "output_type": "execute_result",
          "data": {
            "text/plain": [
              "tensor([[ -8.6099, -11.2838,  -7.7637,  ...,  -2.2969,   0.0743,  -0.6428],\n",
              "        [ -7.7676,  -9.9415,  -7.6783,  ...,  -1.1091,   0.8240,  -0.9522],\n",
              "        [ -0.5938,  -2.4473,  -4.1071,  ...,   1.7444,   7.4153,   8.7125],\n",
              "        [ -0.1043,  -3.4304,   0.4388,  ...,   4.6066,   7.3673,   5.9113],\n",
              "        [ -8.6098, -11.2838,  -7.7637,  ...,  -2.2968,   0.0744,  -0.6427]])"
            ]
          },
          "metadata": {},
          "execution_count": 169
        }
      ]
    },
    {
      "cell_type": "code",
      "source": [
        "torch.softmax(outputs.logits[0], dim=0).max(1)[0]"
      ],
      "metadata": {
        "colab": {
          "base_uri": "https://localhost:8080/"
        },
        "id": "E0ibnEpKidGr",
        "outputId": "6be06b2d-1870-4e40-a37c-aedc7fd849e7"
      },
      "execution_count": 166,
      "outputs": [
        {
          "output_type": "execute_result",
          "data": {
            "text/plain": [
              "tensor([4.9590e-01, 1.0000e+00, 1.2470e-07, 5.1619e-09, 4.9590e-01])"
            ]
          },
          "metadata": {},
          "execution_count": 166
        }
      ]
    },
    {
      "cell_type": "code",
      "source": [
        "masked_index = (inputs.input_ids == tokenizer.mask_token_id).nonzero(as_tuple=True)[1]\n"
      ],
      "metadata": {
        "colab": {
          "base_uri": "https://localhost:8080/"
        },
        "id": "24huOfHYYOAn",
        "outputId": "cb232300-9105-49b4-eb8d-3cd4574acb9b"
      },
      "execution_count": 170,
      "outputs": [
        {
          "output_type": "execute_result",
          "data": {
            "text/plain": [
              "['به', 'از', 'تو', 'برای', 'فدای']"
            ]
          },
          "metadata": {},
          "execution_count": 170
        }
      ]
    },
    {
      "cell_type": "code",
      "source": [
        "inputs.input_ids"
      ],
      "metadata": {
        "colab": {
          "base_uri": "https://localhost:8080/"
        },
        "id": "24tIz4RyYhxP",
        "outputId": "bb954d90-8f65-44d4-bbc5-0bfa0e725726"
      },
      "execution_count": 115,
      "outputs": [
        {
          "output_type": "execute_result",
          "data": {
            "text/plain": [
              "tensor([[  101,  2421,  3082,  2418,  2311, 31544,  6081,  4292,  3081,   103,\n",
              "          2713,   117,   102]])"
            ]
          },
          "metadata": {},
          "execution_count": 115
        }
      ]
    },
    {
      "cell_type": "code",
      "source": [
        "tokenizer.mask_token_id"
      ],
      "metadata": {
        "colab": {
          "base_uri": "https://localhost:8080/"
        },
        "id": "tLuzG_t3Yjxu",
        "outputId": "4926da84-0a01-43b9-ddce-1b0770d1d052"
      },
      "execution_count": 116,
      "outputs": [
        {
          "output_type": "execute_result",
          "data": {
            "text/plain": [
              "103"
            ]
          },
          "metadata": {},
          "execution_count": 116
        }
      ]
    },
    {
      "cell_type": "code",
      "source": [
        "masked_index"
      ],
      "metadata": {
        "colab": {
          "base_uri": "https://localhost:8080/"
        },
        "id": "dhlOPyHsYbh9",
        "outputId": "c995ad19-d35a-41f5-9e3a-caa315bc9f42"
      },
      "execution_count": 130,
      "outputs": [
        {
          "output_type": "execute_result",
          "data": {
            "text/plain": [
              "tensor([9])"
            ]
          },
          "metadata": {},
          "execution_count": 130
        }
      ]
    },
    {
      "cell_type": "code",
      "source": [
        "# Get the predicted token IDs for the masked position\n",
        "predicted_token_ids = torch.topk(outputs.logits[0, masked_index], k=5).indices\n"
      ],
      "metadata": {
        "id": "9agw19PRYSQr"
      },
      "execution_count": 118,
      "outputs": []
    },
    {
      "cell_type": "code",
      "source": [
        "inputs.input_ids"
      ],
      "metadata": {
        "colab": {
          "base_uri": "https://localhost:8080/"
        },
        "id": "2xX8UCUeZfrF",
        "outputId": "7a5b28fb-6c78-4de3-9584-0255cb73ccd6"
      },
      "execution_count": 119,
      "outputs": [
        {
          "output_type": "execute_result",
          "data": {
            "text/plain": [
              "tensor([[  101,  2421,  3082,  2418,  2311, 31544,  6081,  4292,  3081,   103,\n",
              "          2713,   117,   102]])"
            ]
          },
          "metadata": {},
          "execution_count": 119
        }
      ]
    },
    {
      "cell_type": "code",
      "source": [
        "outputs.logits[0][2][3082],outputs.logits[0][2].max()\n"
      ],
      "metadata": {
        "colab": {
          "base_uri": "https://localhost:8080/"
        },
        "id": "g6AaUpK8aZXd",
        "outputId": "a34fa1a6-235f-4ac1-9183-496f0decc651"
      },
      "execution_count": 120,
      "outputs": [
        {
          "output_type": "execute_result",
          "data": {
            "text/plain": [
              "(tensor(26.4341), tensor(26.4341))"
            ]
          },
          "metadata": {},
          "execution_count": 120
        }
      ]
    },
    {
      "cell_type": "code",
      "source": [
        "outputs.logits[0][3][3082],outputs.logits[0][2].max()\n"
      ],
      "metadata": {
        "colab": {
          "base_uri": "https://localhost:8080/"
        },
        "id": "eg9yF7F1ZP2z",
        "outputId": "e75ce357-2e10-4f5d-8378-431ee098a093"
      },
      "execution_count": 129,
      "outputs": [
        {
          "output_type": "execute_result",
          "data": {
            "text/plain": [
              "(tensor(-11.8125), tensor(26.4341))"
            ]
          },
          "metadata": {},
          "execution_count": 129
        }
      ]
    },
    {
      "cell_type": "code",
      "source": [
        "torch.softmax(outputs.logits[0], dim=0).max(1)[0][1:-1].sum()"
      ],
      "metadata": {
        "colab": {
          "base_uri": "https://localhost:8080/"
        },
        "id": "c6ESYpRfaliC",
        "outputId": "8305abf5-148f-46a2-bbe9-b7882739b9be"
      },
      "execution_count": 137,
      "outputs": [
        {
          "output_type": "execute_result",
          "data": {
            "text/plain": [
              "tensor(3.0564)"
            ]
          },
          "metadata": {},
          "execution_count": 137
        }
      ]
    },
    {
      "cell_type": "code",
      "source": [],
      "metadata": {
        "id": "DyT5Il3_ajGe"
      },
      "execution_count": null,
      "outputs": []
    },
    {
      "cell_type": "code",
      "source": [
        "predicted_token_ids"
      ],
      "metadata": {
        "colab": {
          "base_uri": "https://localhost:8080/"
        },
        "id": "XDcyIRWNYYUH",
        "outputId": "e0bf51d0-173c-4aab-e773-af3dc29ec067"
      },
      "execution_count": 112,
      "outputs": [
        {
          "output_type": "execute_result",
          "data": {
            "text/plain": [
              "tensor([], size=(0, 5), dtype=torch.int64)"
            ]
          },
          "metadata": {},
          "execution_count": 112
        }
      ]
    },
    {
      "cell_type": "code",
      "source": [
        "\n",
        "predicted_tokens = [''.join(tok for tok in tokenizer.decode(token_id).split(' ')) for token_id in predicted_token_ids[0]]\n"
      ],
      "metadata": {
        "collapsed": true,
        "id": "LXtHW6WhYSQ6"
      },
      "execution_count": 89,
      "outputs": []
    },
    {
      "cell_type": "code",
      "source": [
        "predicted_tokens"
      ],
      "metadata": {
        "colab": {
          "base_uri": "https://localhost:8080/"
        },
        "outputId": "5fcc7ab9-3b30-4032-b789-7b5e53224dd5",
        "id": "rjdk6AfNYSQ7"
      },
      "execution_count": 90,
      "outputs": [
        {
          "output_type": "execute_result",
          "data": {
            "text/plain": [
              "['من', 'ما', 'هم', 'زمین', 'آنها']"
            ]
          },
          "metadata": {},
          "execution_count": 90
        }
      ]
    },
    {
      "cell_type": "markdown",
      "source": [
        "# Using fabert"
      ],
      "metadata": {
        "id": "pkSgEacIG48D"
      }
    },
    {
      "cell_type": "code",
      "execution_count": 54,
      "metadata": {
        "colab": {
          "base_uri": "https://localhost:8080/",
          "height": 371,
          "referenced_widgets": [
            "f2b366c077714514b9bf2d7123d16261",
            "3850d7a6dbd9419695e8e1d2b326c0c2",
            "70c75399543546f58e96443355edc50f",
            "14cfdea8e45345bebd1796a2a564ce4a",
            "94fffc0a505746dabf9736c40c2919cf",
            "c714e0208e75465f89420970304eba2e",
            "49a01969d8e0420494a3f367e26b8c68",
            "141525ea7fbc4c12bb949083b3e9b8f8",
            "b4c85b5dba1e4e3e91e1ed614486e600",
            "d9245077737343ce8e10b654b183e48b",
            "4e208f6fbece4454a5dd3f7ca9c67667",
            "9c7d837e82dd472597f54dead17dde58",
            "7795a9f3691b417bb4ec59eecbcaafcd",
            "7fa92e83f7714d32854c4993d17b0a2d",
            "88ed2f1aa4e54d7cbc4406eaa00a7313",
            "6979eba5e74a453ea2dc3fc97e1ba0d1",
            "675dca770823425cb6895985113b2bdf",
            "4cb3941a1750497ea2e796486db997ca",
            "092782e5353d45388b03e71555993f42",
            "5a4837424a2e4480bb17d217543b4bd0",
            "a43915ecc90a48938f4f77bccced2fe1",
            "9163a1bde1bc45dbbf3bdab13caf8e91",
            "826931d9f2404abe946c40dff3e11b5d",
            "b8a6043ef9c74a44a898a78a88673c32",
            "0eec8dd0a611464490781d6101c307dd",
            "e1a1130e54414597ba9e8fc3200bf820",
            "5eeb9d0791d141918fcad0725b0cbdec",
            "b0ca2450e0a7445289b7ea80a0bd51af",
            "c3bff6d4a7a14cdb9966286369ea658b",
            "959cd906984045e1843c10d01bfb6376",
            "e844320c72e24374a8c4dbfc0b91a516",
            "3d6921f7c9224d1a9dc2afa0b2e87752",
            "66b5374d3e404267a156e00372dd2210",
            "ed39a914a0b640238b343157a3c5577c",
            "8d6eb5bbce6d4966aec58c7b4b7cc7ca",
            "fe6a8abec4bd41d3b6bc3c3c95b34bcf",
            "42b16a91d7ed4d23a7567178c474a727",
            "f1fab07ee501442ca5ef7b6ad46993b2",
            "3776b4ecae31413ea65818bd97a73399",
            "09eefd60c31046dc99c83a33b19cfbf4",
            "acac71839bda4a35a026c1a48fc3fce1",
            "f7388984e67a4be7ba1bac9744f5b701",
            "fe82cdc44bbb4fb8b26d72712ed1feac",
            "a3889a4ca6a44cf7a85b18346e68f8ce",
            "5aefeeb749594f10b11ec11da9c16a0e",
            "4eb0133702cf48cdb533966cc73e2774",
            "4f8c429827a0450192c4820319c7a26d",
            "2d4dee9acb9c470098ba4a739550245c",
            "5f2525e62d3b49b2bf8c68c334b26d22",
            "25cf84af610c4c668e3ffa1e5e110dd2",
            "1a2cf441be464629a0831665af1087fd",
            "56d23ce168af4e618ad3a87d3bd58671",
            "9dde919ebe3b4844b897a470c0c32721",
            "85a5f7483e5d4509b03081ea6fa4113f",
            "871a4a12addf4f44a45f1ead607e8120",
            "86b3f4ae141641d699a14ba428818764",
            "fe1e1049433b40259a8a8a61be31c80b",
            "ab2b4294effe4ae3ad63c2aefc145b7f",
            "9e65999f5bd34cb49720f293485645c4",
            "45d2ca7727f84c55a88ee72abf9141dc",
            "6c6f992d088c4e618d7c659e52207491",
            "6bd46157edd842fd8a12e5c369eca5a3",
            "31d4369f00c647d3b3b31a9c02634aa5",
            "0cf8636042f14e0a9bfc2ff23fe4e086",
            "ab46a3802642427d91bb1138289a2eda",
            "c6a6cbee27084a14b4101ebea558c078",
            "45d097c9ea754da48b378d606879312a",
            "8319e84eadb64fec93735636e70a756b",
            "bce2fefd9171495db4b364a20d207fec",
            "1c1997b7afdd43d2b49494f96d016f47",
            "66f32eec64d14a7384b4ebb400d35ad7",
            "711cf30833ec42fdafaa5596a664186a",
            "13ea95511d7c4c9fab1961e7f6d87af8",
            "c9709003f239492297150bd7395e417e",
            "caf11b29aed746658da0d21086a1c0c0",
            "10ce798e77c8480197d8671db7813947",
            "bd3b34affb114d0c9be120f2fb04a1f0"
          ]
        },
        "id": "AnJPxZO6RR23",
        "outputId": "6c5a6afc-9ecb-45e1-ee05-33d77bfd7b62"
      },
      "outputs": [
        {
          "output_type": "stream",
          "name": "stderr",
          "text": [
            "/usr/local/lib/python3.10/dist-packages/huggingface_hub/utils/_token.py:89: UserWarning: \n",
            "The secret `HF_TOKEN` does not exist in your Colab secrets.\n",
            "To authenticate with the Hugging Face Hub, create a token in your settings tab (https://huggingface.co/settings/tokens), set it as secret in your Google Colab and restart your session.\n",
            "You will be able to reuse this secret in all of your notebooks.\n",
            "Please note that authentication is recommended but still optional to access public models or datasets.\n",
            "  warnings.warn(\n"
          ]
        },
        {
          "output_type": "display_data",
          "data": {
            "text/plain": [
              "config.json:   0%|          | 0.00/589 [00:00<?, ?B/s]"
            ],
            "application/vnd.jupyter.widget-view+json": {
              "version_major": 2,
              "version_minor": 0,
              "model_id": "f2b366c077714514b9bf2d7123d16261"
            }
          },
          "metadata": {}
        },
        {
          "output_type": "display_data",
          "data": {
            "text/plain": [
              "model.safetensors:   0%|          | 0.00/498M [00:00<?, ?B/s]"
            ],
            "application/vnd.jupyter.widget-view+json": {
              "version_major": 2,
              "version_minor": 0,
              "model_id": "9c7d837e82dd472597f54dead17dde58"
            }
          },
          "metadata": {}
        },
        {
          "output_type": "display_data",
          "data": {
            "text/plain": [
              "generation_config.json:   0%|          | 0.00/90.0 [00:00<?, ?B/s]"
            ],
            "application/vnd.jupyter.widget-view+json": {
              "version_major": 2,
              "version_minor": 0,
              "model_id": "826931d9f2404abe946c40dff3e11b5d"
            }
          },
          "metadata": {}
        },
        {
          "output_type": "display_data",
          "data": {
            "text/plain": [
              "tokenizer_config.json:   0%|          | 0.00/18.3k [00:00<?, ?B/s]"
            ],
            "application/vnd.jupyter.widget-view+json": {
              "version_major": 2,
              "version_minor": 0,
              "model_id": "ed39a914a0b640238b343157a3c5577c"
            }
          },
          "metadata": {}
        },
        {
          "output_type": "display_data",
          "data": {
            "text/plain": [
              "vocab.txt:   0%|          | 0.00/552k [00:00<?, ?B/s]"
            ],
            "application/vnd.jupyter.widget-view+json": {
              "version_major": 2,
              "version_minor": 0,
              "model_id": "5aefeeb749594f10b11ec11da9c16a0e"
            }
          },
          "metadata": {}
        },
        {
          "output_type": "display_data",
          "data": {
            "text/plain": [
              "tokenizer.json:   0%|          | 0.00/1.36M [00:00<?, ?B/s]"
            ],
            "application/vnd.jupyter.widget-view+json": {
              "version_major": 2,
              "version_minor": 0,
              "model_id": "86b3f4ae141641d699a14ba428818764"
            }
          },
          "metadata": {}
        },
        {
          "output_type": "display_data",
          "data": {
            "text/plain": [
              "special_tokens_map.json:   0%|          | 0.00/125 [00:00<?, ?B/s]"
            ],
            "application/vnd.jupyter.widget-view+json": {
              "version_major": 2,
              "version_minor": 0,
              "model_id": "45d097c9ea754da48b378d606879312a"
            }
          },
          "metadata": {}
        }
      ],
      "source": [
        "# Use a pipeline as a high-level helper\n",
        "from transformers import pipeline\n",
        "\n",
        "pipe = pipeline(\"fill-mask\", model=\"sbunlp/fabert\")"
      ]
    },
    {
      "cell_type": "code",
      "source": [
        "tokenizer = AutoTokenizer.from_pretrained(\"sbunlp/fabert\")\n",
        "model = AutoModelForMaskedLM.from_pretrained(\"sbunlp/fabert\")"
      ],
      "metadata": {
        "id": "tqfmYm6YX07U"
      },
      "execution_count": 62,
      "outputs": []
    },
    {
      "cell_type": "code",
      "source": [
        "text=predictions[0]\n",
        "text"
      ],
      "metadata": {
        "id": "oVxs2CUBRckM",
        "colab": {
          "base_uri": "https://localhost:8080/",
          "height": 37
        },
        "outputId": "e9be4089-b51a-44cc-b806-e8af044fd819"
      },
      "execution_count": 56,
      "outputs": [
        {
          "output_type": "execute_result",
          "data": {
            "text/plain": [
              "'سر تیم ما را بریدند تعدادی بچه کنار مجیید هستند '"
            ],
            "application/vnd.google.colaboratory.intrinsic+json": {
              "type": "string"
            }
          },
          "metadata": {},
          "execution_count": 56
        }
      ]
    },
    {
      "cell_type": "code",
      "source": [
        "text = 'سر تیم ما را بریدند تعدادی بچه کنار [MASK] هستند '"
      ],
      "metadata": {
        "id": "w-C2nEJ7XYZR"
      },
      "execution_count": 58,
      "outputs": []
    },
    {
      "cell_type": "code",
      "source": [
        "pipe(text,top_k=1)"
      ],
      "metadata": {
        "colab": {
          "base_uri": "https://localhost:8080/"
        },
        "id": "LTviJmMuRUaH",
        "outputId": "2efe30f3-d297-43b7-cae7-0fce6fb87df4"
      },
      "execution_count": 59,
      "outputs": [
        {
          "output_type": "execute_result",
          "data": {
            "text/plain": [
              "[{'score': 0.09213720262050629,\n",
              "  'token': 2323,\n",
              "  'token_str': 'هم',\n",
              "  'sequence': 'سر تیم ما را بریدند تعدادی بچه کنار هم هستند'}]"
            ]
          },
          "metadata": {},
          "execution_count": 59
        }
      ]
    },
    {
      "cell_type": "code",
      "source": [
        "reference = \"\"\"\n",
        "زندگی هر روز فرصت‌های جدیدی برای یادگیری و پیشرفت به ما می‌دهد. وقتی به دنیای پیرامونمان نگاه می‌کنیم، می‌توانیم از تجربیات خود و دیگران درس بگیریم. گاهی اوقات چالش‌ها و مشکلاتی که با آنها مواجه می‌شویم، می‌توانند به ما نشان دهند که چقدر قوی و مقاوم هستیم. در این مسیر، دوستان و خانواده نقش بسیار مهمی دارند. آنها می‌توانند با حمایت و تشویق‌هایشان ما را به جلو هدایت کنند.\n",
        "\n",
        "یکی از مهم‌ترین نکات در زندگی این است که همیشه با خودمان صادق باشیم. وقتی با خودمان صادق باشیم، می‌توانیم بهتر تصمیم بگیریم و به اهدافمان نزدیک‌تر شویم. همچنین باید یاد بگیریم که از اشتباهاتمان درس بگیریم. هر اشتباه یک فرصت برای یادگیری است و می‌تواند به ما کمک کند تا در آینده بهتر عمل کنیم.\n",
        "\n",
        "خواندن کتاب، سفر کردن و گفتگو با افراد مختلف می‌تواند دید ما را نسبت به جهان گسترش دهد. هر کدام از این فعالیت‌ها می‌تواند به ما کمک کند تا چیزهای جدیدی یاد بگیریم و درک بهتری از زندگی پیدا کنیم. در نهایت، مهم‌ترین چیز این است که همیشه با امید و انگیزه به زندگی نگاه کنیم و هرگز دست از تلاش برنداریم.\n",
        "\"\"\"\n",
        "\n",
        "wrong = \"\"\"\n",
        "زندگی هر روز فرست‌های جدیدی برای یاد گیری و پیشرفت به ما میدهد. وقتی به دنیای پیرامونمان نگاه میکنیم، میتوانیم از تجریبات خود و دیگران درس بگیریم. گاهی اوقات چالش‌ها و مشکلاتی که با آنها مواجه میشویم، میتوانند به ما نشان دهند که چقدر قوی و مقاوم هستیم. در این مسیر، دوستان و خانوده نقش بسیار مهمی دارند. انها میتوانند با حمایت و تشویق‌هایشان ما را به جلو هدایت کنند.\n",
        "\n",
        "یکی از مهمترین نکات در زندگی این است که همیشه با خودمان صادق باشیم. وقتی با خودمان صادق باشیم، میتوانیم بهتر تصمیم بگیریم و به اهدافمان نزدیک‌تر شویم. همچنین باید یاد بگیریم که از اشتباهاتمان درس بگیریم. هر اشتباه یک فرصت برای یاد گیری است و میتواند به ما کمک کند تا در اینده بهتر عمل کنیم.\n",
        "\n",
        "خواندن کتاب، سفر کردن و گفتگو با افراد مختلف میتواند دید ما را نسبت به جهان گسترش دهد. هر کدام از این فعالیت‌ها میتواند به ما کمک کند تا چیزهای جدیدی یاد بگیریم و درک بهتری از زندگی پیدا کنیم. در نهایت، مهمترین چیز این است که همیشه با امید و انگیزه به زندگی نگاه کنیم و هر گز دست از تلاش برنداریم.\n",
        "\"\"\"\n",
        "\n"
      ],
      "metadata": {
        "id": "Zhns5PzOSWuI"
      },
      "execution_count": null,
      "outputs": []
    },
    {
      "cell_type": "code",
      "source": [
        "# Load model directly\n",
        "from transformers import AutoTokenizer, AutoModelForMaskedLM\n",
        "\n",
        "# tokenizer = AutoTokenizer.from_pretrained(\"sbunlp/fabert\"')\n",
        "# model = AutoModelForMaskedLM.from_pretrained(\"sbunlp/fabert\")'"
      ],
      "metadata": {
        "id": "sMKBFkOQTjHd"
      },
      "execution_count": null,
      "outputs": []
    },
    {
      "cell_type": "code",
      "source": [
        "from transformers import BertTokenizer, BertModel\n",
        "import torch\n",
        "\n",
        "# Load pre-trained model and tokenizer\n",
        "tokenizer = BertTokenizer.from_pretrained('bert-base-uncased')\n",
        "model = BertModel.from_pretrained('bert-base-uncased')\n",
        "# tokenizer = AutoTokenizer.from_pretrained(\"sbunlp/fabert\")\n",
        "# model = AutoModelForMaskedLM.from_pretrained(\"sbunlp/fabert\")\n",
        "# Tokenize input\n",
        "sentence = \"This is a sample sentence.\"\n",
        "inputs = tokenizer(sentence, return_tensors='pt')\n",
        "\n",
        "# Get hidden states from the model\n",
        "with torch.no_grad():\n",
        "    outputs = model(**inputs)\n",
        "\n",
        "# The last hidden state of the [CLS] token\n",
        "cls_embedding = outputs.last_hidden_state[:, 0, :].squeeze()\n",
        "\n",
        "print(cls_embedding)\n"
      ],
      "metadata": {
        "colab": {
          "base_uri": "https://localhost:8080/"
        },
        "collapsed": true,
        "id": "cy2OCjizSk1b",
        "outputId": "98de1358-35e1-402c-896e-55af2b747a56"
      },
      "execution_count": null,
      "outputs": [
        {
          "output_type": "stream",
          "name": "stdout",
          "text": [
            "tensor([-1.9931e-01, -2.1006e-01, -1.9499e-01, -3.3238e-01, -5.2126e-01,\n",
            "        -3.7337e-01,  1.5419e-01,  4.0006e-01,  3.5362e-02, -1.5012e-01,\n",
            "        -3.5267e-01, -2.2861e-01, -9.4948e-02,  1.0328e-01,  5.1352e-01,\n",
            "        -9.0901e-02,  2.3864e-01,  4.8223e-01,  3.1379e-01, -4.0566e-01,\n",
            "         9.8627e-02, -8.8768e-02, -2.7461e-01, -5.0871e-01,  2.0913e-01,\n",
            "        -3.0627e-01, -4.2953e-02, -4.1310e-01, -4.0709e-02,  8.0826e-02,\n",
            "        -6.0292e-02,  3.5720e-01, -3.4175e-01, -1.4824e-01,  3.9080e-01,\n",
            "        -1.3152e-01,  3.6742e-01, -9.1257e-03,  4.3404e-01,  1.4182e-01,\n",
            "        -2.6785e-01, -8.7464e-02,  2.6639e-01,  5.4087e-02, -5.5894e-02,\n",
            "        -5.7430e-01, -2.8187e+00, -3.4312e-01, -2.7937e-01, -3.0941e-01,\n",
            "        -8.8544e-02, -2.2791e-01,  4.0630e-01,  5.0902e-01, -2.2796e-01,\n",
            "         3.7731e-01, -2.9018e-01,  3.1223e-01,  1.9454e-01, -1.0551e-01,\n",
            "         1.5180e-01, -6.6327e-02, -5.1237e-02, -1.4962e-01, -1.7307e-01,\n",
            "         6.6952e-01, -1.2911e-01,  3.7059e-01, -3.5594e-01,  6.1869e-01,\n",
            "        -7.3843e-01, -3.1798e-01,  5.0988e-01, -6.3250e-02, -1.0053e-01,\n",
            "         1.7148e-02, -1.4753e-01,  3.8385e-01, -4.7808e-01, -3.0924e-01,\n",
            "        -1.2295e-01,  4.8241e-01,  2.4598e-01, -2.2652e-01,  5.1321e-01,\n",
            "         1.2797e-01, -4.5710e-01, -3.5858e-01,  1.4172e-01,  4.8679e-01,\n",
            "        -7.1469e-02,  2.9092e-01, -2.4292e-01,  4.0608e-01,  3.1413e-01,\n",
            "         6.6218e-02,  1.0226e-01,  7.1342e-02,  1.2833e-01,  3.7018e-01,\n",
            "         1.5392e-01, -8.8395e-02,  4.2114e-01, -6.6741e-01,  7.7718e-02,\n",
            "        -2.5994e-01, -3.6075e-01, -2.7081e-01,  2.5821e-01, -2.6300e+00,\n",
            "         4.3695e-01,  2.9651e-01, -2.0438e-01, -4.1432e-02, -2.1981e-01,\n",
            "         6.1617e-01,  4.8632e-01,  1.4962e-01,  1.5606e-01,  8.0254e-02,\n",
            "        -2.2794e-01,  2.7748e-01, -4.6043e-02, -3.9477e-01, -1.6218e-01,\n",
            "         4.4527e-01,  4.0534e-01,  1.3774e-01,  4.1459e-01,  2.3515e-01,\n",
            "         9.3670e-02,  5.7070e-01,  2.0228e-01, -2.3557e-01, -1.9946e-01,\n",
            "        -2.2103e-01,  3.9285e-01,  2.5002e-03, -4.6350e-01, -1.7261e-01,\n",
            "        -1.5446e-01, -3.0709e-01, -3.0360e+00, -6.0181e-02,  6.3722e-01,\n",
            "         2.7171e-01, -4.4575e-01, -1.5257e-01,  4.3496e-01,  3.1569e-01,\n",
            "         1.4711e-01, -3.3144e-02, -1.2506e-01,  9.9938e-02, -4.9785e-01,\n",
            "        -9.8670e-03, -1.0240e-01, -7.1758e-02,  4.9435e-01,  5.3228e-01,\n",
            "         3.2184e-01, -4.4959e-02,  2.6361e-01, -1.4600e-01, -2.1870e-01,\n",
            "         5.2931e-02,  5.6657e-01, -9.3380e-02, -4.2001e-02,  1.5107e-01,\n",
            "        -4.4532e-01, -1.6919e-02,  4.4930e-01, -9.9420e-02, -2.6831e-03,\n",
            "         1.6315e-02,  1.3821e-01,  3.1373e-01,  6.0706e-01, -3.5391e-01,\n",
            "        -3.5241e-01,  5.8027e-01,  9.8132e-02, -2.1107e-01,  3.8250e-01,\n",
            "        -5.2707e-02,  6.4379e-01, -6.1862e-02, -2.6396e-01,  3.1656e-01,\n",
            "        -3.4786e-02, -2.8551e-01,  2.0812e-01, -1.4640e-01,  4.6348e-01,\n",
            "         5.1301e-01, -3.0805e-02, -5.8840e-01, -1.5813e-01,  4.5566e-01,\n",
            "        -1.2846e-01,  3.8157e-02, -2.9289e-01,  6.0470e-03,  2.0695e-02,\n",
            "         4.0366e+00,  2.0630e-01,  1.2117e-02,  2.4040e-01,  3.5470e-01,\n",
            "        -2.2312e-01,  3.8474e-01,  2.8817e-03, -3.1425e-01,  3.9389e-01,\n",
            "        -1.0073e-01,  4.0538e-01, -7.2576e-02, -3.2731e-01, -1.6702e-01,\n",
            "         1.6620e-01,  1.6477e-02, -1.2739e-01,  2.3062e-01, -3.3341e-01,\n",
            "         1.1688e-01,  2.6764e-01,  7.5112e-01,  1.8606e-01, -1.5050e+00,\n",
            "         1.0184e-01,  1.8914e-01, -6.9409e-02,  2.5706e-01, -3.0042e-01,\n",
            "        -1.4877e-01, -4.7604e-02, -7.5196e-02, -7.9327e-02,  7.7689e-02,\n",
            "         1.1813e-01,  5.4411e-01, -2.4391e-01, -8.3163e-02, -3.0762e-01,\n",
            "         9.8959e-02,  1.4452e-01, -1.5493e-01,  9.0159e-02, -1.0279e-01,\n",
            "         5.6127e-01,  6.0795e-03, -5.6659e-02, -1.0197e-01, -9.8093e-02,\n",
            "         3.2186e-01,  2.8652e-01,  4.0330e-01, -2.7571e-01,  2.8171e-01,\n",
            "        -4.8766e-01, -5.2754e-02,  9.6690e-02,  2.8297e-01, -6.9759e-01,\n",
            "        -2.1216e-01, -1.9327e-01, -1.0109e-01,  1.6232e-01, -1.1677e-01,\n",
            "        -3.5957e-01, -7.4881e-01, -2.0674e-01, -3.7358e+00,  1.6144e-01,\n",
            "         2.6764e-01,  5.0555e-03,  1.8533e-01, -2.6812e-01,  3.5724e-01,\n",
            "         1.7286e-01,  2.2695e-01, -4.5860e-01,  4.0801e-01,  2.1155e-01,\n",
            "        -3.1530e-01,  3.4403e-01, -1.1894e-01,  2.8562e-01, -1.6701e-01,\n",
            "        -4.2068e-01, -6.0244e-02, -5.8939e-01, -6.5145e-02,  2.5708e-01,\n",
            "        -9.7368e-02,  3.0649e-01, -1.0225e-01, -1.7358e-02, -1.8326e-01,\n",
            "        -5.1663e-01, -7.8053e-02, -4.6081e-01, -1.2110e-01, -4.0540e-01,\n",
            "         9.1830e-02, -1.4716e-01,  1.1766e-01, -2.5854e+00,  5.2360e-01,\n",
            "        -1.7908e-01,  2.1982e-02, -1.2550e-01, -1.1849e-01,  4.4280e-01,\n",
            "         4.2527e-02, -3.5688e-01,  1.6551e-01,  3.1205e-02, -3.9278e-01,\n",
            "        -3.4906e-01,  5.5584e-01,  3.8801e-01,  3.1289e-01,  3.6490e-01,\n",
            "         2.8968e-01,  1.7700e-01,  1.8086e-01, -1.3186e-01,  2.1734e-01,\n",
            "         1.7169e-01, -2.1556e-01,  2.7522e-01,  4.9810e-01, -2.5711e-01,\n",
            "         6.3121e-02, -2.9292e-01, -1.6811e-01,  5.2222e-02,  9.9431e-02,\n",
            "         1.1774e-01, -4.1061e-01, -6.5281e-01,  2.7693e-02,  3.2593e-01,\n",
            "         3.0649e-01,  4.5133e-01, -8.1463e-02, -2.8926e-01,  7.0486e-01,\n",
            "         2.0125e-01,  6.7680e-02,  4.9323e-01,  1.2870e-01, -2.1879e-01,\n",
            "        -6.6774e-02,  2.2018e-01, -2.7989e-02, -4.9374e-01, -1.1444e-01,\n",
            "         1.2631e+00,  2.5255e-01,  2.7994e-01, -1.5180e-01,  5.0083e-01,\n",
            "         9.8789e-02,  4.0591e-01,  3.6115e-01,  9.2884e-01, -2.9713e-01,\n",
            "         2.4190e-01, -4.3486e-01,  2.7121e-01, -6.1407e-01,  5.3276e-01,\n",
            "        -9.5653e-02, -2.0974e-02,  2.1591e-01,  2.1858e-01,  7.2980e-02,\n",
            "        -3.4177e-01, -9.3823e-01, -1.9244e-02, -8.5077e-02, -2.0065e-02,\n",
            "         2.6509e-02,  1.4711e-01, -2.2684e-01, -1.7425e-01, -1.7085e-01,\n",
            "        -5.5260e-01,  4.1716e-01, -1.3897e-01, -1.5128e-01,  1.3077e-01,\n",
            "         1.3546e-01, -6.3513e-01, -2.4565e-01, -4.6022e-01,  9.6695e-02,\n",
            "         7.3064e-02,  1.3724e-01, -3.5640e-01,  3.0065e-02,  6.2696e-01,\n",
            "        -9.2687e-01,  1.5384e-01, -5.3219e-01, -1.9651e-01, -3.9379e-01,\n",
            "        -2.2813e-02,  3.7789e-02, -4.3679e-01,  9.2247e-02, -5.0490e-01,\n",
            "         4.6304e-01,  1.1664e-01,  3.5718e-01, -2.0517e-02, -8.1102e-02,\n",
            "        -9.7490e-02,  1.0834e-01,  7.0307e-01,  1.1100e-01, -5.8984e-01,\n",
            "         3.9217e-01,  5.5303e-01,  2.8366e-01,  3.0902e-01, -1.2045e-01,\n",
            "        -9.1702e-02, -9.0646e-02, -5.8402e-01,  7.7800e-03,  1.2271e-01,\n",
            "         1.0843e-01, -3.6805e-01, -3.7716e-01, -2.9331e-01, -7.8955e-02,\n",
            "        -4.3406e-01, -3.8633e-01,  8.9939e-02, -6.8652e-01, -2.9330e-01,\n",
            "         5.1359e-01,  4.3557e-01, -2.1248e-01,  6.1419e-01, -1.4565e-02,\n",
            "        -4.9572e-01,  2.5308e-01, -1.5077e-01,  5.9108e-01,  7.8881e-02,\n",
            "        -2.0988e-01, -4.2746e-01,  5.4167e-01,  1.3907e-01, -3.9173e-01,\n",
            "        -1.6958e-01, -4.5240e-01,  1.1689e-01, -2.0696e-01, -1.5593e-01,\n",
            "         3.8031e-02,  6.5321e-02,  2.7117e-02,  1.2030e-01,  3.4665e-01,\n",
            "        -1.3699e+00,  2.1047e-01,  5.7763e-01, -2.9669e-01, -9.4182e-02,\n",
            "         1.3602e-01, -4.7654e-01,  7.0791e-01, -2.5507e-01,  7.2977e-02,\n",
            "        -2.2959e-01,  8.3416e-02,  2.3315e-01,  1.1325e-02,  2.8920e-01,\n",
            "         1.0984e-01,  1.6702e-01, -9.4575e-02, -6.5310e-02, -1.0284e-01,\n",
            "        -1.3692e-01,  5.4593e-01,  4.6063e-02,  6.3547e-02,  2.7424e-01,\n",
            "         8.8899e-02, -2.4336e-01,  2.7160e-01, -6.1784e-02,  2.8366e-01,\n",
            "         7.1752e-02, -5.0793e-01, -9.3107e-01, -2.8283e-01,  5.8552e-02,\n",
            "         3.5903e-03,  1.3892e-01, -2.4775e-01,  6.2343e-01,  5.9640e-01,\n",
            "        -1.7766e-01,  5.0943e-01,  2.7851e-01, -1.0582e-01,  8.4790e-02,\n",
            "         5.1810e-01, -2.3226e-01,  3.7380e-01,  4.8709e-02, -6.0073e-01,\n",
            "        -2.1212e-01, -4.7688e-01, -3.7001e-01, -2.2423e-01,  1.9235e-01,\n",
            "        -2.9319e-01,  2.0116e-01, -2.0180e-01, -2.6537e-01, -3.6094e-01,\n",
            "         7.8484e-02, -4.1788e-01, -2.2344e-01,  3.4220e-01, -5.7832e-01,\n",
            "        -6.8714e-01,  4.6616e-02, -1.3909e-01, -1.7433e-01,  3.3012e-01,\n",
            "         3.6038e-01, -2.7385e-03, -3.8229e-01, -5.2169e-01, -5.8299e-01,\n",
            "         1.6495e-02,  6.7156e-02, -6.1644e-02,  3.1706e-01, -3.2123e-02,\n",
            "         3.6154e-01, -6.2563e-01, -1.2502e-01,  1.8970e-01,  3.3184e-01,\n",
            "         7.9714e-02, -9.8096e-02,  1.0836e-01, -3.1318e-02, -4.3369e-03,\n",
            "        -6.5699e-01, -4.7242e-01,  6.7217e-01,  1.5739e-01,  3.3253e-01,\n",
            "         5.7859e-02, -9.2425e-02,  1.2431e-01,  2.1658e-01, -7.0786e-02,\n",
            "        -1.7014e-01,  8.0898e-01,  1.3431e-01,  5.1995e-01,  3.6336e-01,\n",
            "         7.3714e-01,  4.8223e-01,  3.1297e-01, -3.1685e-01, -3.7898e-01,\n",
            "        -1.4600e-01,  1.2413e-01,  1.1384e-01, -3.3398e-01,  2.4653e-01,\n",
            "        -7.2315e-03,  2.5816e-01, -1.4265e-01,  2.0977e+00,  5.4619e-01,\n",
            "         1.1188e-01, -1.5311e-01,  4.8226e-01,  2.5049e-01, -2.3149e-01,\n",
            "         1.5525e-01, -2.6883e-01,  4.3593e-01, -4.5575e-01,  8.5268e-02,\n",
            "        -8.3925e-02,  2.5431e-01,  1.7029e-01, -5.0464e-02, -2.2172e-02,\n",
            "        -1.2055e-01, -7.3801e-01, -5.0287e-01, -4.5907e-01,  6.4970e-01,\n",
            "         2.0220e-01, -9.9737e-02,  7.9524e-02,  4.5691e-01,  3.0991e-01,\n",
            "        -1.0783e-01,  1.2537e-01,  4.4630e-01, -9.2177e-02,  4.3376e-01,\n",
            "         1.9554e-01,  1.3705e-01, -3.0518e-01,  8.8368e-02, -1.8516e-01,\n",
            "        -3.2963e-01, -1.2486e-01,  7.2925e-02, -1.3870e-01, -4.7312e-01,\n",
            "         4.4678e-01, -7.7522e-02, -7.1663e-01,  6.1880e-01, -1.0642e-01,\n",
            "        -2.7824e-01,  3.2750e-01,  1.2335e-01,  3.1536e-01,  5.9453e-02,\n",
            "        -4.8985e-01,  2.7541e-01, -7.4029e-01, -2.1993e-01,  5.4606e-01,\n",
            "         3.7490e-02, -2.3555e-01,  2.6681e-01,  2.6444e-01,  4.0547e-01,\n",
            "        -6.9216e-02, -3.6966e-01, -4.1167e-01, -3.8734e-01, -2.1750e-01,\n",
            "         2.6803e-01,  5.4211e-02, -1.9069e-01,  1.2799e-01,  6.5159e-01,\n",
            "         7.2349e-01,  3.8591e-01,  5.4467e-01,  1.3402e-02,  9.8271e-02,\n",
            "        -2.3522e-01, -2.7227e-01, -2.9282e+00,  6.1684e-02,  2.4489e-01,\n",
            "         1.4960e-01,  1.8363e-01,  3.8241e-01,  1.0243e-01,  1.7029e-01,\n",
            "         3.9546e-01,  4.6244e-02,  3.2041e-01,  2.7289e-01,  2.2475e-01,\n",
            "         5.5596e-02, -5.9389e-02, -2.3816e-02,  2.7363e-01, -3.4896e-01,\n",
            "        -3.7720e-02, -2.1528e-01,  2.9451e-03,  3.9546e-02,  2.8264e-01,\n",
            "        -1.6997e-01, -4.2141e-01, -1.4559e-01, -8.8973e-02, -2.3066e-01,\n",
            "         2.2480e-01,  2.4244e-01, -2.1182e-01,  1.3585e-01, -1.5449e-01,\n",
            "         1.0064e-01, -2.2089e-02,  5.3289e-02,  2.1585e-01, -2.6743e-01,\n",
            "         4.5467e-01,  5.0240e-01, -3.0493e-01,  5.5557e-01, -3.3197e-01,\n",
            "         4.1776e-01, -3.5728e-01, -1.6277e-01,  4.7863e-01, -2.3851e-01,\n",
            "         5.0998e-01, -2.2673e-01, -2.6299e-01,  7.1520e-03,  1.2212e-01,\n",
            "         1.5439e-01,  5.2743e-01, -1.3974e-02,  1.1842e-01, -4.3623e-01,\n",
            "        -4.1503e-02, -1.1698e-01,  7.1318e-02, -3.2568e-01, -7.7784e-02,\n",
            "        -1.8601e-01,  5.9558e-01, -3.9695e-01, -1.6491e-01,  1.6225e-01,\n",
            "        -1.7909e-01, -2.2336e-01, -2.4492e-01,  2.1276e-01,  4.3684e-01,\n",
            "         4.0051e-01,  1.7731e-01,  9.4841e-02,  2.3345e-01,  4.1189e-01,\n",
            "         4.3457e-01,  2.3673e-01,  5.1201e-02, -5.1142e-01, -1.5115e-01,\n",
            "         4.8707e-02,  5.6607e-01, -7.8357e+00,  1.4715e-01, -3.4047e-01,\n",
            "        -5.3889e-01, -8.7486e-02, -2.4710e-01,  6.1002e-02, -2.0269e-01,\n",
            "        -2.0082e-01,  6.2205e-02, -1.1414e-01,  3.5408e-01,  1.2644e-01,\n",
            "        -4.7334e-01,  8.6140e-02,  7.1031e-01])\n"
          ]
        }
      ]
    },
    {
      "cell_type": "code",
      "source": [
        "from transformers import BertTokenizer, BertForMaskedLM\n",
        "import torch\n",
        "\n",
        "# Load pre-trained model and tokenizer\n",
        "# tokenizer = BertTokenizer.from_pretrained('bert-base-uncased')\n",
        "# model = BertForMaskedLM.from_pretrained('bert-base-uncased')\n",
        "tokenizer = AutoTokenizer.from_pretrained(\"sbunlp/fabert\")\n",
        "model = AutoModelForMaskedLM.from_pretrained(\"sbunlp/fabert\")\n",
        "# Set the model to evaluation mode\n",
        "model.eval()\n",
        "\n",
        "# Prepare the input sentence\n",
        "sentence = \"سلام بر تو [MASK] من.\"\n",
        "inputs = tokenizer(sentence, return_tensors='pt')\n",
        "\n",
        "# Get predictions for the masked token\n",
        "with torch.no_grad():\n",
        "    outputs = model(**inputs)\n",
        "\n",
        "\n"
      ],
      "metadata": {
        "id": "q_R3eIh6VsN7"
      },
      "execution_count": null,
      "outputs": []
    },
    {
      "cell_type": "code",
      "source": [
        "# Get the index of the masked token\n",
        "masked_index = (inputs.input_ids == tokenizer.mask_token_id).nonzero(as_tuple=True)[1]\n",
        "\n",
        "# masked_index = 1"
      ],
      "metadata": {
        "id": "OLmKY_dRV61X"
      },
      "execution_count": null,
      "outputs": []
    },
    {
      "cell_type": "code",
      "source": [
        "# masked_index = torch.tensor(0).unsqueeze(0)\n",
        "masked_index"
      ],
      "metadata": {
        "colab": {
          "base_uri": "https://localhost:8080/"
        },
        "id": "JJEZ3TneZfRk",
        "outputId": "f9420ec7-22d0-44e4-b988-e15f364ba415"
      },
      "execution_count": null,
      "outputs": [
        {
          "output_type": "execute_result",
          "data": {
            "text/plain": [
              "tensor([4])"
            ]
          },
          "metadata": {},
          "execution_count": 137
        }
      ]
    },
    {
      "cell_type": "code",
      "source": [
        "# Get the predicted token IDs for the masked position\n",
        "predicted_token_ids = torch.topk(outputs.logits[0, masked_index], k=5).indices\n"
      ],
      "metadata": {
        "id": "R06wz1kkV-wX"
      },
      "execution_count": null,
      "outputs": []
    },
    {
      "cell_type": "code",
      "source": [
        "\n",
        "# Convert token IDs to tokens\n",
        "# predicted_tokens = [tokenizer.decode(token_id) for token_id in predicted_token_ids[0]]\n",
        "\n",
        "predicted_tokens = [''.join(tok for tok in tokenizer.decode(token_id).split(' ')) for token_id in predicted_token_ids[0]]\n"
      ],
      "metadata": {
        "collapsed": true,
        "id": "eMSAtubqWBSi"
      },
      "execution_count": null,
      "outputs": []
    },
    {
      "cell_type": "code",
      "source": [
        "# predicted_tokens = [''.join(tok for tok in tokenizer.decode(token_id).split(' ')) for token_id in predicted_token_ids[0]]\n"
      ],
      "metadata": {
        "id": "tcdmJYoKZy2T"
      },
      "execution_count": null,
      "outputs": []
    },
    {
      "cell_type": "code",
      "source": [
        "predicted_tokens"
      ],
      "metadata": {
        "colab": {
          "base_uri": "https://localhost:8080/"
        },
        "id": "0CnwJUO2WkPP",
        "outputId": "19763e29-4425-4fef-d362-cb6f28d65b71"
      },
      "execution_count": null,
      "outputs": [
        {
          "output_type": "execute_result",
          "data": {
            "text/plain": [
              "['آقای', 'مولای', 'عشق', 'حسین', 'عزیز']"
            ]
          },
          "metadata": {},
          "execution_count": 141
        }
      ]
    },
    {
      "cell_type": "code",
      "source": [],
      "metadata": {
        "id": "XsucYkQJWCxq"
      },
      "execution_count": null,
      "outputs": []
    }
  ]
}